{
  "nbformat": 4,
  "nbformat_minor": 0,
  "metadata": {
    "colab": {
      "provenance": [],
      "gpuType": "T4",
      "include_colab_link": true
    },
    "kernelspec": {
      "name": "python3",
      "display_name": "Python 3"
    },
    "language_info": {
      "name": "python"
    },
    "accelerator": "GPU"
  },
  "cells": [
    {
      "cell_type": "markdown",
      "metadata": {
        "id": "view-in-github",
        "colab_type": "text"
      },
      "source": [
        "<a href=\"https://colab.research.google.com/github/crhysc/jarvis-tools-notebooks/blob/master/jarvis-tools-notebooks/cdvae_example.ipynb\" target=\"_parent\"><img src=\"https://colab.research.google.com/assets/colab-badge.svg\" alt=\"Open In Colab\"/></a>"
      ]
    },
    {
      "cell_type": "markdown",
      "source": [
        "# Inverse Design of Next-Generation Superconductors Using Data-Driven Deep Generative Models\n",
        "\n",
        "# Tutorial: CDVAE, Crystal Diffusion Variational AutoEncoder\n",
        "\n",
        "\n",
        "\n",
        "[Reference DOI](https://pubs.acs.org/doi/10.1021/acs.jpclett.3c01260)\n",
        "\n"
      ],
      "metadata": {
        "id": "Rk45Zr9qZPGl"
      }
    },
    {
      "cell_type": "markdown",
      "source": [
        "Authors: Kamal Choudhary (kamal.choudhary@nist.gov), Charles \"Rhys\" Campbell (crc00042@mix.wvu.edu)"
      ],
      "metadata": {
        "id": "0aMENRlqpc4a"
      }
    },
    {
      "cell_type": "markdown",
      "source": [
        "## Install condacolab"
      ],
      "metadata": {
        "id": "ExCdKDFZnEGq"
      }
    },
    {
      "cell_type": "code",
      "source": [
        "!pip install -q condacolab\n",
        "import condacolab, os, sys\n",
        "condacolab.install()\n",
        "print(\"Done\")"
      ],
      "metadata": {
        "id": "b8CZGRlH2mNT",
        "collapsed": true
      },
      "execution_count": null,
      "outputs": []
    },
    {
      "cell_type": "markdown",
      "source": [
        "## Install CDVAE"
      ],
      "metadata": {
        "id": "tQexN4VbnHrk"
      }
    },
    {
      "cell_type": "code",
      "source": [
        "import os\n",
        "%cd /content\n",
        "if not os.path.exists('cdvae'):\n",
        "  !git clone https://github.com/txie-93/cdvae.git\n",
        "print(\"Done\")"
      ],
      "metadata": {
        "collapsed": true,
        "id": "utHSOTsFmtag"
      },
      "execution_count": null,
      "outputs": []
    },
    {
      "cell_type": "markdown",
      "source": [
        "## Create conda environment for CDVAE\n",
        "\n",
        "\n"
      ],
      "metadata": {
        "id": "S2kMHAXcnQ1M"
      }
    },
    {
      "cell_type": "markdown",
      "source": [
        "#### Creating the legacy env takes 7 minutes"
      ],
      "metadata": {
        "id": "-VWd8fknwUJc"
      }
    },
    {
      "cell_type": "code",
      "source": [
        "%cd /content/cdvae\n",
        "%pwd\n",
        "#!mamba env update -n base -f env.yml -vv\n",
        "!mamba env create -p /usr/local/envs/cdvae_legacy -f env.yml\n",
        "!conda run -p /usr/local/envs/cdvae_legacy \\\n",
        "    mamba install -c conda-forge \"torchmetrics<0.8\" --yes\n",
        "!conda run -p /usr/local/envs/cdvae_legacy \\\n",
        "    mamba install mkl=2024.0 --yes\n",
        "!conda run -p /usr/local/envs/cdvae_legacy \\\n",
        "    pip install \"monty==2022.9.9\"\n",
        "!conda run -p /usr/local/envs/cdvae_legacy \\\n",
        "    mamba install -c conda-forge \"pymatgen>=2022.0.8,<2023\" --yes\n",
        "!conda run -p /usr/local/envs/cdvae_legacy \\\n",
        "    pip install -e .\n",
        "print(\"Done\")"
      ],
      "metadata": {
        "collapsed": true,
        "id": "lLRgLoaEndRK"
      },
      "execution_count": null,
      "outputs": []
    },
    {
      "cell_type": "markdown",
      "source": [
        "# Switch Colab Runtime to GPU\n",
        "At the top menu by the Colab logo, select **Runtime** -> **Change runtime type** -> **Any GPU**  \n",
        "\n",
        "Otherwise, later code will error"
      ],
      "metadata": {
        "id": "DEhUGVJPNrgM"
      }
    },
    {
      "cell_type": "code",
      "source": [
        "!PROJECT_ROOT=/content/cdvae \\\n",
        " HYDRA_JOBS=/content/cdvae/hydra_outputs \\\n",
        " WABDB_DIR=/content/cdvae/wandb_outputs \\\n",
        " conda run -p /usr/local/envs/cdvae_legacy --live-stream \\\n",
        "   python -u -m cdvae.run data=perov expname=perov"
      ],
      "metadata": {
        "collapsed": true,
        "id": "TZTgF7EfqBFk"
      },
      "execution_count": null,
      "outputs": []
    },
    {
      "cell_type": "code",
      "source": [
        "!conda run -p /usr/local/envs/cdvae_legacy python -c \"import sys; print(sys.version)\"\n",
        "# proves that conda is running python 3.8.*"
      ],
      "metadata": {
        "id": "JS0mleMszJww"
      },
      "execution_count": null,
      "outputs": []
    },
    {
      "cell_type": "markdown",
      "source": [
        "___\n",
        "___\n",
        "___"
      ],
      "metadata": {
        "id": "_MiJewy7qe6Z"
      }
    },
    {
      "cell_type": "code",
      "source": [
        "%%time\n",
        "# Install required packages.\n",
        "import os\n",
        "import torch\n",
        "os.environ['TORCH'] = torch.__version__\n",
        "print(torch.__version__)\n",
        "\n",
        "!pip install -q torch-scatter -f https://data.pyg.org/whl/torch-${TORCH}.html\n",
        "!pip install -q torch-sparse -f https://data.pyg.org/whl/torch-${TORCH}.html\n",
        "!pip install -q git+https://github.com/pyg-team/pytorch_geometric.git\n",
        "!pip install -q pytorch-lightning wandb torchmetrics==0.6.0 pymatgen==2022.4.26\n",
        "!pip install -q hydra-core jarvis-tools python-dotenv p-tqdm accelerate"
      ],
      "metadata": {
        "id": "8JQuTHIOTxO-",
        "collapsed": true
      },
      "execution_count": null,
      "outputs": []
    },
    {
      "cell_type": "code",
      "source": [
        "# !pip install -q pytorch-lightning==1.3.6"
      ],
      "metadata": {
        "id": "80U3NK51fG_D"
      },
      "execution_count": null,
      "outputs": []
    },
    {
      "cell_type": "code",
      "source": [
        "import os\n",
        "os.chdir('/content')\n",
        "if not os.path.exists('cdvae'):\n",
        "  !git clone https://github.com/JARVIS-Materials-Design/cdvae.git\n",
        "\n",
        "os.chdir('cdvae')\n",
        "!pip install -e ."
      ],
      "metadata": {
        "id": "S7n01nvXUWxr",
        "collapsed": true
      },
      "execution_count": null,
      "outputs": []
    },
    {
      "cell_type": "code",
      "source": [
        "import os\n",
        "if not os.path.exists(\"/content/cdvae/WABDB\"):\n",
        "  os.makedirs(\"/content/cdvae/WABDB\")\n",
        "if not os.path.exists(\"/content/cdvae/HYDRA_JOBS\"):\n",
        "  os.makedirs(\"/content/cdvae/HYDRA_JOBS\")\n",
        "os.environ[\"PROJECT_ROOT\"]=\"/content/cdvae\"\n",
        "os.environ[\"WABDB\"]=\"/content/cdvae/WABDB\"\n",
        "os.environ[\"WABDB_DIR\"]=\"/content/cdvae/WABDB\"\n",
        "os.environ[\"HYDRA_JOBS\"]=\"/content/cdvae/HYDRA_JOBS\"\n",
        "%env HYDRA_FULL_ERROR=1\n"
      ],
      "metadata": {
        "id": "pR1hZ7vWVKU5"
      },
      "execution_count": null,
      "outputs": []
    },
    {
      "cell_type": "code",
      "source": [
        "!echo $HYDRA_FULL_ERROR"
      ],
      "metadata": {
        "id": "xazagGi1X8jR"
      },
      "execution_count": null,
      "outputs": []
    },
    {
      "cell_type": "markdown",
      "source": [
        "Data was generated using this [script](https://github.com/JARVIS-Materials-Design/cdvae/blob/main/scripts/generate_data_cdvae.py)."
      ],
      "metadata": {
        "id": "ptuA7Qt9umnB"
      }
    },
    {
      "cell_type": "code",
      "source": [
        "\n",
        "import yaml\n",
        "import pprint\n",
        "\n",
        "with open('/content/cdvae/conf/train/default.yaml','r') as f:\n",
        "  yam = yaml.safe_load(f)\n",
        "#yam.pop('early_stopping')\n",
        "#yam['pl_trainer']['fast_dev_run']=True\n",
        "yam['pl_trainer']['gpus']=0\n",
        "\n",
        "with open('/content/cdvae/conf/train/default.yaml','w') as f:\n",
        "  yaml.dump(yam,f)\n",
        "\n",
        "pprint.pprint(yam)\n",
        "\n",
        "with open('/content/cdvae/conf/optim/default.yaml','r') as f:\n",
        "  yam = yaml.safe_load(f)\n",
        "\n",
        "yam['use_lr_scheduler']=False\n",
        "\n",
        "with open('/content/cdvae/conf/optim/default.yaml','w') as f:\n",
        "  yaml.dump(yam,f)\n",
        "\n",
        "pprint.pprint(yam)"
      ],
      "metadata": {
        "id": "YvPs-__Z4HFa"
      },
      "execution_count": null,
      "outputs": []
    },
    {
      "cell_type": "code",
      "source": [
        "%%time\n",
        "import os\n",
        "os.environ[\"WANDB_ANONYMOUS\"] = \"must\"\n",
        "!python cdvae/run.py data=supercon expname=supercon_test02 model.predict_property=True"
      ],
      "metadata": {
        "id": "-Lf5xLDOoBEQ"
      },
      "execution_count": null,
      "outputs": []
    },
    {
      "cell_type": "code",
      "source": [
        "!pip install smact"
      ],
      "metadata": {
        "id": "33GA1cQy3Csl"
      },
      "execution_count": null,
      "outputs": []
    },
    {
      "cell_type": "markdown",
      "source": [
        "Export conda environment"
      ],
      "metadata": {
        "id": "--9p3Djr-u5L"
      }
    },
    {
      "cell_type": "code",
      "source": [
        "!conda env export"
      ],
      "metadata": {
        "id": "trnLXws0-rXx"
      },
      "execution_count": null,
      "outputs": []
    },
    {
      "cell_type": "code",
      "source": [
        "# from datetime import date\n",
        "# d1 = today.strftime(\"%Y-%m-%d\")"
      ],
      "metadata": {
        "id": "4LiaFR3fRM0h"
      },
      "execution_count": null,
      "outputs": []
    },
    {
      "cell_type": "code",
      "source": [
        "temp_dir=!ls /content/cdvae/HYDRA_JOBS/singlerun/"
      ],
      "metadata": {
        "id": "qQixt8zk3qBK"
      },
      "execution_count": null,
      "outputs": []
    },
    {
      "cell_type": "code",
      "source": [
        "os.environ['TMP_DIR']=temp_dir[0]"
      ],
      "metadata": {
        "id": "gYzAZ7Lz4yE5"
      },
      "execution_count": null,
      "outputs": []
    },
    {
      "cell_type": "code",
      "source": [
        "!echo $TMP_DIR"
      ],
      "metadata": {
        "id": "g2ejB6Kw5HQd"
      },
      "execution_count": null,
      "outputs": []
    },
    {
      "cell_type": "markdown",
      "source": [
        "Adjust path accordingly"
      ],
      "metadata": {
        "id": "eZXPKpy40rTj"
      }
    },
    {
      "cell_type": "code",
      "source": [
        "%%time\n",
        "!python scripts/evaluate.py --n_step_each 5 --num_batches_to_samples 5 --batch_size 5 --model_path \"/content/cdvae/HYDRA_JOBS/singlerun/$TMP_DIR/supercon_test02\" --tasks opt gen recon"
      ],
      "metadata": {
        "id": "gkmcwrDToBBl"
      },
      "execution_count": null,
      "outputs": []
    },
    {
      "cell_type": "code",
      "source": [
        "!pip install matminer"
      ],
      "metadata": {
        "id": "OCTlzaHF0g5Q"
      },
      "execution_count": null,
      "outputs": []
    },
    {
      "cell_type": "code",
      "source": [
        "%%time\n",
        "!python scripts/compute_metrics.py --root_path  \"/content/cdvae/HYDRA_JOBS/singlerun/$TMP_DIR/supercon_test02\" --tasks   gen recon"
      ],
      "metadata": {
        "id": "2pa1a6M93Zl6"
      },
      "execution_count": null,
      "outputs": []
    },
    {
      "cell_type": "code",
      "source": [
        "temp_dir[0]"
      ],
      "metadata": {
        "id": "-HVjv7DcBaLm"
      },
      "execution_count": null,
      "outputs": []
    },
    {
      "cell_type": "code",
      "source": [
        "!ls /content/cdvae/HYDRA_JOBS/singlerun/$TMP_DIR/supercon_test02/"
      ],
      "metadata": {
        "id": "GKUpnMENBgy9"
      },
      "execution_count": null,
      "outputs": []
    },
    {
      "cell_type": "code",
      "source": [
        "import torch\n",
        "from jarvis.core.atoms import Atoms\n",
        "from jarvis.core.atoms import pmg_to_atoms\n",
        "from jarvis.core.lattice import Lattice\n",
        "from jarvis.core.specie import atomic_numbers_to_symbols\n",
        "from jarvis.db.jsonutils import dumpjson\n",
        "from jarvis.analysis.structure.spacegroup import Spacegroup3D\n",
        "from collections import Counter\n",
        "from pymatgen.core.structure import Structure\n",
        "import pandas as pd\n",
        "opt_path = \"/content/cdvae/HYDRA_JOBS/singlerun/\"+temp_dir[0]+\"/supercon_test02/eval_opt.pt\"\n",
        "gen_path = \"/content/cdvae/HYDRA_JOBS/singlerun/\"+temp_dir[0]+\"/supercon_test02/eval_gen.pt\"\n",
        "recon_path = \"/content/cdvae/HYDRA_JOBS/singlerun/\"+temp_dir[0]+\"/supercon_test02/eval_recon.pt\"\n",
        "csv_path = \"/content/cdvae/data/supercon/test.csv\"\n",
        "df = pd.read_csv(csv_path)\n",
        "x = torch.load(recon_path)\n",
        "y = torch.load(gen_path)\n",
        "z = torch.load(opt_path)\n",
        "print(len(df),x[\"num_atoms\"].shape,y[\"num_atoms\"].shape,z[\"num_atoms\"].shape)"
      ],
      "metadata": {
        "id": "ChMSlbqriZ7T"
      },
      "execution_count": null,
      "outputs": []
    },
    {
      "cell_type": "code",
      "source": [
        "num_atoms = x[\"num_atoms\"]\n",
        "atom_types = x[\"atom_types\"]\n",
        "frac_coords = x[\"frac_coords\"]\n",
        "lengths = x[\"lengths\"]\n",
        "angles = x[\"angles\"]\n",
        "index_list = torch.cumsum(num_atoms[0], dim=0).numpy().tolist()\n",
        "indice_tuples = []\n",
        "for i, ii in enumerate(index_list):\n",
        "    if i == 0:\n",
        "        tup = [0, index_list[i] - 1]\n",
        "    else:\n",
        "        tup = [index_list[i - 1] - 1, index_list[i] - 1]\n",
        "    indice_tuples.append(tup)\n",
        "\n",
        "recon_structures = []\n",
        "\n",
        "for id_needed in range(num_atoms.shape[1]):\n",
        "    id_fracs = frac_coords[0].numpy()[\n",
        "        indice_tuples[id_needed][0] : indice_tuples[id_needed][1]\n",
        "    ]\n",
        "    id_atom_types = atom_types[0].numpy()[\n",
        "        indice_tuples[id_needed][0] : indice_tuples[id_needed][1]\n",
        "    ]\n",
        "    id_lengths = lengths[0].numpy()[id_needed]\n",
        "    id_angles = angles[0].numpy()[id_needed]\n",
        "    lat = Lattice.from_parameters(\n",
        "        id_lengths[0],\n",
        "        id_lengths[1],\n",
        "        id_lengths[2],\n",
        "        id_angles[0],\n",
        "        id_angles[1],\n",
        "        id_angles[2],\n",
        "    ).matrix\n",
        "    atoms = Atoms(\n",
        "        lattice_mat=lat,\n",
        "        elements=atomic_numbers_to_symbols(id_atom_types),\n",
        "        coords=id_fracs,\n",
        "        cartesian=False,\n",
        "    )\n",
        "    # spg_numb = Spacegroup3D(atoms).space_group_number\n",
        "    # spg_numbs.append(spg_numb)\n",
        "\n",
        "    # print()\n",
        "    # print()\n",
        "    # print()\n",
        "    # print(\"jarvis\\n\", atoms)\n",
        "    # struct = Structure(\n",
        "    #    lattice=Lat.from_parameters(\n",
        "    #        id_lengths[0],\n",
        "    #        id_lengths[1],\n",
        "    #        id_lengths[2],\n",
        "    #        id_angles[0],\n",
        "    #        id_angles[1],\n",
        "    #        id_angles[2],\n",
        "    #    ),\n",
        "    #    species=id_atom_types,\n",
        "    #    coords=id_fracs,\n",
        "    #    coords_are_cartesian=False,\n",
        "    # )\n",
        "    # atoms = pmg_to_atoms(struct)\n",
        "    # print(\"pmg\\n\", atoms)\n",
        "    # print()\n",
        "    # print()\n",
        "    # print()\n",
        "\n",
        "    # gen_structures.append(atoms.to_dict())\n",
        "    recon_structures.append(atoms)\n"
      ],
      "metadata": {
        "id": "A0hquVe1iZ48"
      },
      "execution_count": null,
      "outputs": []
    },
    {
      "cell_type": "code",
      "source": [
        "test_structures=[]\n",
        "jids = []\n",
        "for i,ii in df.iterrows():\n",
        "  atoms=pmg_to_atoms(Structure.from_str(ii['cif'],fmt='cif'))\n",
        "  test_structures.append(atoms)#.to_dict())\n",
        "  jids.append(ii['material_id'])"
      ],
      "metadata": {
        "id": "ZwlktJc8iZzp"
      },
      "execution_count": null,
      "outputs": []
    },
    {
      "cell_type": "code",
      "source": [
        "df"
      ],
      "metadata": {
        "id": "UeDfhzkjsoPt"
      },
      "execution_count": null,
      "outputs": []
    },
    {
      "cell_type": "markdown",
      "source": [
        "Uploading to JARVIS-Leaderboard."
      ],
      "metadata": {
        "id": "DTJ7Pcbt7sMA"
      }
    },
    {
      "cell_type": "code",
      "source": [
        "from jarvis.io.vasp.inputs import Poscar\n",
        "import json\n",
        "f=open('AI-AtomGen-Tc_supercon-dft_3d-test-rmse.csv','w')\n",
        "line='id,target,prediction\\n'\n",
        "f.write(line)\n",
        "for i,j,k in zip(test_structures,recon_structures,jids):\n",
        "  print(k,i.composition.reduced_formula,j.composition.reduced_formula)\n",
        "  line = k+\",\"+Poscar(i).to_string().replace('\\n','\\\\n')+\",\"+Poscar(j).to_string().replace('\\n','\\\\n')+\"\\n\"\n",
        "  #line = k+\",\"+json.dumps(i.to_dict())+\",\"+json.dumps(j.to_dict())+\"\\n\"\n",
        "  f.write(line)\n",
        "f.close()\n",
        "#zip file before uploading to JARVIS-Leadrboard"
      ],
      "metadata": {
        "id": "snvhFW2_k_Do"
      },
      "execution_count": null,
      "outputs": []
    },
    {
      "cell_type": "code",
      "source": [
        "dfx = pd.read_csv('AI-AtomGen-Tc_supercon-dft_3d-test-rmse.csv')"
      ],
      "metadata": {
        "id": "Ecotexvfvogo"
      },
      "execution_count": null,
      "outputs": []
    },
    {
      "cell_type": "code",
      "source": [
        "import pandas as pd\n",
        "info = {}\n",
        "test_path = pd.read_csv(\"/content/cdvae/data/supercon/test.csv\")\n",
        "val_path = pd.read_csv(\"/content/cdvae/data/supercon/val.csv\")\n",
        "train_path = pd.read_csv(\"/content/cdvae/data/supercon/train.csv\")\n",
        "test={}\n",
        "val={}\n",
        "train={}\n",
        "\n",
        "for i,ii in train_path.iterrows():\n",
        "  atoms=pmg_to_atoms(Structure.from_str(ii['cif'],fmt='cif'))\n",
        "  pos = Poscar(atoms).to_string().replace('\\n','\\\\n')\n",
        "  jid=ii['material_id']\n",
        "  train[jid]=pos\n",
        "\n",
        "for i,ii in val_path.iterrows():\n",
        "  atoms=pmg_to_atoms(Structure.from_str(ii['cif'],fmt='cif'))\n",
        "  pos = Poscar(atoms).to_string().replace('\\n','\\\\n')\n",
        "  jid=ii['material_id']\n",
        "  val[jid]=pos\n",
        "\n",
        "for i,ii in test_path.iterrows():\n",
        "  atoms=pmg_to_atoms(Structure.from_str(ii['cif'],fmt='cif'))\n",
        "  pos = Poscar(atoms).to_string().replace('\\n','\\\\n')\n",
        "  jid=ii['material_id']\n",
        "  test[jid]=pos\n",
        "info['train']=train\n",
        "info['val']=val\n",
        "info['test']=test"
      ],
      "metadata": {
        "id": "udmtjG37vuwM"
      },
      "execution_count": null,
      "outputs": []
    },
    {
      "cell_type": "code",
      "source": [
        "from jarvis.db.jsonutils import dumpjson\n",
        "dumpjson(data=info,filename='dft_3d_Tc_supercon.json')"
      ],
      "metadata": {
        "id": "USOQ2R5yyXb8"
      },
      "execution_count": null,
      "outputs": []
    },
    {
      "cell_type": "code",
      "source": [
        "test_path"
      ],
      "metadata": {
        "id": "cxztaSkgvutn"
      },
      "execution_count": null,
      "outputs": []
    },
    {
      "cell_type": "code",
      "source": [
        "!cp scripts/compute_metrics.py scripts/eval_utils.py ."
      ],
      "metadata": {
        "id": "sGmtfjbzlxAo"
      },
      "execution_count": null,
      "outputs": []
    },
    {
      "cell_type": "code",
      "source": [
        "!ls"
      ],
      "metadata": {
        "id": "it1KMtkeoQLY"
      },
      "execution_count": null,
      "outputs": []
    },
    {
      "cell_type": "code",
      "source": [
        "import numpy as np\n",
        "from pymatgen.analysis.structure_matcher import StructureMatcher\n",
        "import pandas as pd\n",
        "from jarvis.io.vasp.inputs import Poscar\n",
        "from tqdm import tqdm\n",
        "df=pd.read_csv('AI-AtomGen-Tc_supercon-dft_3d-test-rmse.csv')\n",
        "\n",
        "matcher = StructureMatcher(stol=0.5, angle_tol=10, ltol=0.3)\n",
        "rms = []\n",
        "for m, mm in tqdm(df.iterrows()):\n",
        "    try:\n",
        "        atoms_target = (\n",
        "            Poscar.from_string(\n",
        "                (mm[\"target\"].replace(\"\\\\n\", \"\\n\"))\n",
        "            ).atoms\n",
        "        ).pymatgen_converter()\n",
        "        atoms_pred = (\n",
        "            Poscar.from_string(\n",
        "                (mm[\"prediction\"].replace(\"\\\\n\", \"\\n\"))\n",
        "            ).atoms\n",
        "        ).pymatgen_converter()\n",
        "        # rms_dist = matcher.get_rms_dist(atoms_pred,atoms_target)\n",
        "        rms_dist = matcher.get_rms_anonymous(atoms_pred, atoms_target)\n",
        "        if rms_dist[0] is not None:\n",
        "            rms.append(rms_dist[0])\n",
        "    except Exception as exp:\n",
        "        print(\"exp\", exp)\n",
        "        pass\n",
        "rms = round(np.array(rms).mean(), 4)\n",
        "print('rms', rms)"
      ],
      "metadata": {
        "id": "CETrj8JEDcbZ"
      },
      "execution_count": null,
      "outputs": []
    },
    {
      "cell_type": "code",
      "source": [
        "!conda env export"
      ],
      "metadata": {
        "id": "CPMktdkmDxDM"
      },
      "execution_count": null,
      "outputs": []
    },
    {
      "cell_type": "code",
      "source": [
        "!pip install matminer==0.9.0"
      ],
      "metadata": {
        "id": "1NcKy004DI6D"
      },
      "execution_count": null,
      "outputs": []
    },
    {
      "cell_type": "code",
      "source": [
        "!rm -rf /usr/local/lib/python3.10/dist-packages/pandas*\n",
        "!pip uninstall pandas -y\n",
        "!pip install pandas==1.5.3"
      ],
      "metadata": {
        "id": "PBVo5ZhGFWtX"
      },
      "execution_count": null,
      "outputs": []
    },
    {
      "cell_type": "code",
      "source": [],
      "metadata": {
        "id": "vLpnx4cWGDV8"
      },
      "execution_count": null,
      "outputs": []
    },
    {
      "cell_type": "code",
      "source": [
        "from p_tqdm import p_map\n",
        "from compute_metrics import GenEval,get_crystal_array_list,Crystal, RecEval\n",
        "crys_array_list, true_crystal_array_list = get_crystal_array_list(recon_path)\n",
        "pred_crys = p_map(lambda x: Crystal(x), crys_array_list)\n",
        "gt_crys = p_map(lambda x: Crystal(x), true_crystal_array_list)\n",
        "rec_evaluator = RecEval(pred_crys, gt_crys)\n",
        "recon_metrics = rec_evaluator.get_metrics()\n",
        "\n",
        "\n",
        "crys_array_list, _ = get_crystal_array_list(gen_path)\n",
        "gen_crys = p_map(lambda x: Crystal(x), crys_array_list)\n",
        "gen_evaluator = GenEval(gen_crys, gt_crys, eval_model_name='carbon')\n",
        "gen_metrics = gen_evaluator.get_metrics()\n",
        "print(recon_metrics)"
      ],
      "metadata": {
        "id": "lDUAGQzUoZyu"
      },
      "execution_count": null,
      "outputs": []
    },
    {
      "cell_type": "code",
      "source": [
        "print(recon_metrics)"
      ],
      "metadata": {
        "id": "oGHMVpr6pzH6"
      },
      "execution_count": null,
      "outputs": []
    },
    {
      "cell_type": "code",
      "source": [
        "print(gen_metrics)"
      ],
      "metadata": {
        "id": "C6dziFEvrwul"
      },
      "execution_count": null,
      "outputs": []
    },
    {
      "cell_type": "code",
      "source": [
        "pip install alignn"
      ],
      "metadata": {
        "id": "7rGZH4jaBzQn"
      },
      "execution_count": null,
      "outputs": []
    },
    {
      "cell_type": "code",
      "source": [
        "from alignn.pretrained import get_multiple_predictions\n"
      ],
      "metadata": {
        "id": "4iszQWlXDChd"
      },
      "execution_count": null,
      "outputs": []
    },
    {
      "cell_type": "code",
      "source": [
        "atoms"
      ],
      "metadata": {
        "id": "nIoaG5ShDbLz"
      },
      "execution_count": null,
      "outputs": []
    },
    {
      "cell_type": "code",
      "source": [
        "atoms.write_poscar('POSCAR')"
      ],
      "metadata": {
        "id": "QLAX6MJLDdV2"
      },
      "execution_count": null,
      "outputs": []
    },
    {
      "cell_type": "markdown",
      "source": [
        "Quickly predict Tc and other properties"
      ],
      "metadata": {
        "id": "p_i25oYqEBYA"
      }
    },
    {
      "cell_type": "code",
      "source": [
        "!pretrained.py --model_name jv_supercon_tc_alignn --file_format poscar --file_path POSCAR"
      ],
      "metadata": {
        "id": "UHvXyMd3DflS"
      },
      "execution_count": null,
      "outputs": []
    },
    {
      "cell_type": "code",
      "source": [
        "!pretrained.py --model_name jv_supercon_debye_alignn --file_format poscar --file_path POSCAR"
      ],
      "metadata": {
        "id": "GKH-kXC9D4U4"
      },
      "execution_count": null,
      "outputs": []
    },
    {
      "cell_type": "code",
      "source": [
        "!pretrained.py --model_name jv_supercon_edos_alignn --file_format poscar --file_path POSCAR"
      ],
      "metadata": {
        "id": "XlgG8TH7EYQu"
      },
      "execution_count": null,
      "outputs": []
    },
    {
      "cell_type": "code",
      "source": [
        "!pretrained.py --model_name jv_supercon_a2F_alignn --file_format poscar --file_path POSCAR"
      ],
      "metadata": {
        "id": "-WvQd5KvEpjq"
      },
      "execution_count": null,
      "outputs": []
    },
    {
      "cell_type": "code",
      "source": [
        "!pretrained.py --model_name jv_formation_energy_peratom_alignn --file_format poscar --file_path POSCAR"
      ],
      "metadata": {
        "id": "fPFxPdY0E0nB"
      },
      "execution_count": null,
      "outputs": []
    },
    {
      "cell_type": "code",
      "source": [
        "!pip freeze"
      ],
      "metadata": {
        "id": "VVzVdM_oUvmQ"
      },
      "execution_count": null,
      "outputs": []
    },
    {
      "cell_type": "code",
      "source": [],
      "metadata": {
        "id": "dMyyolzPUvg6"
      },
      "execution_count": null,
      "outputs": []
    },
    {
      "cell_type": "code",
      "source": [],
      "metadata": {
        "id": "98C-OOOAUveY"
      },
      "execution_count": null,
      "outputs": []
    },
    {
      "cell_type": "code",
      "source": [],
      "metadata": {
        "id": "4F-vdHwkUWu5"
      },
      "execution_count": null,
      "outputs": []
    },
    {
      "cell_type": "code",
      "source": [],
      "metadata": {
        "id": "urExUCmlUWs6"
      },
      "execution_count": null,
      "outputs": []
    },
    {
      "cell_type": "code",
      "source": [],
      "metadata": {
        "id": "YoiDirEuUWqO"
      },
      "execution_count": null,
      "outputs": []
    }
  ]
}