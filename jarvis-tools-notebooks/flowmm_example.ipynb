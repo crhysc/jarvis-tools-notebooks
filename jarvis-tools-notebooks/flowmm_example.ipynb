{
  "cells": [
    {
      "cell_type": "markdown",
      "metadata": {
        "id": "view-in-github",
        "colab_type": "text"
      },
      "source": [
        "<a href=\"https://colab.research.google.com/github/crhysc/jarvis-tools-notebooks/blob/master/jarvis-tools-notebooks/flowmm_example.ipynb\" target=\"_parent\"><img src=\"https://colab.research.google.com/assets/colab-badge.svg\" alt=\"Open In Colab\"/></a>"
      ]
    },
    {
      "cell_type": "markdown",
      "source": [
        "# **Tutorial**: FlowMM & FlowLLM\n",
        "\n",
        "\n",
        "\n",
        "**Authors**: Charles \"Rhys\" Campbell (crc00042@mix.wvu.edu), Kamal Choudhary (kamal.choudhary@nist.gov),"
      ],
      "metadata": {
        "id": "MUMuDXuhXvRE"
      },
      "id": "MUMuDXuhXvRE"
    },
    {
      "cell_type": "markdown",
      "source": [
        "# TABLE OF CONTENTS\n",
        "\n",
        "- Background and Central Goal\n",
        "- Installation, Configuration, and Dependencies\n",
        "- Dataset ETL\n",
        "- Training\n",
        "  - Manifolds\n",
        "  - Unconditional Training\n",
        "  - Conditional Training\n",
        "- Inference\n",
        "  - De Novo Generation / Unconditional Evalation\n",
        "  - Reconstruction / Conditional Evaluation\n",
        "- Prerelaxation\n",
        "- Prepare DFT\n",
        "- Compute E above hull\n",
        "- Compute corrected E above hull\n",
        "- Compute Stable, Unique, and Novel (SUN) structures\n",
        "- Next Steps & References"
      ],
      "metadata": {
        "id": "dMNVDRFTNM12"
      },
      "id": "dMNVDRFTNM12"
    },
    {
      "cell_type": "markdown",
      "source": [
        "# (1) BACKGROUND AND CENTRAL GOAL\n"
      ],
      "metadata": {
        "id": "GHy9RobiX6HO"
      },
      "id": "GHy9RobiX6HO"
    },
    {
      "cell_type": "markdown",
      "source": [
        "# Background\n",
        "### FlowMM\n",
        "**FlowMM** uses Riemannian flow matching to learn how to transform simple base noise into full periodic crystal structures by jointly modeling fractional atomic coordinates and lattice parameters on the manifold defined by crystal symmetries. It tackles both **Crystal Structure Prediction** (finding the stable arrangement for a known composition) and **De Novo Generation** (proposing entirely new materials), doing so with about three times fewer integration steps than comparable diffusion-based approaches.  \n",
        "\n",
        "### FlowLLM\n",
        "**FlowLLM** builds on FlowMM by swapping out the simple analytic noise prior for samples from a pretrained CrystalLLM (a LLaMA‐style model fine-tuned on crystal data). You generate initial “noisy” structures with the LLM, then use the same Riemannian flow-matching steps to refine those into accurate crystal geometries.\n",
        "\n",
        "\n",
        "# Central Goal\n",
        "Show viewers how to install, train, and use FlowMM and FlowLLM.\n",
        "  \n"
      ],
      "metadata": {
        "id": "-j5wcOCnLGsZ"
      },
      "id": "-j5wcOCnLGsZ"
    },
    {
      "cell_type": "markdown",
      "source": [
        "# (2) INSTALLATION, CONFIGURATION, AND DEPENDENCIES\n"
      ],
      "metadata": {
        "id": "RxCe6MOhX8wW"
      },
      "id": "RxCe6MOhX8wW"
    },
    {
      "cell_type": "markdown",
      "source": [
        "# Install Conda"
      ],
      "metadata": {
        "id": "ZFu1FE4zxU_G"
      },
      "id": "ZFu1FE4zxU_G"
    },
    {
      "cell_type": "code",
      "execution_count": null,
      "id": "d40fa633",
      "metadata": {
        "id": "d40fa633"
      },
      "outputs": [],
      "source": [
        "!pip install -q condacolab\n",
        "import condacolab, os, sys\n",
        "condacolab.install()\n",
        "print(\"Done\")"
      ]
    },
    {
      "cell_type": "markdown",
      "source": [
        "**Note**: Colab and CDVAE have hard pins for wildly different Python and CUDA versions. To bypass this, the \"!conda run\" command will be used to run most code in this notebook. This bypasses the hard pinned Colab Python version by spinning up a conda subprocess that runs its own Python kernel with the correct version required by CDVAE."
      ],
      "metadata": {
        "id": "e14fotvTP8C7"
      },
      "id": "e14fotvTP8C7"
    },
    {
      "cell_type": "markdown",
      "source": [
        "# Install CDVAE"
      ],
      "metadata": {
        "id": "RxnmdEiyX-3s"
      },
      "id": "RxnmdEiyX-3s"
    },
    {
      "cell_type": "code",
      "execution_count": null,
      "id": "87930ce0",
      "metadata": {
        "id": "87930ce0",
        "collapsed": true
      },
      "outputs": [],
      "source": [
        "import os\n",
        "%cd /content\n",
        "if not os.path.exists('cdvae'):\n",
        "  !git clone https://github.com/txie-93/cdvae.git\n",
        "print(\"Done\")"
      ]
    },
    {
      "cell_type": "markdown",
      "source": [
        "# Switch Colab Runtime to GPU\n",
        "At the top menu by the Colab logo, select **Runtime** -> **Change runtime type** -> **Any GPU**    \n",
        "\n",
        "If this works, create GPU-based conda environment.  \n",
        "\n",
        "If this fails due to usage limits, make the CPU-based conda environment.  \n",
        "\n"
      ],
      "metadata": {
        "id": "RKNI_pfiYKez"
      },
      "id": "RKNI_pfiYKez"
    },
    {
      "cell_type": "markdown",
      "source": [
        "# Create **GPU**-based conda environment for CDVAE\n",
        "\n",
        "#### Creating the **GPU** legacy env takes 7 minutes\n"
      ],
      "metadata": {
        "id": "I5U2uH3HYGYA"
      },
      "id": "I5U2uH3HYGYA"
    },
    {
      "cell_type": "code",
      "execution_count": null,
      "id": "4309419c",
      "metadata": {
        "id": "4309419c"
      },
      "outputs": [],
      "source": [
        "%%time\n",
        "%cd /content/cdvae\n",
        "!mamba env create -p /usr/local/envs/cdvae_legacy -f env.yml\n",
        "!conda run -p /usr/local/envs/cdvae_legacy --live-stream\\\n",
        "    mamba install -c conda-forge \"torchmetrics<0.8\" --yes\n",
        "!conda run -p /usr/local/envs/cdvae_legacy --live-stream\\\n",
        "    mamba install mkl=2024.0 --yes\n",
        "!conda run -p /usr/local/envs/cdvae_legacy --live-stream\\\n",
        "    pip install \"monty==2022.9.9\"\n",
        "!conda run -p /usr/local/envs/cdvae_legacy --live-stream\\\n",
        "    mamba install -c conda-forge \"pymatgen>=2022.0.8,<2023\" --yes\n",
        "!conda run -p /usr/local/envs/cdvae_legacy --live-stream\\\n",
        "    pip install pandas jarvis-tools\n",
        "!conda run -p /usr/local/envs/cdvae_legacy --live-stream\\\n",
        "    pip install --upgrade torch_geometric==1.7.0\n",
        "!conda run -p /usr/local/envs/cdvae_legacy --live-stream\\\n",
        "    pip install -e .\n",
        "print(\"Done\")"
      ]
    },
    {
      "cell_type": "code",
      "execution_count": null,
      "id": "89b6b2d5",
      "metadata": {
        "id": "89b6b2d5"
      },
      "outputs": [],
      "source": [
        "!conda run -p /usr/local/envs/cdvae_legacy python -c \"import sys; print(sys.version)\"\n",
        "# proves that conda is running python 3.8.*"
      ]
    },
    {
      "cell_type": "markdown",
      "source": [
        "# Create **CPU**-based conda environment for CDVAE\n",
        "\n",
        "#### Creating the **CPU** legacy env takes 10 minutes\n"
      ],
      "metadata": {
        "id": "fvXUH6LBbrO-"
      },
      "id": "fvXUH6LBbrO-"
    },
    {
      "cell_type": "code",
      "source": [
        "%%time\n",
        "%cd /content/cdvae\n",
        "!mamba env create -p /usr/local/envs/cdvae_legacy -f env.cpu.yml\n",
        "!conda run -p /usr/local/envs/cdvae_legacy --live-stream\\\n",
        "    mamba install -c conda-forge \"torchmetrics<0.8\" --yes\n",
        "!conda run -p /usr/local/envs/cdvae_legacy --live-stream\\\n",
        "    mamba install mkl=2024.0 --yes\n",
        "!conda run -p /usr/local/envs/cdvae_legacy --live-stream\\\n",
        "    pip install \"monty==2022.9.9\"\n",
        "!conda run -p /usr/local/envs/cdvae_legacy --live-stream\\\n",
        "    mamba install -c conda-forge \"pymatgen>=2022.0.8,<2023\" --yes\n",
        "!conda run -p /usr/local/envs/cdvae_legacy --live-stream\\\n",
        "    pip install pandas jarvis-tools\n",
        "!conda run -p /usr/local/envs/cdvae_legacy --live-stream\\\n",
        "    pip install --upgrade torch_geometric==1.7.0\n",
        "!conda run -p /usr/local/envs/cdvae_legacy --live-stream\\\n",
        "    pip install -e .\n",
        "print(\"Done\")"
      ],
      "metadata": {
        "id": "EhndWC7Qd8Yo",
        "collapsed": true
      },
      "id": "EhndWC7Qd8Yo",
      "execution_count": null,
      "outputs": []
    },
    {
      "cell_type": "markdown",
      "source": [
        "# Install Other dependencies\n"
      ],
      "metadata": {
        "id": "-S-tghd_r5at"
      },
      "id": "-S-tghd_r5at"
    },
    {
      "cell_type": "markdown",
      "source": [],
      "metadata": {
        "id": "EHjMaXujxor2"
      },
      "id": "EHjMaXujxor2"
    },
    {
      "cell_type": "code",
      "source": [
        "!pip install torch-geometric\n",
        "!conda run -p /usr/local/envs/cdvae_legacy --live-stream\\\n",
        "    pip install pandas jarvis-tools"
      ],
      "metadata": {
        "collapsed": true,
        "id": "57uFtXBbs8-l"
      },
      "id": "57uFtXBbs8-l",
      "execution_count": null,
      "outputs": []
    },
    {
      "cell_type": "markdown",
      "source": [
        "# (3) DATASET ETL (Extract-Transform-Load)\n"
      ],
      "metadata": {
        "id": "U0r5S-jNYNje"
      },
      "id": "U0r5S-jNYNje"
    },
    {
      "cell_type": "markdown",
      "source": [
        "# Download data pre-processor"
      ],
      "metadata": {
        "id": "w0bEujxyydMx"
      },
      "id": "w0bEujxyydMx"
    },
    {
      "cell_type": "markdown",
      "source": [
        "Data was generated using this [script](https://github.com/JARVIS-Materials-Design/cdvae/blob/main/scripts/generate_data_cdvae.py). It lives in the JARVIS Materials design repository, and it compiles a set of around 1000 structures and their superconducting critical temperatures into the format required for CDVAE training."
      ],
      "metadata": {
        "id": "yA221iCNZyh-"
      },
      "id": "yA221iCNZyh-"
    },
    {
      "cell_type": "code",
      "execution_count": null,
      "id": "a01b9fa5",
      "metadata": {
        "id": "a01b9fa5"
      },
      "outputs": [],
      "source": [
        "!wget https://raw.githubusercontent.com/JARVIS-Materials-Design/cdvae/refs/heads/main/scripts/generate_data_cdvae.py"
      ]
    },
    {
      "cell_type": "markdown",
      "source": [
        "# Run data pre-processor"
      ],
      "metadata": {
        "id": "0QyFCXnQyh1u"
      },
      "id": "0QyFCXnQyh1u"
    },
    {
      "cell_type": "code",
      "source": [
        "!conda run -p /usr/local/envs/cdvae_legacy --live-stream \\\n",
        "    python generate_data_cdvae.py\n",
        "print(\"Done\")"
      ],
      "metadata": {
        "id": "10tlt-F9hOkC"
      },
      "id": "10tlt-F9hOkC",
      "execution_count": null,
      "outputs": []
    },
    {
      "cell_type": "markdown",
      "source": [
        "# Move train/test/val data to the correct spot"
      ],
      "metadata": {
        "id": "c-lJ4YZRylJW"
      },
      "id": "c-lJ4YZRylJW"
    },
    {
      "cell_type": "code",
      "source": [
        "%cd /content\n",
        "%mkdir /content/cdvae/data/supercon\n",
        "%mv /content/cdvae/scripts/train.csv /content/cdvae/data/supercon/\n",
        "%mv /content/cdvae/scripts/val.csv /content/cdvae/data/supercon/\n",
        "%mv /content/cdvae/scripts/test.csv /content/cdvae/data/supercon/\n",
        "print(\"Done\")"
      ],
      "metadata": {
        "id": "EDghvbM-oSi6"
      },
      "id": "EDghvbM-oSi6",
      "execution_count": null,
      "outputs": []
    },
    {
      "cell_type": "markdown",
      "source": [
        "# Pull the supercon Hydra config YAML from JARVIS"
      ],
      "metadata": {
        "id": "gXIfC4ZZIN5y"
      },
      "id": "gXIfC4ZZIN5y"
    },
    {
      "cell_type": "markdown",
      "source": [
        "**NOTE**: Each dataset that you want to use with CDVAE needs its own config.yml located in cdvae/conf/data/"
      ],
      "metadata": {
        "id": "ffvyuQRXZzvL"
      },
      "id": "ffvyuQRXZzvL"
    },
    {
      "cell_type": "code",
      "source": [
        "%cd /content/cdvae/conf/data/\n",
        "!wget https://raw.githubusercontent.com/JARVIS-Materials-Design/cdvae/refs/heads/main/conf/data/supercon.yaml"
      ],
      "metadata": {
        "id": "tnBU6MCdIT9e"
      },
      "id": "tnBU6MCdIT9e",
      "execution_count": null,
      "outputs": []
    },
    {
      "cell_type": "markdown",
      "source": [
        "# (4) TRAIN WITHOUT PROPERTY PREDICTOR"
      ],
      "metadata": {
        "id": "G7RtzMrfZ16h"
      },
      "id": "G7RtzMrfZ16h"
    },
    {
      "cell_type": "markdown",
      "source": [
        "# If using **GPU**"
      ],
      "metadata": {
        "id": "d2TZYO2mWsG0"
      },
      "id": "d2TZYO2mWsG0"
    },
    {
      "cell_type": "code",
      "execution_count": null,
      "id": "a53248c0",
      "metadata": {
        "id": "a53248c0",
        "collapsed": true
      },
      "outputs": [],
      "source": [
        "!PROJECT_ROOT=/content/cdvae \\\n",
        " HYDRA_JOBS=/content/cdvae/hydra_outputs \\\n",
        " HYDRA_FULL_ERROR=1 \\\n",
        " WABDB_DIR=/content/cdvae/wandb_outputs \\\n",
        " WANDB_ANONYMOUS=allow \\\n",
        " conda run -p /usr/local/envs/cdvae_legacy --live-stream \\\n",
        "    python -u -m cdvae.run data=supercon expname=supercon \\\n",
        "    model.num_noise_level=2 \\\n",
        "    data.train_max_epochs=2"
      ]
    },
    {
      "cell_type": "markdown",
      "source": [
        "# If using **CPU**"
      ],
      "metadata": {
        "id": "kTiAeHCNWySO"
      },
      "id": "kTiAeHCNWySO"
    },
    {
      "cell_type": "markdown",
      "source": [
        "The only difference is that this command include a command line override of the Hydra config that specifies zero GPUs instead of one GPU (which is the CDVAE default)"
      ],
      "metadata": {
        "id": "Ynw2tl2YRIwC"
      },
      "id": "Ynw2tl2YRIwC"
    },
    {
      "cell_type": "code",
      "source": [
        "!PROJECT_ROOT=/content/cdvae \\\n",
        " HYDRA_JOBS=/content/cdvae/hydra_outputs \\\n",
        " HYDRA_FULL_ERROR=1 \\\n",
        " WABDB_DIR=/content/cdvae/wandb_outputs \\\n",
        " WANDB_ANONYMOUS=allow \\\n",
        " conda run -p /usr/local/envs/cdvae_legacy --live-stream \\\n",
        "    python -u -m cdvae.run data=supercon expname=supercon \\\n",
        "    model.num_noise_level=2 \\\n",
        "    data.train_max_epochs=2 \\\n",
        "    train.pl_trainer.gpus=0"
      ],
      "metadata": {
        "collapsed": true,
        "id": "HzvxQufsW02F"
      },
      "id": "HzvxQufsW02F",
      "execution_count": null,
      "outputs": []
    },
    {
      "cell_type": "markdown",
      "source": [
        "# (5) TRAIN WITH PROPERTY PREDICTOR"
      ],
      "metadata": {
        "id": "BdD4OYhiZ6RR"
      },
      "id": "BdD4OYhiZ6RR"
    },
    {
      "cell_type": "markdown",
      "source": [
        "**NOTE**: The only difference between training with and without a property predictor is including the `model.predict_property=True` kwarg"
      ],
      "metadata": {
        "id": "kfihRP-TaHuG"
      },
      "id": "kfihRP-TaHuG"
    },
    {
      "cell_type": "markdown",
      "source": [
        "# If using **GPU**"
      ],
      "metadata": {
        "id": "ATDbkZDNYaNV"
      },
      "id": "ATDbkZDNYaNV"
    },
    {
      "cell_type": "code",
      "execution_count": null,
      "id": "1b4bd253",
      "metadata": {
        "id": "1b4bd253",
        "collapsed": true
      },
      "outputs": [],
      "source": [
        "!PROJECT_ROOT=/content/cdvae \\\n",
        " HYDRA_JOBS=/content/cdvae/hydra_outputs \\\n",
        " HYDRA_FULL_ERROR=1 \\\n",
        " WABDB_DIR=/content/cdvae/wandb_outputs \\\n",
        " WANDB_ANONYMOUS=allow \\\n",
        " conda run -p /usr/local/envs/cdvae_legacy --live-stream \\\n",
        "    python -u -m cdvae.run data=supercon expname=supercon \\\n",
        "    model.num_noise_level=2 \\\n",
        "    data.train_max_epochs=2 \\\n",
        "    train.pl_trainer.gpus=0 \\\n",
        "    model.predict_property=True"
      ]
    },
    {
      "cell_type": "markdown",
      "source": [
        "# If using **CPU**"
      ],
      "metadata": {
        "id": "Cjt9VBcKYsW5"
      },
      "id": "Cjt9VBcKYsW5"
    },
    {
      "cell_type": "code",
      "source": [
        "!PROJECT_ROOT=/content/cdvae \\\n",
        " HYDRA_JOBS=/content/cdvae/hydra_outputs \\\n",
        " HYDRA_FULL_ERROR=1 \\\n",
        " WABDB_DIR=/content/cdvae/wandb_outputs \\\n",
        " WANDB_ANONYMOUS=allow \\\n",
        " conda run -p /usr/local/envs/cdvae_legacy --live-stream \\\n",
        "    python -u -m cdvae.run data=supercon expname=supercon \\\n",
        "    data.train_max_epochs=2 \\\n",
        "    model.num_noise_level=2 \\\n",
        "    model.predict_property=True \\\n",
        "    train.pl_trainer.gpus=0"
      ],
      "metadata": {
        "id": "G99tTkqOY7fc"
      },
      "id": "G99tTkqOY7fc",
      "execution_count": null,
      "outputs": []
    },
    {
      "cell_type": "markdown",
      "source": [
        "# (6) INFERENCE"
      ],
      "metadata": {
        "id": "82OOqQ49aAgQ"
      },
      "id": "82OOqQ49aAgQ"
    },
    {
      "cell_type": "markdown",
      "source": [
        "The saved model path is `/content/cdvae/hydra_outputs/singlerun/YYYY-MM-DD/supercon/`, change the date to whenever you are using this notebook for the code to work."
      ],
      "metadata": {
        "id": "fWXV4H9IPbj_"
      },
      "id": "fWXV4H9IPbj_"
    },
    {
      "cell_type": "markdown",
      "source": [
        "# Reconstruction"
      ],
      "metadata": {
        "id": "p-e0LL9bJH80"
      },
      "id": "p-e0LL9bJH80"
    },
    {
      "cell_type": "code",
      "source": [
        "!PROJECT_ROOT=/content/cdvae \\\n",
        " HYDRA_JOBS=/content/cdvae/hydra_outputs \\\n",
        " WABDB_DIR=/content/cdvae/wandb_outputs \\\n",
        " conda run -p /usr/local/envs/cdvae_legacy --live-stream \\\n",
        "    python /content/cdvae/scripts/evaluate.py \\\n",
        "    --model_path /content/cdvae/hydra_outputs/singlerun/2025-05-27/supercon \\\n",
        "    --tasks recon"
      ],
      "metadata": {
        "id": "36yfncwoIjTG"
      },
      "id": "36yfncwoIjTG",
      "execution_count": null,
      "outputs": []
    },
    {
      "cell_type": "code",
      "source": [
        "import torch\n",
        "from pprint import pprint\n",
        "path = \"/content/cdvae/hydra_outputs/singlerun/2025-05-27/supercon/eval_recon.pt\"\n",
        "data = torch.load(path, map_location=\"cpu\", weights_only=False)\n",
        "pprint(data, width=120, indent=2)"
      ],
      "metadata": {
        "id": "OU1Tnz-jEIGH"
      },
      "id": "OU1Tnz-jEIGH",
      "execution_count": null,
      "outputs": []
    },
    {
      "cell_type": "markdown",
      "source": [
        "# Generation"
      ],
      "metadata": {
        "id": "PhoRljBrJJ7i"
      },
      "id": "PhoRljBrJJ7i"
    },
    {
      "cell_type": "code",
      "source": [
        "!PROJECT_ROOT=/content/cdvae \\\n",
        " HYDRA_JOBS=/content/cdvae/hydra_outputs \\\n",
        " WABDB_DIR=/content/cdvae/wandb_outputs \\\n",
        " conda run -p /usr/local/envs/cdvae_legacy --live-stream \\\n",
        "    python /content/cdvae/scripts/evaluate.py \\\n",
        "    --model_path /content/cdvae/hydra_outputs/singlerun/2025-05-27/supercon \\\n",
        "    --tasks gen"
      ],
      "metadata": {
        "id": "ts83cgH65lBj"
      },
      "id": "ts83cgH65lBj",
      "execution_count": null,
      "outputs": []
    },
    {
      "cell_type": "code",
      "source": [
        "import torch\n",
        "from pprint import pprint\n",
        "path = \"/content/cdvae/hydra_outputs/singlerun/2025-05-27/supercon/eval_gen.pt\"\n",
        "data = torch.load(path, map_location=\"cpu\", weights_only=False)\n",
        "pprint(data, width=120, indent=2)"
      ],
      "metadata": {
        "id": "qmS4oJ_zKAT2"
      },
      "id": "qmS4oJ_zKAT2",
      "execution_count": null,
      "outputs": []
    },
    {
      "cell_type": "markdown",
      "source": [
        "# Optimization"
      ],
      "metadata": {
        "id": "ThQg4vGDJMrL"
      },
      "id": "ThQg4vGDJMrL"
    },
    {
      "cell_type": "code",
      "source": [
        "!PROJECT_ROOT=/content/cdvae \\\n",
        " HYDRA_JOBS=/content/cdvae/hydra_outputs \\\n",
        " WABDB_DIR=/content/cdvae/wandb_outputs \\\n",
        " conda run -p /usr/local/envs/cdvae_legacy --live-stream \\\n",
        "    python /content/cdvae/scripts/evaluate.py \\\n",
        "    --model_path /content/cdvae/hydra_outputs/singlerun/2025-05-27/supercon \\\n",
        "    --tasks opt"
      ],
      "metadata": {
        "id": "ljbWE4kS5mMp"
      },
      "id": "ljbWE4kS5mMp",
      "execution_count": null,
      "outputs": []
    },
    {
      "cell_type": "code",
      "source": [
        "import torch\n",
        "from pprint import pprint\n",
        "path = \"/content/cdvae/hydra_outputs/singlerun/2025-05-27/supercon/eval_opt.pt\"\n",
        "data = torch.load(path, map_location=\"cpu\", weights_only=False)\n",
        "pprint(data, width=120, indent=2)"
      ],
      "metadata": {
        "id": "NZLGP0ZCKBC3"
      },
      "id": "NZLGP0ZCKBC3",
      "execution_count": null,
      "outputs": []
    },
    {
      "cell_type": "markdown",
      "source": [
        "# (7) EVALUATION"
      ],
      "metadata": {
        "id": "816h3Am6N8dS"
      },
      "id": "816h3Am6N8dS"
    },
    {
      "cell_type": "code",
      "source": [
        "!PROJECT_ROOT=/content/cdvae \\\n",
        " HYDRA_JOBS=/content/cdvae/hydra_outputs \\\n",
        " WABDB_DIR=/content/cdvae/wandb_outputs \\\n",
        " conda run -p /usr/local/envs/cdvae_legacy --live-stream \\\n",
        "    python scripts/compute_metrics.py \\\n",
        "    --root_path /content/cdvae/hydra_outputs/singlerun/2025-05-27/supercon \\\n",
        "    --tasks recon gen opt"
      ],
      "metadata": {
        "id": "Gl9rnKvmOBd1"
      },
      "id": "Gl9rnKvmOBd1",
      "execution_count": null,
      "outputs": []
    },
    {
      "cell_type": "markdown",
      "source": [
        "# (8) NEXT STEPS & REFERENCES\n",
        "\n",
        "## Next Steps\n",
        "\n",
        "1. **Hyperparameter exploration**  \n",
        "   - Try different numbers of noise levels (`model.num_noise_level`) and training epochs to improve sample quality.\n",
        "\n",
        "2. **Property-conditioned generation**  \n",
        "   - Re-enable the property predictor (`model.predict_property=True`) and train with longer schedules to improve prediction accuracy.\n",
        "   - After training, sample structures by specifying a target critical temperature and evaluate via DFT or empirical models.\n",
        "\n",
        "\n",
        "---\n",
        "\n",
        "## References\n",
        "\n",
        "- **Original CDVAE paper:**  \n",
        "  Li _et al._, “Crystal Diffusion Variational Autoencoder for Inverse Materials Design,” _J. Phys. Chem. Lett._ 2023, DOI: [10.1021/acs.jpclett.3c01260](https://pubs.acs.org/doi/10.1021/acs.jpclett.3c01260)\n",
        "\n",
        "- **CDVAE GitHub repo:**  \n",
        "  https://github.com/txie-93/cdvae\n",
        "\n",
        "- **JARVIS-Materials-Design:**  \n",
        "  https://github.com/JARVIS-Materials-Design/jarvis\n",
        "\n",
        "- **Hydra configuration framework:**  \n",
        "  https://hydra.cc\n",
        "\n",
        "- **PyTorch Lightning:**  \n",
        "  https://www.pytorchlightning.ai\n",
        "\n",
        "- **condacolab:**  \n",
        "  https://github.com/conda-incubator/condacolab\n",
        "\n",
        "- **Mamba (fast conda):**  \n",
        "  https://github.com/mamba-org/mamba\n",
        "\n",
        "- **Jarvis-tools (data ETL):**  \n",
        "  https://github.com/JARVIS-Materials-Design/jarvis-tools\n"
      ],
      "metadata": {
        "id": "jl8B-XPE-GR3"
      },
      "id": "jl8B-XPE-GR3"
    }
  ],
  "metadata": {
    "jupytext": {
      "cell_metadata_filter": "-all",
      "encoding": "# -*- coding: utf-8 -*-",
      "main_language": "python",
      "notebook_metadata_filter": "-all"
    },
    "colab": {
      "provenance": [],
      "include_colab_link": true
    },
    "language_info": {
      "name": "python"
    },
    "kernelspec": {
      "name": "python3",
      "display_name": "Python 3"
    }
  },
  "nbformat": 4,
  "nbformat_minor": 5
}