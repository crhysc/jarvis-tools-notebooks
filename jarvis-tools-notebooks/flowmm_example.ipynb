{
  "cells": [
    {
      "cell_type": "markdown",
      "metadata": {
        "id": "view-in-github",
        "colab_type": "text"
      },
      "source": [
        "<a href=\"https://colab.research.google.com/github/crhysc/jarvis-tools-notebooks/blob/master/jarvis-tools-notebooks/flowmm_example.ipynb\" target=\"_parent\"><img src=\"https://colab.research.google.com/assets/colab-badge.svg\" alt=\"Open In Colab\"/></a>"
      ]
    },
    {
      "cell_type": "markdown",
      "source": [
        "# **Tutorial**: FlowMM & FlowLLM\n",
        "\n",
        "\n",
        "\n",
        "**Authors**: Charles \"Rhys\" Campbell (crc00042@mix.wvu.edu)"
      ],
      "metadata": {
        "id": "MUMuDXuhXvRE"
      },
      "id": "MUMuDXuhXvRE"
    },
    {
      "cell_type": "markdown",
      "source": [
        "# TABLE OF CONTENTS\n",
        "\n",
        "- Background and Central Goal\n",
        "- Installation, Configuration, and Dependencies\n",
        "- Dataset ETL\n",
        "- Training\n",
        "  - Manifolds\n",
        "  - Unconditional Training\n",
        "  - Conditional Training\n",
        "- Inference\n",
        "  - De Novo Generation / Unconditional Evalation\n",
        "  - Reconstruction / Conditional Evaluation\n",
        "- Prerelaxation\n",
        "- Prepare DFT\n",
        "- Compute E above hull\n",
        "- Compute corrected E above hull\n",
        "- Compute Stable, Unique, and Novel (SUN) structures\n",
        "- Next Steps & References"
      ],
      "metadata": {
        "id": "dMNVDRFTNM12"
      },
      "id": "dMNVDRFTNM12"
    },
    {
      "cell_type": "markdown",
      "source": [
        "# (1) BACKGROUND AND CENTRAL GOAL\n"
      ],
      "metadata": {
        "id": "GHy9RobiX6HO"
      },
      "id": "GHy9RobiX6HO"
    },
    {
      "cell_type": "markdown",
      "source": [
        "# Background\n",
        "### FlowMM\n",
        "**FlowMM** uses Riemannian flow matching to learn how to transform simple base noise into full periodic crystal structures by jointly modeling fractional atomic coordinates and lattice parameters on the manifold defined by crystal symmetries. It tackles both **Crystal Structure Prediction** (finding the stable arrangement for a known composition) and **De Novo Generation** (proposing entirely new materials), doing so with about three times fewer integration steps than comparable diffusion-based approaches.  \n",
        "\n",
        "### FlowLLM\n",
        "**FlowLLM** builds on FlowMM by swapping out the simple analytic noise prior for samples from a pretrained CrystalLLM (a LLaMA‐style model fine-tuned on crystal data). You generate initial “noisy” structures with the LLM, then use the same Riemannian flow-matching steps to refine those into accurate crystal geometries.\n",
        "\n",
        "\n",
        "# Central Goal\n",
        "Show viewers how to install, train, and use FlowMM and FlowLLM.\n",
        "  \n"
      ],
      "metadata": {
        "id": "-j5wcOCnLGsZ"
      },
      "id": "-j5wcOCnLGsZ"
    },
    {
      "cell_type": "markdown",
      "source": [
        "# (2) INSTALLATION, CONFIGURATION, AND DEPENDENCIES\n"
      ],
      "metadata": {
        "id": "RxCe6MOhX8wW"
      },
      "id": "RxCe6MOhX8wW"
    },
    {
      "cell_type": "markdown",
      "source": [
        "# Install Conda"
      ],
      "metadata": {
        "id": "ZFu1FE4zxU_G"
      },
      "id": "ZFu1FE4zxU_G"
    },
    {
      "cell_type": "code",
      "execution_count": null,
      "id": "d40fa633",
      "metadata": {
        "id": "d40fa633"
      },
      "outputs": [],
      "source": [
        "!pip install -q condacolab\n",
        "import condacolab, os, sys\n",
        "condacolab.install()\n",
        "print(\"Done\")"
      ]
    },
    {
      "cell_type": "markdown",
      "source": [
        "**Note**: Colab and FlowMM have hard pins for different Python and CUDA versions. To bypass this, the \"!conda run\" command will be used to run most code in this notebook. This bypasses the hard pinned Colab Python version by spinning up a conda subprocess that runs its own Python kernel with the correct version required by FlowMM."
      ],
      "metadata": {
        "id": "e14fotvTP8C7"
      },
      "id": "e14fotvTP8C7"
    },
    {
      "cell_type": "markdown",
      "source": [
        "# Install FlowMM"
      ],
      "metadata": {
        "id": "RxnmdEiyX-3s"
      },
      "id": "RxnmdEiyX-3s"
    },
    {
      "cell_type": "code",
      "execution_count": null,
      "id": "87930ce0",
      "metadata": {
        "id": "87930ce0",
        "collapsed": true
      },
      "outputs": [],
      "source": [
        "import os\n",
        "%cd /content\n",
        "if not os.path.exists('flowmm'):\n",
        "  !git clone https://github.com/facebookresearch/flowmm.git\n",
        "print(\"Done\")"
      ]
    },
    {
      "cell_type": "markdown",
      "source": [
        "# Load FlowMM submodules"
      ],
      "metadata": {
        "id": "zcCZJKnD9QxI"
      },
      "id": "zcCZJKnD9QxI"
    },
    {
      "cell_type": "code",
      "source": [
        "%%bash\n",
        "cd /content/flowmm\n",
        "sed -i 's|git@github.com:bkmi/DiffCSP-official.git|https://github.com/bkmi/DiffCSP-official.git|' .gitmodules\n",
        "sed -i 's|git@github.com:bkmi/cdvae.git|https://github.com/bkmi/cdvae.git|' .gitmodules\n",
        "sed -i 's|git@github.com:facebookresearch/riemannian-fm.git|https://github.com/facebookresearch/riemannian-fm.git|' .gitmodules\n",
        "git submodule sync\n",
        "git submodule update --init --recursive\n",
        "echo \"Done\""
      ],
      "metadata": {
        "id": "xQy_gJDV3hGz"
      },
      "id": "xQy_gJDV3hGz",
      "execution_count": null,
      "outputs": []
    },
    {
      "cell_type": "markdown",
      "source": [
        "# Switch Colab Runtime to GPU\n",
        "At the top menu by the Colab logo, select **Runtime** -> **Change runtime type** -> **Any GPU**    \n",
        "\n",
        "It is not necessary to run on GPU, but the code will complete faster.\n",
        "\n"
      ],
      "metadata": {
        "id": "RKNI_pfiYKez"
      },
      "id": "RKNI_pfiYKez"
    },
    {
      "cell_type": "markdown",
      "source": [
        "# Create conda environment for FlowMM\n",
        "Making the conda environment takes 20 minutes\n"
      ],
      "metadata": {
        "id": "I5U2uH3HYGYA"
      },
      "id": "I5U2uH3HYGYA"
    },
    {
      "cell_type": "code",
      "source": [
        "%%time\n",
        "%cd /content/flowmm\n",
        "!mamba env create -p /usr/local/envs/flowmm_env -f environment.yml\n",
        "!conda run -p /usr/local/envs/flowmm_env --live-stream\\\n",
        "    pip install uv\n",
        "!conda run -p /usr/local/envs/flowmm_env --live-stream\\\n",
        "    uv pip install \"jarvis-tools>=2024.5\" \"pymatgen>=2024.1\" pandas numpy tqdm\n",
        "!conda run -p /usr/local/envs/flowmm_env --live-stream\\\n",
        "    uv pip install -e . \\\n",
        "                   -e remote/riemannian-fm \\\n",
        "                   -e remote/cdvae \\\n",
        "                   -e remote/DiffCSP-official\n",
        "print(\"Done\")"
      ],
      "metadata": {
        "id": "A5IcN8lTF_rv",
        "collapsed": true
      },
      "id": "A5IcN8lTF_rv",
      "execution_count": null,
      "outputs": []
    },
    {
      "cell_type": "code",
      "source": [
        "!conda run -p /usr/local/envs/flowmm_env --live-stream\\\n",
        "    pip install -e . \\\n",
        "                   -e remote/riemannian-fm \\\n",
        "                   -e remote/cdvae \\\n",
        "                   -e remote/DiffCSP-official"
      ],
      "metadata": {
        "id": "jz6sUsHQo6pO"
      },
      "id": "jz6sUsHQo6pO",
      "execution_count": null,
      "outputs": []
    },
    {
      "cell_type": "code",
      "source": [
        "%cd /content/flowmm/\n",
        "import os\n",
        "if not os.path.exists('remote/riemannian-fm/manifm/__init.py__'):\n",
        "    !wget -q https://raw.githubusercontent.com/crhysc/utilities/refs/heads/main/__init__.py\n",
        "    !mv __init__.py /content/flowmm/remote/riemannian-fm/manifm/\n",
        "!conda run -p /usr/local/envs/flowmm_env --live-stream\\\n",
        "    pip install -e /content/flowmm/remote/riemannian-fm/\n",
        "!conda run -p /usr/local/envs/flowmm_env --live-stream\\\n",
        "    python -c \"import manifm; print('manifm version:', manifm.__version__)\""
      ],
      "metadata": {
        "id": "7puO0mzJqtIV"
      },
      "id": "7puO0mzJqtIV",
      "execution_count": null,
      "outputs": []
    },
    {
      "cell_type": "markdown",
      "source": [
        "# Install Other dependencies\n"
      ],
      "metadata": {
        "id": "-S-tghd_r5at"
      },
      "id": "-S-tghd_r5at"
    },
    {
      "cell_type": "markdown",
      "source": [
        "# (3) DATASET ETL (Extract-Transform-Load)\n"
      ],
      "metadata": {
        "id": "U0r5S-jNYNje"
      },
      "id": "U0r5S-jNYNje"
    },
    {
      "cell_type": "markdown",
      "source": [
        "# Download data pre-processor"
      ],
      "metadata": {
        "id": "w0bEujxyydMx"
      },
      "id": "w0bEujxyydMx"
    },
    {
      "cell_type": "markdown",
      "source": [
        "Data was generated using this [script](https://github.com/crhysc/utilities/blob/main/supercon_preprocess.py). It compiles a set of around 1000 structures and their superconducting critical temperatures into the format required for FlowMM training."
      ],
      "metadata": {
        "id": "yA221iCNZyh-"
      },
      "id": "yA221iCNZyh-"
    },
    {
      "cell_type": "code",
      "source": [
        "!rm supercon_preprocess.py"
      ],
      "metadata": {
        "id": "T5OwNERqiiWN"
      },
      "id": "T5OwNERqiiWN",
      "execution_count": null,
      "outputs": []
    },
    {
      "cell_type": "code",
      "execution_count": null,
      "id": "a01b9fa5",
      "metadata": {
        "id": "a01b9fa5",
        "collapsed": true
      },
      "outputs": [],
      "source": [
        "%cd /content/flowmm\n",
        "import os\n",
        "if not os.path.exists('supercon_preprocess.py'):\n",
        "  !wget -q https://raw.githubusercontent.com/crhysc/utilities/refs/heads/main/supercon_preprocess.py\n",
        "%cat supercon_preprocess.py"
      ]
    },
    {
      "cell_type": "markdown",
      "source": [
        "# Run data pre-processor"
      ],
      "metadata": {
        "id": "0QyFCXnQyh1u"
      },
      "id": "0QyFCXnQyh1u"
    },
    {
      "cell_type": "code",
      "source": [
        "!rm -rf /content/flowmm/data/supercon"
      ],
      "metadata": {
        "id": "OymCq4M3lvEN"
      },
      "id": "OymCq4M3lvEN",
      "execution_count": null,
      "outputs": []
    },
    {
      "cell_type": "code",
      "source": [
        "%cd /content/flowmm\n",
        "!conda run -p /usr/local/envs/flowmm_env --live-stream \\\n",
        "    python supercon_preprocess.py \\\n",
        "        --dataset dft_3d \\\n",
        "        --id-key jid \\\n",
        "        --target Tc_supercon \\\n",
        "        --train-ratio 0.8 --val-ratio 0.1 --test-ratio 0.1 \\\n",
        "        --seed 123 \\\n",
        "        --max-size 25\n",
        "print(\"Done\")"
      ],
      "metadata": {
        "id": "10tlt-F9hOkC"
      },
      "id": "10tlt-F9hOkC",
      "execution_count": null,
      "outputs": []
    },
    {
      "cell_type": "markdown",
      "source": [
        "# Move train/test/val data to the correct spot"
      ],
      "metadata": {
        "id": "c-lJ4YZRylJW"
      },
      "id": "c-lJ4YZRylJW"
    },
    {
      "cell_type": "code",
      "source": [
        "%cd /content\n",
        "%mkdir /content/flowmm/data/supercon\n",
        "%mv /content/flowmm/train.csv /content/flowmm/data/supercon/\n",
        "%mv /content/flowmm/val.csv /content/flowmm/data/supercon/\n",
        "%mv /content/flowmm/test.csv /content/flowmm/data/supercon/\n",
        "print(\"Done\")"
      ],
      "metadata": {
        "id": "EDghvbM-oSi6"
      },
      "id": "EDghvbM-oSi6",
      "execution_count": null,
      "outputs": []
    },
    {
      "cell_type": "markdown",
      "source": [
        "# Pull the supercon Hydra config YAML from GitHub"
      ],
      "metadata": {
        "id": "gXIfC4ZZIN5y"
      },
      "id": "gXIfC4ZZIN5y"
    },
    {
      "cell_type": "code",
      "source": [
        "%cd /content/flowmm/scripts_model/conf/data/\n",
        "!wget https://raw.githubusercontent.com/crhysc/utilities/refs/heads/main/supercon.yaml\n",
        "%cat supercon.yaml"
      ],
      "metadata": {
        "id": "tnBU6MCdIT9e"
      },
      "id": "tnBU6MCdIT9e",
      "execution_count": null,
      "outputs": []
    },
    {
      "cell_type": "markdown",
      "source": [
        "# Modify FlowMM hardcode to accept our supercon dataset"
      ],
      "metadata": {
        "id": "XP9mA1542KMZ"
      },
      "id": "XP9mA1542KMZ"
    },
    {
      "cell_type": "markdown",
      "source": [
        "First, open **Files** in the left sidebar and navigate to **/Content/flowmm/src/flowmm/**. Click **cfg_utils.py**, and on line 15, add \"supercon\" to the *dataset_options* literal and delete all other strings in the tuple. Once you have done that, run the following code to generate the necessary affine stats YAML."
      ],
      "metadata": {
        "id": "oGES28ePM1Jx"
      },
      "id": "oGES28ePM1Jx"
    },
    {
      "cell_type": "markdown",
      "source": [
        "# Generate SPD stats"
      ],
      "metadata": {
        "id": "TgDT_QRk1LtU"
      },
      "id": "TgDT_QRk1LtU"
    },
    {
      "cell_type": "code",
      "source": [
        "%cd /content/flowmm\n",
        "!bash create_env_file.sh && \\\n",
        " echo \"successfully ran create_env_file.sh\" && \\\n",
        " HYDRA_FULL_ERROR=1 \\\n",
        " conda run -p /usr/local/envs/flowmm_env --live-stream \\\n",
        "    python -u -m flowmm.rfm.manifolds.spd"
      ],
      "metadata": {
        "id": "-zY7EpeZ1Y8m",
        "outputId": "8a625062-556b-40eb-a222-220680160669",
        "colab": {
          "base_uri": "https://localhost:8080/"
        }
      },
      "id": "-zY7EpeZ1Y8m",
      "execution_count": 132,
      "outputs": [
        {
          "output_type": "stream",
          "name": "stdout",
          "text": [
            "/content/flowmm\n",
            "successfully ran create_env_file.sh\n",
            "calculate the stats of p(L | N) for each dataset\n",
            "dataset='supercon':   0% 0/1 [00:00<?, ?it/s]\n",
            "Traceback (most recent call last):\n",
            "  File \"/usr/local/envs/flowmm_env/lib/python3.9/runpy.py\", line 197, in _run_module_as_main\n",
            "    return _run_code(code, main_globals, None,\n",
            "  File \"/usr/local/envs/flowmm_env/lib/python3.9/runpy.py\", line 87, in _run_code\n",
            "    exec(code, run_globals)\n",
            "  File \"/content/flowmm/src/flowmm/rfm/manifolds/spd.py\", line 498, in <module>\n",
            "    atom_density, _ = get_atom_density(dataset)\n",
            "  File \"/content/flowmm/src/flowmm/rfm/manifolds/spd.py\", line 366, in get_atom_density\n",
            "    return get_spd_data(dataset, path, \"atom_density\")\n",
            "  File \"/content/flowmm/src/flowmm/rfm/manifolds/spd.py\", line 341, in get_spd_data\n",
            "    mean = torch.tensor(stats[dataset][\"mean\"])\n",
            "  File \"/usr/local/envs/flowmm_env/lib/python3.9/site-packages/omegaconf/dictconfig.py\", line 375, in __getitem__\n",
            "    self._format_and_raise(key=key, value=None, cause=e)\n",
            "  File \"/usr/local/envs/flowmm_env/lib/python3.9/site-packages/omegaconf/base.py\", line 231, in _format_and_raise\n",
            "    format_and_raise(\n",
            "  File \"/usr/local/envs/flowmm_env/lib/python3.9/site-packages/omegaconf/_utils.py\", line 899, in format_and_raise\n",
            "    _raise(ex, cause)\n",
            "  File \"/usr/local/envs/flowmm_env/lib/python3.9/site-packages/omegaconf/_utils.py\", line 797, in _raise\n",
            "    raise ex.with_traceback(sys.exc_info()[2])  # set env var OC_CAUSE=1 for full trace\n",
            "  File \"/usr/local/envs/flowmm_env/lib/python3.9/site-packages/omegaconf/dictconfig.py\", line 369, in __getitem__\n",
            "    return self._get_impl(key=key, default_value=_DEFAULT_MARKER_)\n",
            "  File \"/usr/local/envs/flowmm_env/lib/python3.9/site-packages/omegaconf/dictconfig.py\", line 442, in _get_impl\n",
            "    node = self._get_child(\n",
            "  File \"/usr/local/envs/flowmm_env/lib/python3.9/site-packages/omegaconf/basecontainer.py\", line 73, in _get_child\n",
            "    child = self._get_node(\n",
            "  File \"/usr/local/envs/flowmm_env/lib/python3.9/site-packages/omegaconf/dictconfig.py\", line 480, in _get_node\n",
            "    raise ConfigKeyError(f\"Missing key {key!s}\")\n",
            "omegaconf.errors.ConfigKeyError: Missing key supercon\n",
            "    full_key: supercon\n",
            "    object_type=dict\n",
            "ERROR conda.cli.main_run:execute(125): `conda run python -u -m flowmm.rfm.manifolds.spd` failed. (See above for error)\n"
          ]
        }
      ]
    },
    {
      "cell_type": "markdown",
      "source": [
        "# Create the required affine stats YAML for the dataset"
      ],
      "metadata": {
        "id": "nuaxNOR5FTF8"
      },
      "id": "nuaxNOR5FTF8"
    },
    {
      "cell_type": "code",
      "source": [
        "%cd /content/flowmm\n",
        "!bash create_env_file.sh && \\\n",
        " echo \"successfully ran create_env_file.sh\" && \\\n",
        " HYDRA_FULL_ERROR=1 \\\n",
        " conda run -p /usr/local/envs/flowmm_env --live-stream \\\n",
        "    python -u -m flowmm.model.standardize \\\n",
        "                 data=supercon"
      ],
      "metadata": {
        "id": "hbr5_rFN8vyq"
      },
      "id": "hbr5_rFN8vyq",
      "execution_count": null,
      "outputs": []
    },
    {
      "cell_type": "markdown",
      "source": [
        "# (4) TRAINING\n",
        "# Manifolds\n",
        "\n",
        "\n",
        "- FlowMM allows the user to select a variety of manifolds via the keyword argument   \n",
        "`model={atom_type_manifold}_{lattice_manifold}`  \n",
        "when using `scripts_model/run.py`.  \n",
        "\n",
        "- Atom type manifolds and lattice type manifolds can be found in `scripts_model/conf/model`."
      ],
      "metadata": {
        "id": "G7RtzMrfZ16h"
      },
      "id": "G7RtzMrfZ16h"
    },
    {
      "cell_type": "markdown",
      "source": [
        "# Unconditional Training"
      ],
      "metadata": {
        "id": "k2NUXjT_A718"
      },
      "id": "k2NUXjT_A718"
    },
    {
      "cell_type": "code",
      "source": [
        "%cd /content/flowmm\n",
        "!bash create_env_file.sh && \\\n",
        " echo \"successfully ran create_env_file.sh\" && \\\n",
        " HYDRA_FULL_ERROR=1 \\\n",
        " conda run -p /usr/local/envs/flowmm_env --live-stream \\\n",
        "    python -u -m scripts_model.run data=supercon model=abits_params \\\n",
        "    data.datamodule.batch_size.train=64 \\\n",
        "    data.datamodule.batch_size.val=64 \\\n",
        "    data.datamodule.batch_size.test=64"
      ],
      "metadata": {
        "collapsed": true,
        "id": "HzvxQufsW02F"
      },
      "id": "HzvxQufsW02F",
      "execution_count": null,
      "outputs": []
    },
    {
      "cell_type": "markdown",
      "source": [
        "# Conditional Training"
      ],
      "metadata": {
        "id": "BdD4OYhiZ6RR"
      },
      "id": "BdD4OYhiZ6RR"
    },
    {
      "cell_type": "code",
      "execution_count": null,
      "id": "1b4bd253",
      "metadata": {
        "id": "1b4bd253",
        "collapsed": true
      },
      "outputs": [],
      "source": [
        "%cd /content/flowmm\n",
        "!bash create_env_file.sh && \\\n",
        " echo \"successfully ran create_env_file.sh\" && \\\n",
        " HYDRA_FULL_ERROR=1 \\\n",
        " conda run -p /usr/local/envs/flowmm_env --live-stream \\\n",
        "    python -u -m scripts_model.run data=supercon model=null_params \\\n",
        "    data.datamodule.batch_size.train=64 \\\n",
        "    data.datamodule.batch_size.val=64 \\\n",
        "    data.datamodule.batch_size.test=64"
      ]
    },
    {
      "cell_type": "markdown",
      "source": [
        "# (5) INFERENCE\n",
        "# De Novo Generation / Unconditional Evalation"
      ],
      "metadata": {
        "id": "82OOqQ49aAgQ"
      },
      "id": "82OOqQ49aAgQ"
    },
    {
      "cell_type": "code",
      "source": [
        "!PROJECT_ROOT=/content/cdvae \\\n",
        " HYDRA_JOBS=/content/cdvae/hydra_outputs \\\n",
        " WABDB_DIR=/content/cdvae/wandb_outputs \\\n",
        " conda run -p /usr/local/envs/cdvae_legacy --live-stream \\\n",
        "    python /content/cdvae/scripts/evaluate.py \\\n",
        "    --model_path /content/cdvae/hydra_outputs/singlerun/2025-05-27/supercon \\\n",
        "    --tasks recon"
      ],
      "metadata": {
        "id": "36yfncwoIjTG"
      },
      "id": "36yfncwoIjTG",
      "execution_count": null,
      "outputs": []
    },
    {
      "cell_type": "code",
      "source": [
        "import torch\n",
        "from pprint import pprint\n",
        "path = \"/content/cdvae/hydra_outputs/singlerun/2025-05-27/supercon/eval_recon.pt\"\n",
        "data = torch.load(path, map_location=\"cpu\", weights_only=False)\n",
        "pprint(data, width=120, indent=2)"
      ],
      "metadata": {
        "id": "OU1Tnz-jEIGH"
      },
      "id": "OU1Tnz-jEIGH",
      "execution_count": null,
      "outputs": []
    },
    {
      "cell_type": "markdown",
      "source": [
        "# Generation"
      ],
      "metadata": {
        "id": "PhoRljBrJJ7i"
      },
      "id": "PhoRljBrJJ7i"
    },
    {
      "cell_type": "code",
      "source": [
        "!PROJECT_ROOT=/content/cdvae \\\n",
        " HYDRA_JOBS=/content/cdvae/hydra_outputs \\\n",
        " WABDB_DIR=/content/cdvae/wandb_outputs \\\n",
        " conda run -p /usr/local/envs/cdvae_legacy --live-stream \\\n",
        "    python /content/cdvae/scripts/evaluate.py \\\n",
        "    --model_path /content/cdvae/hydra_outputs/singlerun/2025-05-27/supercon \\\n",
        "    --tasks gen"
      ],
      "metadata": {
        "id": "ts83cgH65lBj"
      },
      "id": "ts83cgH65lBj",
      "execution_count": null,
      "outputs": []
    },
    {
      "cell_type": "code",
      "source": [
        "import torch\n",
        "from pprint import pprint\n",
        "path = \"/content/cdvae/hydra_outputs/singlerun/2025-05-27/supercon/eval_gen.pt\"\n",
        "data = torch.load(path, map_location=\"cpu\", weights_only=False)\n",
        "pprint(data, width=120, indent=2)"
      ],
      "metadata": {
        "id": "qmS4oJ_zKAT2"
      },
      "id": "qmS4oJ_zKAT2",
      "execution_count": null,
      "outputs": []
    },
    {
      "cell_type": "markdown",
      "source": [
        "# Optimization"
      ],
      "metadata": {
        "id": "ThQg4vGDJMrL"
      },
      "id": "ThQg4vGDJMrL"
    },
    {
      "cell_type": "code",
      "source": [
        "!PROJECT_ROOT=/content/cdvae \\\n",
        " HYDRA_JOBS=/content/cdvae/hydra_outputs \\\n",
        " WABDB_DIR=/content/cdvae/wandb_outputs \\\n",
        " conda run -p /usr/local/envs/cdvae_legacy --live-stream \\\n",
        "    python /content/cdvae/scripts/evaluate.py \\\n",
        "    --model_path /content/cdvae/hydra_outputs/singlerun/2025-05-27/supercon \\\n",
        "    --tasks opt"
      ],
      "metadata": {
        "id": "ljbWE4kS5mMp"
      },
      "id": "ljbWE4kS5mMp",
      "execution_count": null,
      "outputs": []
    },
    {
      "cell_type": "code",
      "source": [
        "import torch\n",
        "from pprint import pprint\n",
        "path = \"/content/cdvae/hydra_outputs/singlerun/2025-05-27/supercon/eval_opt.pt\"\n",
        "data = torch.load(path, map_location=\"cpu\", weights_only=False)\n",
        "pprint(data, width=120, indent=2)"
      ],
      "metadata": {
        "id": "NZLGP0ZCKBC3"
      },
      "id": "NZLGP0ZCKBC3",
      "execution_count": null,
      "outputs": []
    },
    {
      "cell_type": "markdown",
      "source": [
        "# (7) EVALUATION"
      ],
      "metadata": {
        "id": "816h3Am6N8dS"
      },
      "id": "816h3Am6N8dS"
    },
    {
      "cell_type": "code",
      "source": [
        "!PROJECT_ROOT=/content/cdvae \\\n",
        " HYDRA_JOBS=/content/cdvae/hydra_outputs \\\n",
        " WABDB_DIR=/content/cdvae/wandb_outputs \\\n",
        " conda run -p /usr/local/envs/cdvae_legacy --live-stream \\\n",
        "    python scripts/compute_metrics.py \\\n",
        "    --root_path /content/cdvae/hydra_outputs/singlerun/2025-05-27/supercon \\\n",
        "    --tasks recon gen opt"
      ],
      "metadata": {
        "id": "Gl9rnKvmOBd1"
      },
      "id": "Gl9rnKvmOBd1",
      "execution_count": null,
      "outputs": []
    },
    {
      "cell_type": "markdown",
      "source": [
        "# (8) NEXT STEPS & REFERENCES\n",
        "\n",
        "## Next Steps\n",
        "\n",
        "1. **Hyperparameter exploration**  \n",
        "   - Try different numbers of noise levels (`model.num_noise_level`) and training epochs to improve sample quality.\n",
        "\n",
        "2. **Property-conditioned generation**  \n",
        "   - Re-enable the property predictor (`model.predict_property=True`) and train with longer schedules to improve prediction accuracy.\n",
        "   - After training, sample structures by specifying a target critical temperature and evaluate via DFT or empirical models.\n",
        "\n",
        "\n",
        "---\n",
        "\n",
        "## References\n",
        "\n",
        "- **Original CDVAE paper:**  \n",
        "  Li _et al._, “Crystal Diffusion Variational Autoencoder for Inverse Materials Design,” _J. Phys. Chem. Lett._ 2023, DOI: [10.1021/acs.jpclett.3c01260](https://pubs.acs.org/doi/10.1021/acs.jpclett.3c01260)\n",
        "\n",
        "- **CDVAE GitHub repo:**  \n",
        "  https://github.com/txie-93/cdvae\n",
        "\n",
        "- **JARVIS-Materials-Design:**  \n",
        "  https://github.com/JARVIS-Materials-Design/jarvis\n",
        "\n",
        "- **Hydra configuration framework:**  \n",
        "  https://hydra.cc\n",
        "\n",
        "- **PyTorch Lightning:**  \n",
        "  https://www.pytorchlightning.ai\n",
        "\n",
        "- **condacolab:**  \n",
        "  https://github.com/conda-incubator/condacolab\n",
        "\n",
        "- **Mamba (fast conda):**  \n",
        "  https://github.com/mamba-org/mamba\n",
        "\n",
        "- **Jarvis-tools (data ETL):**  \n",
        "  https://github.com/JARVIS-Materials-Design/jarvis-tools\n"
      ],
      "metadata": {
        "id": "jl8B-XPE-GR3"
      },
      "id": "jl8B-XPE-GR3"
    }
  ],
  "metadata": {
    "jupytext": {
      "cell_metadata_filter": "-all",
      "encoding": "# -*- coding: utf-8 -*-",
      "main_language": "python",
      "notebook_metadata_filter": "-all"
    },
    "colab": {
      "provenance": [],
      "include_colab_link": true
    },
    "language_info": {
      "name": "python"
    },
    "kernelspec": {
      "name": "python3",
      "display_name": "Python 3"
    }
  },
  "nbformat": 4,
  "nbformat_minor": 5
}