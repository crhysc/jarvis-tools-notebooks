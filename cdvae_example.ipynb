{
  "cells": [
    {
      "cell_type": "markdown",
      "metadata": {
        "id": "view-in-github",
        "colab_type": "text"
      },
      "source": [
        "<a href=\"https://colab.research.google.com/github/crhysc/jarvis-tools-notebooks/blob/master/cdvae_example.ipynb\" target=\"_parent\"><img src=\"https://colab.research.google.com/assets/colab-badge.svg\" alt=\"Open In Colab\"/></a>"
      ]
    },
    {
      "cell_type": "markdown",
      "source": [
        "# Inverse Design of Next-Generation Superconductors Using Data-Driven Deep Generative Models\n",
        "\n",
        "# Tutorial: CDVAE, Crystal Diffusion Variational AutoEncoder\n",
        "\n",
        "\n",
        "\n",
        "[Reference DOI](https://pubs.acs.org/doi/10.1021/acs.jpclett.3c01260)\n",
        "\n",
        "Authors: Charles \"Rhys\" Campbell (crc00042@mix.wvu.edu), Kamal Choudhary (kamal.choudhary@nist.gov),"
      ],
      "metadata": {
        "id": "MUMuDXuhXvRE"
      },
      "id": "MUMuDXuhXvRE"
    },
    {
      "cell_type": "markdown",
      "source": [
        "# (1) INTRODUCTION AND MOTIVATION\n"
      ],
      "metadata": {
        "id": "GHy9RobiX6HO"
      },
      "id": "GHy9RobiX6HO"
    },
    {
      "cell_type": "markdown",
      "source": [
        "# (2) INSTALLATION, CONFIGURATION, AND DEPENDENCIES\n"
      ],
      "metadata": {
        "id": "RxCe6MOhX8wW"
      },
      "id": "RxCe6MOhX8wW"
    },
    {
      "cell_type": "markdown",
      "source": [
        "# Install Conda"
      ],
      "metadata": {
        "id": "ZFu1FE4zxU_G"
      },
      "id": "ZFu1FE4zxU_G"
    },
    {
      "cell_type": "code",
      "execution_count": null,
      "id": "d40fa633",
      "metadata": {
        "id": "d40fa633"
      },
      "outputs": [],
      "source": [
        "!pip install -q condacolab\n",
        "import condacolab, os, sys\n",
        "condacolab.install()\n",
        "print(\"Done\")"
      ]
    },
    {
      "cell_type": "markdown",
      "source": [
        "# Install CDVAE"
      ],
      "metadata": {
        "id": "RxnmdEiyX-3s"
      },
      "id": "RxnmdEiyX-3s"
    },
    {
      "cell_type": "code",
      "execution_count": null,
      "id": "87930ce0",
      "metadata": {
        "id": "87930ce0",
        "collapsed": true
      },
      "outputs": [],
      "source": [
        "import os\n",
        "%cd /content\n",
        "if not os.path.exists('cdvae'):\n",
        "  !git clone https://github.com/txie-93/cdvae.git\n",
        "print(\"Done\")"
      ]
    },
    {
      "cell_type": "markdown",
      "source": [
        "# Switch Colab Runtime to GPU\n",
        "At the top menu by the Colab logo, select **Runtime** -> **Change runtime type** -> **Any GPU**    \n",
        "\n",
        "If this works, create GPU-based conda environment.  \n",
        "\n",
        "If this fails due to usage limits, make the CPU-based conda environment.  \n",
        "\n"
      ],
      "metadata": {
        "id": "RKNI_pfiYKez"
      },
      "id": "RKNI_pfiYKez"
    },
    {
      "cell_type": "markdown",
      "source": [
        "# Create **GPU**-based conda environment for CDVAE\n",
        "\n",
        "#### Creating the **GPU** legacy env takes 7 minutes\n"
      ],
      "metadata": {
        "id": "I5U2uH3HYGYA"
      },
      "id": "I5U2uH3HYGYA"
    },
    {
      "cell_type": "code",
      "execution_count": null,
      "id": "4309419c",
      "metadata": {
        "id": "4309419c"
      },
      "outputs": [],
      "source": [
        "%%time\n",
        "%cd /content/cdvae\n",
        "!mamba env create -p /usr/local/envs/cdvae_legacy -f env.yml\n",
        "!conda run -p /usr/local/envs/cdvae_legacy --live-stream\\\n",
        "    mamba install -c conda-forge \"torchmetrics<0.8\" --yes\n",
        "!conda run -p /usr/local/envs/cdvae_legacy --live-stream\\\n",
        "    mamba install mkl=2024.0 --yes\n",
        "!conda run -p /usr/local/envs/cdvae_legacy --live-stream\\\n",
        "    pip install \"monty==2022.9.9\"\n",
        "!conda run -p /usr/local/envs/cdvae_legacy --live-stream\\\n",
        "    mamba install -c conda-forge \"pymatgen>=2022.0.8,<2023\" --yes\n",
        "!conda run -p /usr/local/envs/cdvae_legacy --live-stream\\\n",
        "    pip install pandas jarvis-tools\n",
        "!conda run -p /usr/local/envs/cdvae_legacy --live-stream\\\n",
        "    pip install --upgrade torch_geometric==1.7.0\n",
        "!conda run -p /usr/local/envs/cdvae_legacy --live-stream\\\n",
        "    pip install -e .\n",
        "print(\"Done\")"
      ]
    },
    {
      "cell_type": "code",
      "execution_count": null,
      "id": "89b6b2d5",
      "metadata": {
        "id": "89b6b2d5"
      },
      "outputs": [],
      "source": [
        "!conda run -p /usr/local/envs/cdvae_legacy python -c \"import sys; print(sys.version)\"\n",
        "# proves that conda is running python 3.8.*"
      ]
    },
    {
      "cell_type": "markdown",
      "source": [
        "# Create **CPU**-based conda environment for CDVAE\n",
        "\n",
        "#### Creating the **CPU** legacy env takes 10 minutes\n"
      ],
      "metadata": {
        "id": "fvXUH6LBbrO-"
      },
      "id": "fvXUH6LBbrO-"
    },
    {
      "cell_type": "code",
      "source": [
        "%%time\n",
        "%cd /content/cdvae\n",
        "!mamba env create -p /usr/local/envs/cdvae_legacy -f env.cpu.yml\n",
        "!conda run -p /usr/local/envs/cdvae_legacy --live-stream\\\n",
        "    mamba install -c conda-forge \"torchmetrics<0.8\" --yes\n",
        "!conda run -p /usr/local/envs/cdvae_legacy --live-stream\\\n",
        "    mamba install mkl=2024.0 --yes\n",
        "!conda run -p /usr/local/envs/cdvae_legacy --live-stream\\\n",
        "    pip install \"monty==2022.9.9\"\n",
        "!conda run -p /usr/local/envs/cdvae_legacy --live-stream\\\n",
        "    mamba install -c conda-forge \"pymatgen>=2022.0.8,<2023\" --yes\n",
        "!conda run -p /usr/local/envs/cdvae_legacy --live-stream\\\n",
        "    pip install pandas jarvis-tools\n",
        "!conda run -p /usr/local/envs/cdvae_legacy --live-stream\\\n",
        "    pip install --upgrade torch_geometric==1.7.0\n",
        "!conda run -p /usr/local/envs/cdvae_legacy --live-stream\\\n",
        "    pip install -e .\n",
        "print(\"Done\")"
      ],
      "metadata": {
        "id": "EhndWC7Qd8Yo",
        "collapsed": true
      },
      "id": "EhndWC7Qd8Yo",
      "execution_count": null,
      "outputs": []
    },
    {
      "cell_type": "code",
      "source": [
        "!conda run -p /usr/local/envs/cdvae_legacy --live-stream\\\n",
        "    pip install --upgrade torch_geometric==1.7.0"
      ],
      "metadata": {
        "id": "Ic2QdmyvAigg"
      },
      "id": "Ic2QdmyvAigg",
      "execution_count": null,
      "outputs": []
    },
    {
      "cell_type": "markdown",
      "source": [
        "# Install Other dependencies\n"
      ],
      "metadata": {
        "id": "-S-tghd_r5at"
      },
      "id": "-S-tghd_r5at"
    },
    {
      "cell_type": "markdown",
      "source": [],
      "metadata": {
        "id": "EHjMaXujxor2"
      },
      "id": "EHjMaXujxor2"
    },
    {
      "cell_type": "code",
      "source": [
        "!pip install torch-geometric\n",
        "!conda run -p /usr/local/envs/cdvae_legacy --live-stream\\\n",
        "    pip install pandas jarvis-tools"
      ],
      "metadata": {
        "collapsed": true,
        "id": "57uFtXBbs8-l"
      },
      "id": "57uFtXBbs8-l",
      "execution_count": null,
      "outputs": []
    },
    {
      "cell_type": "markdown",
      "source": [
        "# (3) DATASET ETL (Extract-Transform-Load)\n"
      ],
      "metadata": {
        "id": "U0r5S-jNYNje"
      },
      "id": "U0r5S-jNYNje"
    },
    {
      "cell_type": "markdown",
      "source": [
        "# Download data pre-processor"
      ],
      "metadata": {
        "id": "w0bEujxyydMx"
      },
      "id": "w0bEujxyydMx"
    },
    {
      "cell_type": "markdown",
      "source": [
        "Data was generated using this [script](https://github.com/JARVIS-Materials-Design/cdvae/blob/main/scripts/generate_data_cdvae.py). It lives in the JARVIS Materials design repository, and it compiles a set of around 1000 structures and their superconducting critical temperatures into the format required for CDVAE training."
      ],
      "metadata": {
        "id": "yA221iCNZyh-"
      },
      "id": "yA221iCNZyh-"
    },
    {
      "cell_type": "code",
      "execution_count": null,
      "id": "a01b9fa5",
      "metadata": {
        "id": "a01b9fa5"
      },
      "outputs": [],
      "source": [
        "!wget https://raw.githubusercontent.com/JARVIS-Materials-Design/cdvae/refs/heads/main/scripts/generate_data_cdvae.py"
      ]
    },
    {
      "cell_type": "markdown",
      "source": [
        "# Run data pre-processor"
      ],
      "metadata": {
        "id": "0QyFCXnQyh1u"
      },
      "id": "0QyFCXnQyh1u"
    },
    {
      "cell_type": "code",
      "source": [
        "!conda run -p /usr/local/envs/cdvae_legacy --live-stream \\\n",
        "    python generate_data_cdvae.py\n",
        "print(\"Done\")"
      ],
      "metadata": {
        "id": "10tlt-F9hOkC"
      },
      "id": "10tlt-F9hOkC",
      "execution_count": null,
      "outputs": []
    },
    {
      "cell_type": "markdown",
      "source": [
        "# Move train/test/val data to the correct spot"
      ],
      "metadata": {
        "id": "c-lJ4YZRylJW"
      },
      "id": "c-lJ4YZRylJW"
    },
    {
      "cell_type": "code",
      "source": [
        "%cd /content\n",
        "%mkdir /content/cdvae/data/supercon\n",
        "%mv /content/cdvae/scripts/train.csv /content/cdvae/data/supercon/\n",
        "%mv /content/cdvae/scripts/val.csv /content/cdvae/data/supercon/\n",
        "%mv /content/cdvae/scripts/test.csv /content/cdvae/data/supercon/\n",
        "print(\"Done\")"
      ],
      "metadata": {
        "id": "EDghvbM-oSi6"
      },
      "id": "EDghvbM-oSi6",
      "execution_count": null,
      "outputs": []
    },
    {
      "cell_type": "markdown",
      "source": [
        "# Pull the supercon Hydra config YAML from JARVIS"
      ],
      "metadata": {
        "id": "gXIfC4ZZIN5y"
      },
      "id": "gXIfC4ZZIN5y"
    },
    {
      "cell_type": "code",
      "source": [
        "%cd /content/cdvae/conf/data/\n",
        "!wget https://raw.githubusercontent.com/JARVIS-Materials-Design/cdvae/refs/heads/main/conf/data/supercon.yaml"
      ],
      "metadata": {
        "id": "tnBU6MCdIT9e"
      },
      "id": "tnBU6MCdIT9e",
      "execution_count": null,
      "outputs": []
    },
    {
      "cell_type": "markdown",
      "source": [
        "# (4) TRAIN WITHOUT PROPERTY PREDICTOR"
      ],
      "metadata": {
        "id": "G7RtzMrfZ16h"
      },
      "id": "G7RtzMrfZ16h"
    },
    {
      "cell_type": "markdown",
      "source": [
        "# If using **GPU**"
      ],
      "metadata": {
        "id": "d2TZYO2mWsG0"
      },
      "id": "d2TZYO2mWsG0"
    },
    {
      "cell_type": "code",
      "execution_count": null,
      "id": "a53248c0",
      "metadata": {
        "id": "a53248c0",
        "collapsed": true
      },
      "outputs": [],
      "source": [
        "!PROJECT_ROOT=/content/cdvae \\\n",
        " HYDRA_JOBS=/content/cdvae/hydra_outputs \\\n",
        " HYDRA_FULL_ERROR=1 \\\n",
        " WABDB_DIR=/content/cdvae/wandb_outputs \\\n",
        " WANDB_ANONYMOUS=allow \\\n",
        " conda run -p /usr/local/envs/cdvae_legacy --live-stream \\\n",
        "    python -u -m cdvae.run data=supercon expname=supercon \\\n",
        "    model.num_noise_level=2 \\\n",
        "    data.train_max_epochs=2"
      ]
    },
    {
      "cell_type": "markdown",
      "source": [
        "# If using **CPU**"
      ],
      "metadata": {
        "id": "kTiAeHCNWySO"
      },
      "id": "kTiAeHCNWySO"
    },
    {
      "cell_type": "code",
      "source": [
        "!PROJECT_ROOT=/content/cdvae \\\n",
        " HYDRA_JOBS=/content/cdvae/hydra_outputs \\\n",
        " HYDRA_FULL_ERROR=1 \\\n",
        " WABDB_DIR=/content/cdvae/wandb_outputs \\\n",
        " WANDB_ANONYMOUS=allow \\\n",
        " conda run -p /usr/local/envs/cdvae_legacy --live-stream \\\n",
        "    python -u -m cdvae.run data=supercon expname=supercon \\\n",
        "    model.num_noise_level=2 \\\n",
        "    data.train_max_epochs=2 \\\n",
        "    train.pl_trainer.gpus=0"
      ],
      "metadata": {
        "collapsed": true,
        "id": "HzvxQufsW02F"
      },
      "id": "HzvxQufsW02F",
      "execution_count": null,
      "outputs": []
    },
    {
      "cell_type": "markdown",
      "source": [
        "# (5) TRAIN WITH PROPERTY PREDICTOR"
      ],
      "metadata": {
        "id": "BdD4OYhiZ6RR"
      },
      "id": "BdD4OYhiZ6RR"
    },
    {
      "cell_type": "markdown",
      "source": [
        "# If using **GPU**"
      ],
      "metadata": {
        "id": "ATDbkZDNYaNV"
      },
      "id": "ATDbkZDNYaNV"
    },
    {
      "cell_type": "code",
      "execution_count": null,
      "id": "1b4bd253",
      "metadata": {
        "id": "1b4bd253",
        "collapsed": true
      },
      "outputs": [],
      "source": [
        "!PROJECT_ROOT=/content/cdvae \\\n",
        " HYDRA_JOBS=/content/cdvae/hydra_outputs \\\n",
        " HYDRA_FULL_ERROR=1 \\\n",
        " WABDB_DIR=/content/cdvae/wandb_outputs \\\n",
        " WANDB_ANONYMOUS=allow \\\n",
        " conda run -p /usr/local/envs/cdvae_legacy --live-stream \\\n",
        "    python -u -m cdvae.run data=supercon expname=supercon \\\n",
        "    model.num_noise_level=2 \\\n",
        "    data.train_max_epochs=2 \\\n",
        "    train.pl_trainer.gpus=0 \\\n",
        "    model.predict_property=True"
      ]
    },
    {
      "cell_type": "markdown",
      "source": [
        "# If using **CPU**"
      ],
      "metadata": {
        "id": "Cjt9VBcKYsW5"
      },
      "id": "Cjt9VBcKYsW5"
    },
    {
      "cell_type": "code",
      "source": [
        "!PROJECT_ROOT=/content/cdvae \\\n",
        " HYDRA_JOBS=/content/cdvae/hydra_outputs \\\n",
        " HYDRA_FULL_ERROR=1 \\\n",
        " WABDB_DIR=/content/cdvae/wandb_outputs \\\n",
        " WANDB_ANONYMOUS=allow \\\n",
        " conda run -p /usr/local/envs/cdvae_legacy --live-stream \\\n",
        "    python -u -m cdvae.run data=supercon expname=supercon \\\n",
        "    data.train_max_epochs=2 \\\n",
        "    model.num_noise_level=2 \\\n",
        "    model.predict_property=True \\\n",
        "    train.pl_trainer.gpus=0"
      ],
      "metadata": {
        "id": "G99tTkqOY7fc"
      },
      "id": "G99tTkqOY7fc",
      "execution_count": null,
      "outputs": []
    },
    {
      "cell_type": "markdown",
      "source": [
        "# (6) INFERENCE"
      ],
      "metadata": {
        "id": "82OOqQ49aAgQ"
      },
      "id": "82OOqQ49aAgQ"
    },
    {
      "cell_type": "markdown",
      "source": [
        "# Reconstruction"
      ],
      "metadata": {
        "id": "p-e0LL9bJH80"
      },
      "id": "p-e0LL9bJH80"
    },
    {
      "cell_type": "code",
      "source": [
        "!PROJECT_ROOT=/content/cdvae \\\n",
        " HYDRA_JOBS=/content/cdvae/hydra_outputs \\\n",
        " WABDB_DIR=/content/cdvae/wandb_outputs \\\n",
        " conda run -p /usr/local/envs/cdvae_legacy --live-stream \\\n",
        "    python /content/cdvae/scripts/evaluate.py \\\n",
        "    --model_path /content/cdvae/hydra_outputs/singlerun/2025-05-27/supercon \\\n",
        "    --tasks recon"
      ],
      "metadata": {
        "id": "36yfncwoIjTG"
      },
      "id": "36yfncwoIjTG",
      "execution_count": null,
      "outputs": []
    },
    {
      "cell_type": "code",
      "source": [
        "import torch\n",
        "from pprint import pprint\n",
        "path = \"/content/cdvae/hydra_outputs/singlerun/2025-05-27/supercon/eval_recon.pt\"\n",
        "data = torch.load(path, map_location=\"cpu\", weights_only=False)\n",
        "pprint(data, width=120, indent=2)"
      ],
      "metadata": {
        "id": "OU1Tnz-jEIGH",
        "outputId": "c79f3744-8972-40d9-9d86-a2446a00259e",
        "colab": {
          "base_uri": "https://localhost:8080/"
        }
      },
      "id": "OU1Tnz-jEIGH",
      "execution_count": 72,
      "outputs": [
        {
          "output_type": "stream",
          "name": "stdout",
          "text": [
            "{ 'all_atom_types_stack': [],\n",
            "  'all_frac_coords_stack': [],\n",
            "  'angles': tensor([[[88.4881, 85.0363, 90.2158],\n",
            "         [91.6090, 84.9120, 90.4209],\n",
            "         [91.8586, 87.8223, 91.1908],\n",
            "         [83.4981, 82.6112, 92.8762],\n",
            "         [80.8399, 82.4497, 77.8793],\n",
            "         [88.7957, 86.7069, 88.3294],\n",
            "         [83.0859, 78.7776, 84.8059],\n",
            "         [85.0294, 84.5192, 89.9592],\n",
            "         [85.9765, 85.6731, 87.3198],\n",
            "         [93.1717, 90.7440, 96.3543],\n",
            "         [93.6946, 85.4302, 94.4052],\n",
            "         [87.3645, 82.1149, 88.5198],\n",
            "         [88.9543, 82.4099, 85.8510],\n",
            "         [90.2550, 84.2351, 90.6315],\n",
            "         [83.6130, 83.1166, 86.3351],\n",
            "         [91.4460, 86.0063, 90.3574],\n",
            "         [80.8413, 81.3563, 80.6149],\n",
            "         [81.7868, 78.1572, 83.4049],\n",
            "         [88.5204, 85.6616, 93.6883],\n",
            "         [83.7781, 80.4717, 81.8280],\n",
            "         [88.2029, 84.8290, 92.5654],\n",
            "         [84.5454, 79.5651, 84.8938],\n",
            "         [79.4835, 80.0969, 83.5648],\n",
            "         [89.1225, 88.0191, 91.8006],\n",
            "         [88.7825, 82.7215, 91.3170],\n",
            "         [83.8644, 81.4883, 92.8184],\n",
            "         [82.3671, 82.6171, 87.7023],\n",
            "         [90.4354, 84.8609, 89.2260],\n",
            "         [79.3164, 79.4515, 80.6847],\n",
            "         [90.1865, 87.6521, 90.8840],\n",
            "         [81.9027, 82.7458, 88.9409],\n",
            "         [80.1680, 80.7788, 84.9314],\n",
            "         [93.5967, 86.4898, 96.2258],\n",
            "         [83.2141, 82.6254, 86.6779],\n",
            "         [85.9068, 83.3890, 90.2459],\n",
            "         [79.5764, 76.3461, 82.5928],\n",
            "         [81.6950, 79.0637, 88.4666],\n",
            "         [92.6757, 88.7104, 91.4417],\n",
            "         [89.0096, 85.6910, 90.5559],\n",
            "         [91.7061, 86.8721, 89.1085],\n",
            "         [89.2775, 81.6788, 84.9422],\n",
            "         [90.9803, 84.5122, 91.8138],\n",
            "         [79.9571, 80.7181, 79.9463],\n",
            "         [83.7617, 78.9653, 81.0610],\n",
            "         [85.2717, 83.9446, 87.5462],\n",
            "         [89.3514, 86.4187, 91.3761],\n",
            "         [85.7073, 75.8390, 82.0011],\n",
            "         [87.3331, 85.1991, 86.4020],\n",
            "         [89.3439, 86.0474, 92.7816],\n",
            "         [88.5444, 83.4941, 88.1661],\n",
            "         [85.9360, 74.5301, 83.0983],\n",
            "         [93.2058, 84.3545, 90.0220],\n",
            "         [89.8397, 84.3507, 94.3587],\n",
            "         [84.0910, 86.8200, 89.9172],\n",
            "         [96.7110, 86.2626, 93.1540],\n",
            "         [86.8519, 84.1551, 84.1887],\n",
            "         [82.6492, 81.2559, 84.6656],\n",
            "         [89.5735, 82.0963, 87.5873],\n",
            "         [86.3587, 86.9485, 91.5355],\n",
            "         [82.5824, 81.7001, 83.8530],\n",
            "         [80.7604, 81.3893, 84.2334],\n",
            "         [85.5218, 84.2269, 88.0808],\n",
            "         [84.7853, 79.5199, 86.3065],\n",
            "         [84.3301, 80.6039, 88.0123],\n",
            "         [90.2283, 84.3350, 88.9874],\n",
            "         [91.4454, 88.7694, 96.4939],\n",
            "         [88.9947, 85.1455, 94.6809],\n",
            "         [86.7932, 86.7787, 87.4300],\n",
            "         [88.0611, 84.8020, 83.7275],\n",
            "         [82.1508, 78.7874, 88.6561],\n",
            "         [86.1403, 83.5831, 88.1322],\n",
            "         [82.6234, 81.5496, 85.1285],\n",
            "         [90.4394, 85.6796, 90.8469],\n",
            "         [81.0650, 82.6593, 77.8560],\n",
            "         [93.1101, 85.5101, 89.9048],\n",
            "         [79.8414, 77.0471, 85.6960],\n",
            "         [93.2929, 85.7316, 93.9540],\n",
            "         [86.8994, 86.1100, 92.9857],\n",
            "         [82.4664, 79.4281, 84.3132],\n",
            "         [86.4097, 86.1585, 90.0934],\n",
            "         [89.6106, 84.6786, 90.8315],\n",
            "         [85.6916, 84.5420, 87.2061],\n",
            "         [98.6992, 89.9720, 96.4219],\n",
            "         [90.7347, 86.3318, 88.6882],\n",
            "         [85.0501, 83.1391, 88.3315],\n",
            "         [95.1055, 88.0521, 96.2213],\n",
            "         [81.0158, 76.6943, 81.3171],\n",
            "         [85.3994, 82.2519, 86.4448],\n",
            "         [87.0833, 80.7239, 84.5579],\n",
            "         [88.3054, 82.7381, 90.1170],\n",
            "         [82.9494, 80.9213, 81.3092],\n",
            "         [91.9534, 82.0306, 91.4930],\n",
            "         [84.5919, 81.9211, 86.9954],\n",
            "         [85.0731, 86.6389, 90.5097],\n",
            "         [85.7455, 80.1765, 86.9675],\n",
            "         [81.2567, 78.0951, 82.0359],\n",
            "         [81.5546, 82.3296, 91.5557],\n",
            "         [89.8334, 86.9697, 87.3559],\n",
            "         [86.1549, 81.8665, 80.8619],\n",
            "         [91.8884, 87.0613, 90.5995],\n",
            "         [84.5795, 83.5278, 87.4833],\n",
            "         [88.4731, 86.8597, 94.3238],\n",
            "         [82.3634, 82.5236, 94.5075],\n",
            "         [84.3635, 80.3735, 89.6888],\n",
            "         [82.9490, 78.6826, 83.3225]]]),\n",
            "  'atom_types': tensor([[ 8, 13, 14, 14,  7,  4,  3, 13, 41, 13, 22, 31,  8, 45,  5,  8,  3, 22,\n",
            "         23, 45, 14,  4, 41, 13,  8, 28,  7, 21, 23, 42,  7, 22,  8, 23,  8,  5,\n",
            "         27, 21,  4, 45, 41, 45,  8, 13, 21, 21, 45,  5, 23, 13, 41,  4, 41, 21,\n",
            "          4, 13, 21, 28, 41, 41, 22,  7, 21, 22, 41, 41, 41,  5, 41, 41,  5, 45,\n",
            "         21,  4,  9,  8, 28,  4, 41, 41, 41, 41, 21, 45, 21, 13, 45,  5, 28, 14,\n",
            "         45, 27, 41, 41, 41,  7, 41, 14,  4,  3, 13, 28, 28, 41, 13,  5, 28, 13,\n",
            "         13, 45,  8, 28, 41, 45, 13, 22, 22, 22,  4,  8,  4, 14,  5, 22, 41, 21,\n",
            "         21, 41, 41,  8, 28, 45, 13, 21,  8, 21,  4, 13,  5,  7, 22,  7,  8,  3,\n",
            "         41, 28, 23, 41, 28,  7, 41,  7, 28, 13, 28, 21, 45, 28, 22, 21,  4, 45,\n",
            "          8,  3, 27, 45,  8,  8,  8,  5, 13, 13, 21,  3, 22, 25, 21, 45,  8, 45,\n",
            "          4,  7, 27, 45,  4, 22, 23,  8,  4, 23, 21,  7, 41,  7,  3,  4, 45,  9,\n",
            "         21,  5, 45,  5, 30,  8, 13,  4, 22, 21, 21, 41,  4, 45,  3, 28, 22, 41,\n",
            "         45, 41,  4, 28, 41, 13, 41, 41, 28,  4, 13,  4,  4,  4,  4, 21, 23, 41,\n",
            "          4, 21, 13, 45, 44, 45,  3,  3,  4, 21, 41,  5, 45,  5, 22, 23, 15, 22,\n",
            "         23, 44, 45, 21,  4,  4, 13, 21, 45, 13,  7,  4,  5, 21, 21,  4,  5,  3,\n",
            "          4,  7,  7,  7, 28, 45,  5, 45,  5, 13, 21, 22, 21,  7,  5, 45, 21, 28,\n",
            "          5, 45, 41,  8,  7, 13,  7, 21, 23,  5,  5, 22, 13, 41, 41, 41,  8, 21,\n",
            "         23, 45,  4,  5,  8, 27,  4, 23, 23, 23, 28, 21, 27, 25,  8, 22, 21, 13,\n",
            "          4, 21, 21, 21, 21, 21, 45, 21, 13, 21, 21, 27, 13, 23, 22, 45, 16, 41,\n",
            "         41, 41, 41,  8, 44,  5, 28, 14, 23, 44, 14, 23,  4, 45, 21,  3,  3, 28,\n",
            "         41, 41, 41, 41,  8,  8, 23,  5,  9, 13, 13, 45, 44, 31, 30, 21, 21, 21,\n",
            "         45, 22,  4, 45, 21, 21,  3, 13,  7, 44, 41, 41, 41, 41]]),\n",
            "  'eval_setting': Namespace(model_path='/content/cdvae/hydra_outputs/singlerun/2025-05-27/supercon', tasks=['recon'], n_step_each=100, step_lr=0.0001, min_sigma=0, save_traj=False, disable_bar=False, num_evals=1, num_batches_to_samples=20, start_from='data', batch_size=500, force_num_atoms=False, force_atom_types=False, down_sample_traj_step=10, label=''),\n",
            "  'frac_coords': tensor([[[0.2818, 0.5794, 0.0680],\n",
            "         [0.0423, 0.8520, 0.8277],\n",
            "         [0.4767, 0.7321, 0.7509],\n",
            "         ...,\n",
            "         [0.2192, 0.3714, 0.1128],\n",
            "         [0.9324, 0.5663, 0.9383],\n",
            "         [0.4252, 0.9309, 0.0144]]]),\n",
            "  'input_data_batch': <torch_geometric.data.batch.Batch object at 0x7d61ad13d950>,\n",
            "  'lengths': tensor([[[3.7825, 3.8128, 5.2628],\n",
            "         [3.1045, 3.3559, 4.2845],\n",
            "         [3.2367, 3.7164, 4.4391],\n",
            "         [3.7139, 3.9629, 4.7356],\n",
            "         [3.8046, 3.9424, 4.7361],\n",
            "         [3.7911, 3.9670, 4.8172],\n",
            "         [4.2011, 4.2864, 5.1041],\n",
            "         [3.5505, 3.6594, 4.3647],\n",
            "         [4.1452, 4.2956, 5.3593],\n",
            "         [3.0860, 3.0737, 3.8460],\n",
            "         [3.5736, 3.8367, 4.9008],\n",
            "         [4.3551, 4.3400, 5.2891],\n",
            "         [3.9830, 4.1816, 5.0552],\n",
            "         [3.4722, 3.4664, 4.4746],\n",
            "         [4.1533, 4.2115, 5.0385],\n",
            "         [3.3841, 3.6353, 4.4182],\n",
            "         [3.9396, 4.1154, 5.4558],\n",
            "         [4.1326, 4.5105, 5.1954],\n",
            "         [3.4901, 3.6423, 4.5648],\n",
            "         [4.0215, 4.4004, 5.3265],\n",
            "         [3.4512, 3.5598, 4.6920],\n",
            "         [3.1207, 3.2813, 4.0799],\n",
            "         [3.9143, 3.9776, 5.2159],\n",
            "         [3.9020, 4.0661, 5.1596],\n",
            "         [3.3480, 3.3924, 4.0708],\n",
            "         [3.9976, 4.2307, 5.4689],\n",
            "         [3.8980, 4.0356, 4.9112],\n",
            "         [3.9309, 3.9992, 4.9932],\n",
            "         [4.1940, 4.2255, 5.8573],\n",
            "         [3.3454, 3.4977, 4.5624],\n",
            "         [3.3468, 3.5545, 4.4924],\n",
            "         [3.9457, 4.1781, 4.9629],\n",
            "         [3.1424, 3.2269, 4.4093],\n",
            "         [3.6182, 3.9828, 4.6028],\n",
            "         [3.9208, 3.9197, 5.0998],\n",
            "         [4.1865, 4.3178, 5.5071],\n",
            "         [4.0795, 4.1644, 4.8153],\n",
            "         [3.7551, 3.9066, 4.5938],\n",
            "         [3.8235, 4.0050, 4.5995],\n",
            "         [3.0802, 3.3098, 4.0922],\n",
            "         [3.6451, 3.9456, 5.0359],\n",
            "         [3.1442, 3.4264, 4.1771],\n",
            "         [3.9198, 4.5298, 5.5651],\n",
            "         [4.0219, 4.0901, 5.2964],\n",
            "         [3.8362, 4.0129, 4.9747],\n",
            "         [3.6571, 3.8250, 4.5322],\n",
            "         [4.0421, 4.1810, 4.8855],\n",
            "         [3.5231, 3.8887, 4.8863],\n",
            "         [3.7843, 3.7469, 4.9757],\n",
            "         [3.3544, 3.5759, 4.3497],\n",
            "         [4.5588, 4.7872, 5.3772],\n",
            "         [3.7082, 3.9759, 4.9791],\n",
            "         [3.5415, 3.7613, 4.6486],\n",
            "         [3.9481, 4.0373, 5.2923],\n",
            "         [3.1149, 3.2289, 4.0008],\n",
            "         [3.6944, 3.9679, 5.1421],\n",
            "         [3.6834, 3.9932, 4.8698],\n",
            "         [3.9722, 4.3402, 4.7514],\n",
            "         [3.7953, 3.8081, 4.7418],\n",
            "         [3.8482, 4.1724, 4.8181],\n",
            "         [4.3487, 4.5099, 5.2360],\n",
            "         [3.9741, 4.0453, 5.1158],\n",
            "         [4.4191, 4.2982, 5.2138],\n",
            "         [3.9662, 3.9658, 5.2719],\n",
            "         [3.7433, 4.0622, 4.8156],\n",
            "         [3.4026, 3.5420, 4.5149],\n",
            "         [3.1301, 3.4570, 4.1298],\n",
            "         [3.8241, 3.6762, 4.8220],\n",
            "         [3.3783, 3.6269, 4.2897],\n",
            "         [4.0493, 4.0609, 5.4289],\n",
            "         [3.7581, 3.8817, 4.9727],\n",
            "         [3.9705, 4.0826, 5.0459],\n",
            "         [3.2124, 3.3497, 4.0136],\n",
            "         [4.0760, 4.5943, 5.4839],\n",
            "         [3.3517, 3.5635, 4.2125],\n",
            "         [4.4819, 4.5932, 5.3781],\n",
            "         [3.0978, 3.2934, 4.1986],\n",
            "         [3.8070, 4.0204, 5.1589],\n",
            "         [3.6019, 3.7380, 4.3909],\n",
            "         [3.6826, 3.8312, 5.0812],\n",
            "         [3.6240, 3.7388, 4.6036],\n",
            "         [3.9060, 4.0352, 5.0301],\n",
            "         [3.7112, 3.8991, 5.0351],\n",
            "         [3.2157, 3.5746, 4.1813],\n",
            "         [3.8245, 3.9666, 4.4714],\n",
            "         [3.0821, 3.3514, 4.1904],\n",
            "         [4.1466, 4.6004, 5.2272],\n",
            "         [3.8176, 3.8544, 4.7598],\n",
            "         [4.1150, 4.3865, 4.6478],\n",
            "         [3.6502, 3.8717, 4.7112],\n",
            "         [4.1029, 4.5888, 5.3841],\n",
            "         [3.7253, 3.9907, 5.2263],\n",
            "         [4.2519, 4.4837, 4.9299],\n",
            "         [3.4794, 3.6698, 4.7131],\n",
            "         [4.0718, 4.4210, 5.2094],\n",
            "         [4.5428, 4.4177, 5.2684],\n",
            "         [3.8123, 3.9336, 5.0970],\n",
            "         [3.8133, 4.0944, 5.1418],\n",
            "         [3.8423, 4.1097, 4.9554],\n",
            "         [3.6338, 3.6391, 4.6247],\n",
            "         [3.8802, 4.1678, 5.0427],\n",
            "         [3.9246, 4.1284, 4.8896],\n",
            "         [4.1485, 4.1013, 5.0142],\n",
            "         [3.9292, 4.0942, 5.1003],\n",
            "         [4.1028, 4.2081, 5.0172]]]),\n",
            "  'num_atoms': tensor([[4, 3, 3, 4, 4, 4, 4, 3, 4, 3, 4, 4, 4, 3, 4, 3, 4, 4, 3, 4, 3, 2, 4, 4,\n",
            "         3, 4, 4, 4, 4, 3, 3, 4, 3, 4, 4, 4, 4, 4, 4, 3, 4, 3, 4, 4, 4, 4, 4, 4,\n",
            "         4, 3, 4, 4, 4, 4, 3, 4, 4, 4, 4, 4, 4, 4, 4, 4, 4, 4, 3, 4, 3, 4, 4, 4,\n",
            "         3, 4, 4, 4, 3, 4, 3, 3, 4, 4, 4, 3, 4, 3, 4, 4, 4, 3, 4, 4, 4, 3, 4, 4,\n",
            "         4, 4, 4, 4, 4, 4, 4, 4, 4]]),\n",
            "  'time': 279.53733587265015}\n"
          ]
        }
      ]
    },
    {
      "cell_type": "markdown",
      "source": [
        "# Generation"
      ],
      "metadata": {
        "id": "PhoRljBrJJ7i"
      },
      "id": "PhoRljBrJJ7i"
    },
    {
      "cell_type": "code",
      "source": [
        "!PROJECT_ROOT=/content/cdvae \\\n",
        " HYDRA_JOBS=/content/cdvae/hydra_outputs \\\n",
        " WABDB_DIR=/content/cdvae/wandb_outputs \\\n",
        " conda run -p /usr/local/envs/cdvae_legacy --live-stream \\\n",
        "    python /content/cdvae/scripts/evaluate.py \\\n",
        "    --model_path /content/cdvae/hydra_outputs/singlerun/2025-05-27/supercon \\\n",
        "    --tasks gen"
      ],
      "metadata": {
        "id": "ts83cgH65lBj"
      },
      "id": "ts83cgH65lBj",
      "execution_count": null,
      "outputs": []
    },
    {
      "cell_type": "code",
      "source": [
        "import torch\n",
        "from pprint import pprint\n",
        "path = \"/content/cdvae/hydra_outputs/singlerun/2025-05-27/supercon/eval_gen.pt\"\n",
        "data = torch.load(path, map_location=\"cpu\", weights_only=False)\n",
        "pprint(data, width=120, indent=2)"
      ],
      "metadata": {
        "id": "qmS4oJ_zKAT2",
        "outputId": "f88c5228-c629-4170-8e72-1847c222f200",
        "colab": {
          "base_uri": "https://localhost:8080/"
        }
      },
      "id": "qmS4oJ_zKAT2",
      "execution_count": 73,
      "outputs": [
        {
          "output_type": "stream",
          "name": "stdout",
          "text": [
            "{ 'all_atom_types_stack': [],\n",
            "  'all_frac_coords_stack': [],\n",
            "  'angles': tensor([[[88.4881, 85.0363, 90.2158],\n",
            "         [91.6090, 84.9120, 90.4209],\n",
            "         [91.8586, 87.8223, 91.1908],\n",
            "         [83.4981, 82.6112, 92.8762],\n",
            "         [80.8399, 82.4497, 77.8793],\n",
            "         [88.7957, 86.7069, 88.3294],\n",
            "         [83.0859, 78.7776, 84.8059],\n",
            "         [85.0294, 84.5192, 89.9592],\n",
            "         [85.9765, 85.6731, 87.3198],\n",
            "         [93.1717, 90.7440, 96.3543],\n",
            "         [93.6946, 85.4302, 94.4052],\n",
            "         [87.3645, 82.1149, 88.5198],\n",
            "         [88.9543, 82.4099, 85.8510],\n",
            "         [90.2550, 84.2351, 90.6315],\n",
            "         [83.6130, 83.1166, 86.3351],\n",
            "         [91.4460, 86.0063, 90.3574],\n",
            "         [80.8413, 81.3563, 80.6149],\n",
            "         [81.7868, 78.1572, 83.4049],\n",
            "         [88.5204, 85.6616, 93.6883],\n",
            "         [83.7781, 80.4717, 81.8280],\n",
            "         [88.2029, 84.8290, 92.5654],\n",
            "         [84.5454, 79.5651, 84.8938],\n",
            "         [79.4835, 80.0969, 83.5648],\n",
            "         [89.1225, 88.0191, 91.8006],\n",
            "         [88.7825, 82.7215, 91.3170],\n",
            "         [83.8644, 81.4883, 92.8184],\n",
            "         [82.3671, 82.6171, 87.7023],\n",
            "         [90.4354, 84.8609, 89.2260],\n",
            "         [79.3164, 79.4515, 80.6847],\n",
            "         [90.1865, 87.6521, 90.8840],\n",
            "         [81.9027, 82.7458, 88.9409],\n",
            "         [80.1680, 80.7788, 84.9314],\n",
            "         [93.5967, 86.4898, 96.2258],\n",
            "         [83.2141, 82.6254, 86.6779],\n",
            "         [85.9068, 83.3890, 90.2459],\n",
            "         [79.5764, 76.3461, 82.5928],\n",
            "         [81.6950, 79.0637, 88.4666],\n",
            "         [92.6757, 88.7104, 91.4417],\n",
            "         [89.0096, 85.6910, 90.5559],\n",
            "         [91.7061, 86.8721, 89.1085],\n",
            "         [89.2775, 81.6788, 84.9422],\n",
            "         [90.9803, 84.5122, 91.8138],\n",
            "         [79.9571, 80.7181, 79.9463],\n",
            "         [83.7617, 78.9653, 81.0610],\n",
            "         [85.2717, 83.9446, 87.5462],\n",
            "         [89.3514, 86.4187, 91.3761],\n",
            "         [85.7073, 75.8390, 82.0011],\n",
            "         [87.3331, 85.1991, 86.4020],\n",
            "         [89.3439, 86.0474, 92.7816],\n",
            "         [88.5444, 83.4941, 88.1661],\n",
            "         [85.9360, 74.5301, 83.0983],\n",
            "         [93.2058, 84.3545, 90.0220],\n",
            "         [89.8397, 84.3507, 94.3587],\n",
            "         [84.0910, 86.8200, 89.9172],\n",
            "         [96.7110, 86.2626, 93.1540],\n",
            "         [86.8519, 84.1551, 84.1887],\n",
            "         [82.6492, 81.2559, 84.6656],\n",
            "         [89.5735, 82.0963, 87.5873],\n",
            "         [86.3587, 86.9485, 91.5355],\n",
            "         [82.5824, 81.7001, 83.8530],\n",
            "         [80.7604, 81.3893, 84.2334],\n",
            "         [85.5218, 84.2269, 88.0808],\n",
            "         [84.7853, 79.5199, 86.3065],\n",
            "         [84.3301, 80.6039, 88.0123],\n",
            "         [90.2283, 84.3350, 88.9874],\n",
            "         [91.4454, 88.7694, 96.4939],\n",
            "         [88.9947, 85.1455, 94.6809],\n",
            "         [86.7932, 86.7787, 87.4300],\n",
            "         [88.0611, 84.8020, 83.7275],\n",
            "         [82.1508, 78.7874, 88.6561],\n",
            "         [86.1403, 83.5831, 88.1322],\n",
            "         [82.6234, 81.5496, 85.1285],\n",
            "         [90.4394, 85.6796, 90.8469],\n",
            "         [81.0650, 82.6593, 77.8560],\n",
            "         [93.1101, 85.5101, 89.9048],\n",
            "         [79.8414, 77.0471, 85.6960],\n",
            "         [93.2929, 85.7316, 93.9540],\n",
            "         [86.8994, 86.1100, 92.9857],\n",
            "         [82.4664, 79.4281, 84.3132],\n",
            "         [86.4097, 86.1585, 90.0934],\n",
            "         [89.6106, 84.6786, 90.8315],\n",
            "         [85.6916, 84.5420, 87.2061],\n",
            "         [98.6992, 89.9720, 96.4219],\n",
            "         [90.7347, 86.3318, 88.6882],\n",
            "         [85.0501, 83.1391, 88.3315],\n",
            "         [95.1055, 88.0521, 96.2213],\n",
            "         [81.0158, 76.6943, 81.3171],\n",
            "         [85.3994, 82.2519, 86.4448],\n",
            "         [87.0833, 80.7239, 84.5579],\n",
            "         [88.3054, 82.7381, 90.1170],\n",
            "         [82.9494, 80.9213, 81.3092],\n",
            "         [91.9534, 82.0306, 91.4930],\n",
            "         [84.5919, 81.9211, 86.9954],\n",
            "         [85.0731, 86.6389, 90.5097],\n",
            "         [85.7455, 80.1765, 86.9675],\n",
            "         [81.2567, 78.0951, 82.0359],\n",
            "         [81.5546, 82.3296, 91.5557],\n",
            "         [89.8334, 86.9697, 87.3559],\n",
            "         [86.1549, 81.8665, 80.8619],\n",
            "         [91.8884, 87.0613, 90.5995],\n",
            "         [84.5795, 83.5278, 87.4833],\n",
            "         [88.4731, 86.8597, 94.3238],\n",
            "         [82.3634, 82.5236, 94.5075],\n",
            "         [84.3635, 80.3735, 89.6888],\n",
            "         [82.9490, 78.6826, 83.3225]]]),\n",
            "  'atom_types': tensor([[ 8, 13, 14, 14,  7,  4,  3, 13, 41, 13, 22, 31,  8, 45,  5,  8,  3, 22,\n",
            "         23, 45, 14,  4, 41, 13,  8, 28,  7, 21, 23, 42,  7, 22,  8, 23,  8,  5,\n",
            "         27, 21,  4, 45, 41, 45,  8, 13, 21, 21, 45,  5, 23, 13, 41,  4, 41, 21,\n",
            "          4, 13, 21, 28, 41, 41, 22,  7, 21, 22, 41, 41, 41,  5, 41, 41,  5, 45,\n",
            "         21,  4,  9,  8, 28,  4, 41, 41, 41, 41, 21, 45, 21, 13, 45,  5, 28, 14,\n",
            "         45, 27, 41, 41, 41,  7, 41, 14,  4,  3, 13, 28, 28, 41, 13,  5, 28, 13,\n",
            "         13, 45,  8, 28, 41, 45, 13, 22, 22, 22,  4,  8,  4, 14,  5, 22, 41, 21,\n",
            "         21, 41, 41,  8, 28, 45, 13, 21,  8, 21,  4, 13,  5,  7, 22,  7,  8,  3,\n",
            "         41, 28, 23, 41, 28,  7, 41,  7, 28, 13, 28, 21, 45, 28, 22, 21,  4, 45,\n",
            "          8,  3, 27, 45,  8,  8,  8,  5, 13, 13, 21,  3, 22, 25, 21, 45,  8, 45,\n",
            "          4,  7, 27, 45,  4, 22, 23,  8,  4, 23, 21,  7, 41,  7,  3,  4, 45,  9,\n",
            "         21,  5, 45,  5, 30,  8, 13,  4, 22, 21, 21, 41,  4, 45,  3, 28, 22, 41,\n",
            "         45, 41,  4, 28, 41, 13, 41, 41, 28,  4, 13,  4,  4,  4,  4, 21, 23, 41,\n",
            "          4, 21, 13, 45, 44, 45,  3,  3,  4, 21, 41,  5, 45,  5, 22, 23, 15, 22,\n",
            "         23, 44, 45, 21,  4,  4, 13, 21, 45, 13,  7,  4,  5, 21, 21,  4,  5,  3,\n",
            "          4,  7,  7,  7, 28, 45,  5, 45,  5, 13, 21, 22, 21,  7,  5, 45, 21, 28,\n",
            "          5, 45, 41,  8,  7, 13,  7, 21, 23,  5,  5, 22, 13, 41, 41, 41,  8, 21,\n",
            "         23, 45,  4,  5,  8, 27,  4, 23, 23, 23, 28, 21, 27, 25,  8, 22, 21, 13,\n",
            "          4, 21, 21, 21, 21, 21, 45, 21, 13, 21, 21, 27, 13, 23, 22, 45, 16, 41,\n",
            "         41, 41, 41,  8, 44,  5, 28, 14, 23, 44, 14, 23,  4, 45, 21,  3,  3, 28,\n",
            "         41, 41, 41, 41,  8,  8, 23,  5,  9, 13, 13, 45, 44, 31, 30, 21, 21, 21,\n",
            "         45, 22,  4, 45, 21, 21,  3, 13,  7, 44, 41, 41, 41, 41]]),\n",
            "  'eval_setting': Namespace(model_path='/content/cdvae/hydra_outputs/singlerun/2025-05-27/supercon', tasks=['recon'], n_step_each=100, step_lr=0.0001, min_sigma=0, save_traj=False, disable_bar=False, num_evals=1, num_batches_to_samples=20, start_from='data', batch_size=500, force_num_atoms=False, force_atom_types=False, down_sample_traj_step=10, label=''),\n",
            "  'frac_coords': tensor([[[0.2818, 0.5794, 0.0680],\n",
            "         [0.0423, 0.8520, 0.8277],\n",
            "         [0.4767, 0.7321, 0.7509],\n",
            "         ...,\n",
            "         [0.2192, 0.3714, 0.1128],\n",
            "         [0.9324, 0.5663, 0.9383],\n",
            "         [0.4252, 0.9309, 0.0144]]]),\n",
            "  'input_data_batch': <torch_geometric.data.batch.Batch object at 0x7d61aea81c50>,\n",
            "  'lengths': tensor([[[3.7825, 3.8128, 5.2628],\n",
            "         [3.1045, 3.3559, 4.2845],\n",
            "         [3.2367, 3.7164, 4.4391],\n",
            "         [3.7139, 3.9629, 4.7356],\n",
            "         [3.8046, 3.9424, 4.7361],\n",
            "         [3.7911, 3.9670, 4.8172],\n",
            "         [4.2011, 4.2864, 5.1041],\n",
            "         [3.5505, 3.6594, 4.3647],\n",
            "         [4.1452, 4.2956, 5.3593],\n",
            "         [3.0860, 3.0737, 3.8460],\n",
            "         [3.5736, 3.8367, 4.9008],\n",
            "         [4.3551, 4.3400, 5.2891],\n",
            "         [3.9830, 4.1816, 5.0552],\n",
            "         [3.4722, 3.4664, 4.4746],\n",
            "         [4.1533, 4.2115, 5.0385],\n",
            "         [3.3841, 3.6353, 4.4182],\n",
            "         [3.9396, 4.1154, 5.4558],\n",
            "         [4.1326, 4.5105, 5.1954],\n",
            "         [3.4901, 3.6423, 4.5648],\n",
            "         [4.0215, 4.4004, 5.3265],\n",
            "         [3.4512, 3.5598, 4.6920],\n",
            "         [3.1207, 3.2813, 4.0799],\n",
            "         [3.9143, 3.9776, 5.2159],\n",
            "         [3.9020, 4.0661, 5.1596],\n",
            "         [3.3480, 3.3924, 4.0708],\n",
            "         [3.9976, 4.2307, 5.4689],\n",
            "         [3.8980, 4.0356, 4.9112],\n",
            "         [3.9309, 3.9992, 4.9932],\n",
            "         [4.1940, 4.2255, 5.8573],\n",
            "         [3.3454, 3.4977, 4.5624],\n",
            "         [3.3468, 3.5545, 4.4924],\n",
            "         [3.9457, 4.1781, 4.9629],\n",
            "         [3.1424, 3.2269, 4.4093],\n",
            "         [3.6182, 3.9828, 4.6028],\n",
            "         [3.9208, 3.9197, 5.0998],\n",
            "         [4.1865, 4.3178, 5.5071],\n",
            "         [4.0795, 4.1644, 4.8153],\n",
            "         [3.7551, 3.9066, 4.5938],\n",
            "         [3.8235, 4.0050, 4.5995],\n",
            "         [3.0802, 3.3098, 4.0922],\n",
            "         [3.6451, 3.9456, 5.0359],\n",
            "         [3.1442, 3.4264, 4.1771],\n",
            "         [3.9198, 4.5298, 5.5651],\n",
            "         [4.0219, 4.0901, 5.2964],\n",
            "         [3.8362, 4.0129, 4.9747],\n",
            "         [3.6571, 3.8250, 4.5322],\n",
            "         [4.0421, 4.1810, 4.8855],\n",
            "         [3.5231, 3.8887, 4.8863],\n",
            "         [3.7843, 3.7469, 4.9757],\n",
            "         [3.3544, 3.5759, 4.3497],\n",
            "         [4.5588, 4.7872, 5.3772],\n",
            "         [3.7082, 3.9759, 4.9791],\n",
            "         [3.5415, 3.7613, 4.6486],\n",
            "         [3.9481, 4.0373, 5.2923],\n",
            "         [3.1149, 3.2289, 4.0008],\n",
            "         [3.6944, 3.9679, 5.1421],\n",
            "         [3.6834, 3.9932, 4.8698],\n",
            "         [3.9722, 4.3402, 4.7514],\n",
            "         [3.7953, 3.8081, 4.7418],\n",
            "         [3.8482, 4.1724, 4.8181],\n",
            "         [4.3487, 4.5099, 5.2360],\n",
            "         [3.9741, 4.0453, 5.1158],\n",
            "         [4.4191, 4.2982, 5.2138],\n",
            "         [3.9662, 3.9658, 5.2719],\n",
            "         [3.7433, 4.0622, 4.8156],\n",
            "         [3.4026, 3.5420, 4.5149],\n",
            "         [3.1301, 3.4570, 4.1298],\n",
            "         [3.8241, 3.6762, 4.8220],\n",
            "         [3.3783, 3.6269, 4.2897],\n",
            "         [4.0493, 4.0609, 5.4289],\n",
            "         [3.7581, 3.8817, 4.9727],\n",
            "         [3.9705, 4.0826, 5.0459],\n",
            "         [3.2124, 3.3497, 4.0136],\n",
            "         [4.0760, 4.5943, 5.4839],\n",
            "         [3.3517, 3.5635, 4.2125],\n",
            "         [4.4819, 4.5932, 5.3781],\n",
            "         [3.0978, 3.2934, 4.1986],\n",
            "         [3.8070, 4.0204, 5.1589],\n",
            "         [3.6019, 3.7380, 4.3909],\n",
            "         [3.6826, 3.8312, 5.0812],\n",
            "         [3.6240, 3.7388, 4.6036],\n",
            "         [3.9060, 4.0352, 5.0301],\n",
            "         [3.7112, 3.8991, 5.0351],\n",
            "         [3.2157, 3.5746, 4.1813],\n",
            "         [3.8245, 3.9666, 4.4714],\n",
            "         [3.0821, 3.3514, 4.1904],\n",
            "         [4.1466, 4.6004, 5.2272],\n",
            "         [3.8176, 3.8544, 4.7598],\n",
            "         [4.1150, 4.3865, 4.6478],\n",
            "         [3.6502, 3.8717, 4.7112],\n",
            "         [4.1029, 4.5888, 5.3841],\n",
            "         [3.7253, 3.9907, 5.2263],\n",
            "         [4.2519, 4.4837, 4.9299],\n",
            "         [3.4794, 3.6698, 4.7131],\n",
            "         [4.0718, 4.4210, 5.2094],\n",
            "         [4.5428, 4.4177, 5.2684],\n",
            "         [3.8123, 3.9336, 5.0970],\n",
            "         [3.8133, 4.0944, 5.1418],\n",
            "         [3.8423, 4.1097, 4.9554],\n",
            "         [3.6338, 3.6391, 4.6247],\n",
            "         [3.8802, 4.1678, 5.0427],\n",
            "         [3.9246, 4.1284, 4.8896],\n",
            "         [4.1485, 4.1013, 5.0142],\n",
            "         [3.9292, 4.0942, 5.1003],\n",
            "         [4.1028, 4.2081, 5.0172]]]),\n",
            "  'num_atoms': tensor([[4, 3, 3, 4, 4, 4, 4, 3, 4, 3, 4, 4, 4, 3, 4, 3, 4, 4, 3, 4, 3, 2, 4, 4,\n",
            "         3, 4, 4, 4, 4, 3, 3, 4, 3, 4, 4, 4, 4, 4, 4, 3, 4, 3, 4, 4, 4, 4, 4, 4,\n",
            "         4, 3, 4, 4, 4, 4, 3, 4, 4, 4, 4, 4, 4, 4, 4, 4, 4, 4, 3, 4, 3, 4, 4, 4,\n",
            "         3, 4, 4, 4, 3, 4, 3, 3, 4, 4, 4, 3, 4, 3, 4, 4, 4, 3, 4, 4, 4, 3, 4, 4,\n",
            "         4, 4, 4, 4, 4, 4, 4, 4, 4]]),\n",
            "  'time': 279.53733587265015}\n"
          ]
        }
      ]
    },
    {
      "cell_type": "markdown",
      "source": [
        "# Optimization"
      ],
      "metadata": {
        "id": "ThQg4vGDJMrL"
      },
      "id": "ThQg4vGDJMrL"
    },
    {
      "cell_type": "code",
      "source": [
        "!PROJECT_ROOT=/content/cdvae \\\n",
        " HYDRA_JOBS=/content/cdvae/hydra_outputs \\\n",
        " WABDB_DIR=/content/cdvae/wandb_outputs \\\n",
        " conda run -p /usr/local/envs/cdvae_legacy --live-stream \\\n",
        "    python /content/cdvae/scripts/evaluate.py \\\n",
        "    --model_path /content/cdvae/hydra_outputs/singlerun/2025-05-27/supercon \\\n",
        "    --tasks opt"
      ],
      "metadata": {
        "id": "ljbWE4kS5mMp"
      },
      "id": "ljbWE4kS5mMp",
      "execution_count": null,
      "outputs": []
    },
    {
      "cell_type": "code",
      "source": [
        "import torch\n",
        "from pprint import pprint\n",
        "path = \"/content/cdvae/hydra_outputs/singlerun/2025-05-27/supercon/eval_recon.pt\"\n",
        "data = torch.load(path, map_location=\"cpu\", weights_only=False)\n",
        "pprint(data, width=120, indent=2)"
      ],
      "metadata": {
        "id": "NZLGP0ZCKBC3"
      },
      "id": "NZLGP0ZCKBC3",
      "execution_count": null,
      "outputs": []
    },
    {
      "cell_type": "markdown",
      "source": [
        "# (7) NEXT STEPS & REFERENCES\n",
        "\n",
        "## Next Steps\n",
        "\n",
        "1. **Hyperparameter exploration**  \n",
        "   - Try different numbers of noise levels (`model.num_noise_level`) and training epochs to improve sample quality.  \n",
        "   - Use Hydra’s multirun (`hydra -m`) to sweep learning rates, batch sizes, and noise schedules in parallel.\n",
        "\n",
        "2. **Property-conditioned generation**  \n",
        "   - Re-enable the property predictor (`model.predict_property=True`) and train with longer schedules to learn accurate Tₙₑ predictions.  \n",
        "   - After training, sample structures by specifying a target critical temperature and evaluate via DFT or empirical models.\n",
        "\n",
        "3. **Dataset expansion**  \n",
        "   - Incorporate additional superconducting materials from JARVIS or other open databases to grow beyond the ~1 000-structure subset.  \n",
        "   - Preprocess new data with `generate_data_cdvae.py` (adjust train/val/test splits as needed).\n",
        "\n",
        "4. **Model evaluation and validation**  \n",
        "   - Use the `scripts/evaluate.py` tasks `recon`, `gen`, and `opt` to quantify reconstruction error, chemical validity, and property matching.  \n",
        "   - Compute domain-specific metrics: e.g. composition novelty, structural clustering in latent space, and MAE on Tc.\n",
        "\n",
        "5. **Downstream integration**  \n",
        "   - Wrap inference in a simple web demo (Gradio or Streamlit) so collaborators can interactively explore generated candidates.  \n",
        "   - Integrate into a computational pipeline (e.g. DVC + GitHub Actions) for reproducible end-to-end workflows.\n",
        "\n",
        "6. **Advanced research directions**  \n",
        "   - Extend the diffusion VAE approach to other material classes (e.g. thermoelectrics, battery cathodes).  \n",
        "   - Investigate Lorentzian or graph-based diffusion processes to directly handle crystal symmetry constraints.\n",
        "\n",
        "---\n",
        "\n",
        "## References\n",
        "\n",
        "- **Original CDVAE paper:**  \n",
        "  Li _et al._, “Crystal Diffusion Variational Autoencoder for Inverse Materials Design,” _J. Phys. Chem. Lett._ 2023, DOI: [10.1021/acs.jpclett.3c01260](https://pubs.acs.org/doi/10.1021/acs.jpclett.3c01260)\n",
        "\n",
        "- **CDVAE GitHub repo:**  \n",
        "  https://github.com/txie-93/cdvae\n",
        "\n",
        "- **JARVIS-Materials-Design:**  \n",
        "  https://github.com/JARVIS-Materials-Design/jarvis\n",
        "\n",
        "- **Hydra configuration framework:**  \n",
        "  https://hydra.cc\n",
        "\n",
        "- **PyTorch Lightning:**  \n",
        "  https://www.pytorchlightning.ai\n",
        "\n",
        "- **condacolab:**  \n",
        "  https://github.com/conda-incubator/condacolab\n",
        "\n",
        "- **Mamba (fast conda):**  \n",
        "  https://github.com/mamba-org/mamba\n",
        "\n",
        "- **Jarvis-tools (data ETL):**  \n",
        "  https://github.com/JARVIS-Materials-Design/jarvis-tools\n"
      ],
      "metadata": {
        "id": "jl8B-XPE-GR3"
      },
      "id": "jl8B-XPE-GR3"
    }
  ],
  "metadata": {
    "jupytext": {
      "cell_metadata_filter": "-all",
      "encoding": "# -*- coding: utf-8 -*-",
      "main_language": "python",
      "notebook_metadata_filter": "-all"
    },
    "colab": {
      "provenance": [],
      "include_colab_link": true
    },
    "language_info": {
      "name": "python"
    },
    "kernelspec": {
      "name": "python3",
      "display_name": "Python 3"
    }
  },
  "nbformat": 4,
  "nbformat_minor": 5
}