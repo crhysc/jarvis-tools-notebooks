{
  "cells": [
    {
      "cell_type": "markdown",
      "metadata": {
        "id": "view-in-github",
        "colab_type": "text"
      },
      "source": [
        "<a href=\"https://colab.research.google.com/github/crhysc/jarvis-tools-notebooks/blob/master/cdvae_example.ipynb\" target=\"_parent\"><img src=\"https://colab.research.google.com/assets/colab-badge.svg\" alt=\"Open In Colab\"/></a>"
      ]
    },
    {
      "cell_type": "markdown",
      "source": [
        "# Inverse Design of Next-Generation Superconductors Using Data-Driven Deep Generative Models\n",
        "\n",
        "# Tutorial: CDVAE, Crystal Diffusion Variational AutoEncoder\n",
        "\n",
        "\n",
        "\n",
        "[Reference DOI](https://pubs.acs.org/doi/10.1021/acs.jpclett.3c01260)\n",
        "\n",
        "Authors: Charles \"Rhys\" Campbell (crc00042@mix.wvu.edu), Kamal Choudhary (kamal.choudhary@nist.gov),"
      ],
      "metadata": {
        "id": "MUMuDXuhXvRE"
      },
      "id": "MUMuDXuhXvRE"
    },
    {
      "cell_type": "markdown",
      "source": [
        "# (1) INTRODUCTION AND MOTIVATION\n"
      ],
      "metadata": {
        "id": "GHy9RobiX6HO"
      },
      "id": "GHy9RobiX6HO"
    },
    {
      "cell_type": "markdown",
      "source": [
        "# (2) INSTALLATION, CONFIGURATION, AND DEPENDENCIES\n"
      ],
      "metadata": {
        "id": "RxCe6MOhX8wW"
      },
      "id": "RxCe6MOhX8wW"
    },
    {
      "cell_type": "markdown",
      "source": [
        "# Install Conda"
      ],
      "metadata": {
        "id": "ZFu1FE4zxU_G"
      },
      "id": "ZFu1FE4zxU_G"
    },
    {
      "cell_type": "code",
      "execution_count": null,
      "id": "d40fa633",
      "metadata": {
        "id": "d40fa633"
      },
      "outputs": [],
      "source": [
        "!pip install -q condacolab\n",
        "import condacolab, os, sys\n",
        "condacolab.install()\n",
        "print(\"Done\")"
      ]
    },
    {
      "cell_type": "markdown",
      "source": [
        "# Install CDVAE"
      ],
      "metadata": {
        "id": "RxnmdEiyX-3s"
      },
      "id": "RxnmdEiyX-3s"
    },
    {
      "cell_type": "code",
      "execution_count": null,
      "id": "87930ce0",
      "metadata": {
        "id": "87930ce0",
        "collapsed": true
      },
      "outputs": [],
      "source": [
        "import os\n",
        "%cd /content\n",
        "if not os.path.exists('cdvae'):\n",
        "  !git clone https://github.com/txie-93/cdvae.git\n",
        "print(\"Done\")"
      ]
    },
    {
      "cell_type": "markdown",
      "source": [
        "# Switch Colab Runtime to GPU\n",
        "At the top menu by the Colab logo, select **Runtime** -> **Change runtime type** -> **Any GPU**    \n",
        "\n",
        "If this works, create GPU-based conda environment.  \n",
        "\n",
        "If this fails due to usage limits, make the CPU-based conda environment.  \n",
        "\n"
      ],
      "metadata": {
        "id": "RKNI_pfiYKez"
      },
      "id": "RKNI_pfiYKez"
    },
    {
      "cell_type": "markdown",
      "source": [
        "# Create **GPU**-based conda environment for CDVAE\n",
        "\n",
        "#### Creating the **GPU** legacy env takes 7 minutes\n"
      ],
      "metadata": {
        "id": "I5U2uH3HYGYA"
      },
      "id": "I5U2uH3HYGYA"
    },
    {
      "cell_type": "code",
      "execution_count": null,
      "id": "4309419c",
      "metadata": {
        "id": "4309419c"
      },
      "outputs": [],
      "source": [
        "%%time\n",
        "%cd /content/cdvae\n",
        "%pwd\n",
        "!mamba env update -n base -f env.yml -vv\n",
        "!mamba env create -p /usr/local/envs/cdvae_legacy -f env.yml\n",
        "!conda run -p /usr/local/envs/cdvae_legacy --live-stream\\\n",
        "    mamba install -c conda-forge \"torchmetrics<0.8\" --yes\n",
        "!conda run -p /usr/local/envs/cdvae_legacy \\\n",
        "    mamba install mkl=2024.0 --yes\n",
        "!conda run -p /usr/local/envs/cdvae_legacy \\\n",
        "    pip install \"monty==2022.9.9\"\n",
        "!conda run -p /usr/local/envs/cdvae_legacy \\\n",
        "    mamba install -c conda-forge \"pymatgen>=2022.0.8,<2023\" --yes\n",
        "!conda run -p /usr/local/envs/cdvae_legacy \\\n",
        "    pip install -e .\n",
        "print(\"Done\")"
      ]
    },
    {
      "cell_type": "code",
      "execution_count": null,
      "id": "89b6b2d5",
      "metadata": {
        "id": "89b6b2d5"
      },
      "outputs": [],
      "source": [
        "!conda run -p /usr/local/envs/cdvae_legacy python -c \"import sys; print(sys.version)\"\n",
        "# proves that conda is running python 3.8.*"
      ]
    },
    {
      "cell_type": "markdown",
      "source": [
        "# Create **CPU**-based conda environment for CDVAE\n",
        "\n",
        "#### Creating the **CPU** legacy env takes 7 minutes\n"
      ],
      "metadata": {
        "id": "fvXUH6LBbrO-"
      },
      "id": "fvXUH6LBbrO-"
    },
    {
      "cell_type": "code",
      "source": [
        "%%time\n",
        "%cd /content/cdvae\n",
        "%pwd\n",
        "!mamba env update -n base -f env.yml -vv\n",
        "!mamba env create -p /usr/local/envs/cdvae_legacy -f env.cpu.yml\n",
        "!conda run -p /usr/local/envs/cdvae_legacy --live-stream\\\n",
        "    mamba install -c conda-forge \"torchmetrics<0.8\" --yes\n",
        "!conda run -p /usr/local/envs/cdvae_legacy \\\n",
        "    mamba install mkl=2024.0 --yes\n",
        "!conda run -p /usr/local/envs/cdvae_legacy \\\n",
        "    pip install \"monty==2022.9.9\"\n",
        "!conda run -p /usr/local/envs/cdvae_legacy \\\n",
        "    mamba install -c conda-forge \"pymatgen>=2022.0.8,<2023\" --yes\n",
        "!conda run -p /usr/local/envs/cdvae_legacy \\\n",
        "    pip install -e .\n",
        "print(\"Done\")"
      ],
      "metadata": {
        "id": "EhndWC7Qd8Yo",
        "collapsed": true
      },
      "id": "EhndWC7Qd8Yo",
      "execution_count": null,
      "outputs": []
    },
    {
      "cell_type": "markdown",
      "source": [
        "# Install Dataset ETL dependencies\n"
      ],
      "metadata": {
        "id": "-S-tghd_r5at"
      },
      "id": "-S-tghd_r5at"
    },
    {
      "cell_type": "markdown",
      "source": [],
      "metadata": {
        "id": "EHjMaXujxor2"
      },
      "id": "EHjMaXujxor2"
    },
    {
      "cell_type": "code",
      "source": [
        "!conda run -p /usr/local/envs/cdvae_legacy \\\n",
        "    pip install pandas jarvis-tools"
      ],
      "metadata": {
        "collapsed": true,
        "id": "57uFtXBbs8-l"
      },
      "id": "57uFtXBbs8-l",
      "execution_count": null,
      "outputs": []
    },
    {
      "cell_type": "markdown",
      "source": [
        "# (3) DATASET ETL (Extract-Transform-Load)\n"
      ],
      "metadata": {
        "id": "U0r5S-jNYNje"
      },
      "id": "U0r5S-jNYNje"
    },
    {
      "cell_type": "markdown",
      "source": [
        "# Download data pre-processor"
      ],
      "metadata": {
        "id": "w0bEujxyydMx"
      },
      "id": "w0bEujxyydMx"
    },
    {
      "cell_type": "markdown",
      "source": [
        "Data was generated using this [script](https://github.com/JARVIS-Materials-Design/cdvae/blob/main/scripts/generate_data_cdvae.py). It lives in the JARVIS Materials design repository, and it compiles a set of around 1000 structures and their superconducting critical temperatures into the format required for CDVAE training."
      ],
      "metadata": {
        "id": "yA221iCNZyh-"
      },
      "id": "yA221iCNZyh-"
    },
    {
      "cell_type": "code",
      "execution_count": null,
      "id": "a01b9fa5",
      "metadata": {
        "id": "a01b9fa5"
      },
      "outputs": [],
      "source": [
        "%cd /content/cdvae/scripts\n",
        "!wget https://raw.githubusercontent.com/JARVIS-Materials-Design/cdvae/refs/heads/main/scripts/generate_data_cdvae.py"
      ]
    },
    {
      "cell_type": "markdown",
      "source": [
        "# Run data pre-processor"
      ],
      "metadata": {
        "id": "0QyFCXnQyh1u"
      },
      "id": "0QyFCXnQyh1u"
    },
    {
      "cell_type": "code",
      "source": [
        "!conda run -p /usr/local/envs/cdvae_legacy --live-stream \\\n",
        "    python generate_data_cdvae.py\n",
        "print(\"Done\")"
      ],
      "metadata": {
        "id": "10tlt-F9hOkC"
      },
      "id": "10tlt-F9hOkC",
      "execution_count": null,
      "outputs": []
    },
    {
      "cell_type": "markdown",
      "source": [
        "# Move train/test/val data to the correct spot"
      ],
      "metadata": {
        "id": "c-lJ4YZRylJW"
      },
      "id": "c-lJ4YZRylJW"
    },
    {
      "cell_type": "code",
      "source": [
        "%cd /content\n",
        "%mkdir /content/cdvae/data/supercon\n",
        "%mv /content/cdvae/scripts/train.csv /content/cdvae/data/supercon/\n",
        "%mv /content/cdvae/scripts/val.csv /content/cdvae/data/supercon/\n",
        "%mv /content/cdvae/scripts/test.csv /content/cdvae/data/supercon/\n",
        "print(\"Done\")"
      ],
      "metadata": {
        "id": "EDghvbM-oSi6"
      },
      "id": "EDghvbM-oSi6",
      "execution_count": null,
      "outputs": []
    },
    {
      "cell_type": "markdown",
      "source": [
        "# (4) TRAIN WITHOUT PROPERTY PREDICTOR"
      ],
      "metadata": {
        "id": "G7RtzMrfZ16h"
      },
      "id": "G7RtzMrfZ16h"
    },
    {
      "cell_type": "code",
      "execution_count": null,
      "id": "a53248c0",
      "metadata": {
        "id": "a53248c0",
        "collapsed": true
      },
      "outputs": [],
      "source": [
        "!PROJECT_ROOT=/content/cdvae \\\n",
        " HYDRA_JOBS=/content/cdvae/hydra_outputs \\\n",
        " WABDB_DIR=/content/cdvae/wandb_outputs \\\n",
        " conda run -p /usr/local/envs/cdvae_legacy --live-stream \\\n",
        "    python -u -m cdvae.run data=perov expname=supercon"
      ]
    },
    {
      "cell_type": "markdown",
      "source": [
        "# (5) TRAIN WITH PROPERTY PREDICTOR"
      ],
      "metadata": {
        "id": "BdD4OYhiZ6RR"
      },
      "id": "BdD4OYhiZ6RR"
    },
    {
      "cell_type": "code",
      "execution_count": null,
      "id": "1b4bd253",
      "metadata": {
        "id": "1b4bd253",
        "collapsed": true
      },
      "outputs": [],
      "source": [
        "!PROJECT_ROOT=/content/cdvae \\\n",
        " HYDRA_JOBS=/content/cdvae/hydra_outputs \\\n",
        " WABDB_DIR=/content/cdvae/wandb_outputs \\\n",
        " conda run -p /usr/local/envs/cdvae_legacy --live-stream \\\n",
        "   python -u -m cdvae.run data=supercon expname=supercon model.predict_property=True"
      ]
    },
    {
      "cell_type": "markdown",
      "source": [
        "# (6) INFERENCE"
      ],
      "metadata": {
        "id": "82OOqQ49aAgQ"
      },
      "id": "82OOqQ49aAgQ"
    },
    {
      "cell_type": "code",
      "source": [
        "!PROJECT_ROOT=/content/cdvae \\\n",
        " HYDRA_JOBS=/content/cdvae/hydra_outputs \\\n",
        " WABDB_DIR=/content/cdvae/wandb_outputs \\\n",
        " conda run -p /usr/local/envs/cdvae_legacy --live-stream \\\n",
        "    python scripts/evaluate.py --model_path MODEL_PATH --tasks recon gen opt"
      ],
      "metadata": {
        "id": "Bx_nI234iDkG"
      },
      "id": "Bx_nI234iDkG",
      "execution_count": null,
      "outputs": []
    },
    {
      "cell_type": "markdown",
      "source": [
        "# (7) NEXT STEPS & REFERENCES"
      ],
      "metadata": {
        "id": "yYLQD0k7aC2K"
      },
      "id": "yYLQD0k7aC2K"
    },
    {
      "cell_type": "markdown",
      "source": [
        "___\n",
        "___\n",
        "___\n",
        "___\n",
        "___"
      ],
      "metadata": {
        "id": "73fzKNNuaHT6"
      },
      "id": "73fzKNNuaHT6"
    },
    {
      "cell_type": "code",
      "execution_count": null,
      "id": "c83708ae",
      "metadata": {
        "id": "c83708ae"
      },
      "outputs": [],
      "source": [
        "# Commented out IPython magic to ensure Python compatibility.\n",
        "%%time\n",
        "# # Install required packages.\n",
        "# import os\n",
        "# import torch\n",
        "# os.environ['TORCH'] = torch.__version__\n",
        "# print(torch.__version__)\n",
        "#\n",
        "!pip install -q torch-scatter -f https://data.pyg.org/whl/torch-${TORCH}.html\n",
        "!pip install -q torch-sparse -f https://data.pyg.org/whl/torch-${TORCH}.html\n",
        "!pip install -q git+https://github.com/pyg-team/pytorch_geometric.git\n",
        "!pip install -q pytorch-lightning wandb torchmetrics==0.6.0 pymatgen==2022.4.26\n",
        "!pip install -q hydra-core jarvis-tools python-dotenv p-tqdm accelerate"
      ]
    },
    {
      "cell_type": "code",
      "execution_count": null,
      "id": "07b0e61a",
      "metadata": {
        "id": "07b0e61a"
      },
      "outputs": [],
      "source": [
        "!pip install -q pytorch-lightning==1.3.6"
      ]
    },
    {
      "cell_type": "code",
      "execution_count": null,
      "id": "225e6811",
      "metadata": {
        "id": "225e6811"
      },
      "outputs": [],
      "source": [
        "import os\n",
        "os.chdir('/content')\n",
        "if not os.path.exists('cdvae'):\n",
        "  !git clone https://github.com/JARVIS-Materials-Design/cdvae.git"
      ]
    },
    {
      "cell_type": "code",
      "execution_count": null,
      "id": "dff18738",
      "metadata": {
        "id": "dff18738"
      },
      "outputs": [],
      "source": [
        "os.chdir('cdvae')\n",
        "!pip install -e ."
      ]
    },
    {
      "cell_type": "code",
      "execution_count": null,
      "id": "0e40c62f",
      "metadata": {
        "id": "0e40c62f"
      },
      "outputs": [],
      "source": [
        "# Commented out IPython magic to ensure Python compatibility.\n",
        "import os\n",
        "if not os.path.exists(\"/content/cdvae/WABDB\"):\n",
        "  os.makedirs(\"/content/cdvae/WABDB\")\n",
        "if not os.path.exists(\"/content/cdvae/HYDRA_JOBS\"):\n",
        "  os.makedirs(\"/content/cdvae/HYDRA_JOBS\")\n",
        "os.environ[\"PROJECT_ROOT\"]=\"/content/cdvae\"\n",
        "os.environ[\"WABDB\"]=\"/content/cdvae/WABDB\"\n",
        "os.environ[\"WABDB_DIR\"]=\"/content/cdvae/WABDB\"\n",
        "os.environ[\"HYDRA_JOBS\"]=\"/content/cdvae/HYDRA_JOBS\"\n",
        "%env HYDRA_FULL_ERROR=1"
      ]
    },
    {
      "cell_type": "code",
      "execution_count": null,
      "id": "f3b670fb",
      "metadata": {
        "id": "f3b670fb"
      },
      "outputs": [],
      "source": [
        "!echo $HYDRA_FULL_ERROR"
      ]
    },
    {
      "cell_type": "code",
      "execution_count": null,
      "id": "d2d3afc2",
      "metadata": {
        "id": "d2d3afc2"
      },
      "outputs": [],
      "source": [
        "\"\"\"Data was generated using this [script](https://github.com/JARVIS-Materials-Design/cdvae/blob/main/scripts/generate_data_cdvae.py).\"\"\""
      ]
    },
    {
      "cell_type": "code",
      "execution_count": null,
      "id": "815659a4",
      "metadata": {
        "id": "815659a4"
      },
      "outputs": [],
      "source": [
        "import yaml\n",
        "import pprint"
      ]
    },
    {
      "cell_type": "code",
      "execution_count": null,
      "id": "dc3f01c6",
      "metadata": {
        "id": "dc3f01c6"
      },
      "outputs": [],
      "source": [
        "with open('/content/cdvae/conf/train/default.yaml','r') as f:\n",
        "  yam = yaml.safe_load(f)\n",
        "#yam.pop('early_stopping')\n",
        "#yam['pl_trainer']['fast_dev_run']=True\n",
        "yam['pl_trainer']['gpus']=0"
      ]
    },
    {
      "cell_type": "code",
      "execution_count": null,
      "id": "30f82dd0",
      "metadata": {
        "id": "30f82dd0"
      },
      "outputs": [],
      "source": [
        "with open('/content/cdvae/conf/train/default.yaml','w') as f:\n",
        "  yaml.dump(yam,f)"
      ]
    },
    {
      "cell_type": "code",
      "execution_count": null,
      "id": "b6d19a18",
      "metadata": {
        "id": "b6d19a18"
      },
      "outputs": [],
      "source": [
        "pprint.pprint(yam)"
      ]
    },
    {
      "cell_type": "code",
      "execution_count": null,
      "id": "21db5e81",
      "metadata": {
        "id": "21db5e81"
      },
      "outputs": [],
      "source": [
        "with open('/content/cdvae/conf/optim/default.yaml','r') as f:\n",
        "  yam = yaml.safe_load(f)"
      ]
    },
    {
      "cell_type": "code",
      "execution_count": null,
      "id": "7a3a615e",
      "metadata": {
        "id": "7a3a615e"
      },
      "outputs": [],
      "source": [
        "yam['use_lr_scheduler']=False"
      ]
    },
    {
      "cell_type": "code",
      "execution_count": null,
      "id": "797a27e8",
      "metadata": {
        "id": "797a27e8"
      },
      "outputs": [],
      "source": [
        "with open('/content/cdvae/conf/optim/default.yaml','w') as f:\n",
        "  yaml.dump(yam,f)"
      ]
    },
    {
      "cell_type": "code",
      "execution_count": null,
      "id": "5d25f78e",
      "metadata": {
        "id": "5d25f78e"
      },
      "outputs": [],
      "source": [
        "pprint.pprint(yam)"
      ]
    },
    {
      "cell_type": "code",
      "execution_count": null,
      "id": "5604f080",
      "metadata": {
        "id": "5604f080"
      },
      "outputs": [],
      "source": [
        "# Commented out IPython magic to ensure Python compatibility.\n",
        "%%time\n",
        "# import os\n",
        "# os.environ[\"WANDB_ANONYMOUS\"] = \"must\"\n",
        "!python cdvae/run.py data=supercon expname=supercon_test02 model.predict_property=True"
      ]
    },
    {
      "cell_type": "code",
      "execution_count": null,
      "id": "3559edb7",
      "metadata": {
        "id": "3559edb7"
      },
      "outputs": [],
      "source": [
        "!pip install smact"
      ]
    },
    {
      "cell_type": "code",
      "execution_count": null,
      "id": "cc2c0320",
      "metadata": {
        "id": "cc2c0320"
      },
      "outputs": [],
      "source": [
        "\"\"\"Export conda environment\"\"\""
      ]
    },
    {
      "cell_type": "code",
      "execution_count": null,
      "id": "eef96277",
      "metadata": {
        "id": "eef96277"
      },
      "outputs": [],
      "source": [
        "!conda env export"
      ]
    },
    {
      "cell_type": "markdown",
      "id": "1db6842a",
      "metadata": {
        "id": "1db6842a"
      },
      "source": [
        "from datetime import date\n",
        "d1 = today.strftime(\"%Y-%m-%d\")"
      ]
    },
    {
      "cell_type": "code",
      "execution_count": null,
      "id": "3248fad8",
      "metadata": {
        "id": "3248fad8"
      },
      "outputs": [],
      "source": [
        "temp_dir=!ls /content/cdvae/HYDRA_JOBS/singlerun/"
      ]
    },
    {
      "cell_type": "code",
      "execution_count": null,
      "id": "6fa6178b",
      "metadata": {
        "id": "6fa6178b"
      },
      "outputs": [],
      "source": [
        "os.environ['TMP_DIR']=temp_dir[0]"
      ]
    },
    {
      "cell_type": "code",
      "execution_count": null,
      "id": "34318bdb",
      "metadata": {
        "id": "34318bdb"
      },
      "outputs": [],
      "source": [
        "!echo $TMP_DIR"
      ]
    },
    {
      "cell_type": "code",
      "execution_count": null,
      "id": "bce55c68",
      "metadata": {
        "id": "bce55c68"
      },
      "outputs": [],
      "source": [
        "\"\"\"Adjust path accordingly\"\"\""
      ]
    },
    {
      "cell_type": "code",
      "execution_count": null,
      "id": "8ef99862",
      "metadata": {
        "id": "8ef99862"
      },
      "outputs": [],
      "source": [
        "# Commented out IPython magic to ensure Python compatibility.\n",
        "%%time\n",
        "!python scripts/evaluate.py --n_step_each 5 --num_batches_to_samples 5 --batch_size 5 --model_path \"/content/cdvae/HYDRA_JOBS/singlerun/$TMP_DIR/supercon_test02\" --tasks opt gen recon"
      ]
    },
    {
      "cell_type": "code",
      "execution_count": null,
      "id": "bf53a28b",
      "metadata": {
        "id": "bf53a28b"
      },
      "outputs": [],
      "source": [
        "!pip install matminer"
      ]
    },
    {
      "cell_type": "code",
      "execution_count": null,
      "id": "3c5f39b9",
      "metadata": {
        "id": "3c5f39b9"
      },
      "outputs": [],
      "source": [
        "# Commented out IPython magic to ensure Python compatibility.\n",
        "%%time\n",
        "!python scripts/compute_metrics.py --root_path  \"/content/cdvae/HYDRA_JOBS/singlerun/$TMP_DIR/supercon_test02\" --tasks   gen recon"
      ]
    },
    {
      "cell_type": "code",
      "execution_count": null,
      "id": "d6847904",
      "metadata": {
        "id": "d6847904"
      },
      "outputs": [],
      "source": [
        "temp_dir[0]"
      ]
    },
    {
      "cell_type": "code",
      "execution_count": null,
      "id": "aa829261",
      "metadata": {
        "id": "aa829261"
      },
      "outputs": [],
      "source": [
        "!ls /content/cdvae/HYDRA_JOBS/singlerun/$TMP_DIR/supercon_test02/"
      ]
    },
    {
      "cell_type": "code",
      "execution_count": null,
      "id": "53cf75ea",
      "metadata": {
        "id": "53cf75ea"
      },
      "outputs": [],
      "source": [
        "import torch\n",
        "from jarvis.core.atoms import Atoms\n",
        "from jarvis.core.atoms import pmg_to_atoms\n",
        "from jarvis.core.lattice import Lattice\n",
        "from jarvis.core.specie import atomic_numbers_to_symbols\n",
        "from jarvis.db.jsonutils import dumpjson\n",
        "from jarvis.analysis.structure.spacegroup import Spacegroup3D\n",
        "from collections import Counter\n",
        "from pymatgen.core.structure import Structure\n",
        "import pandas as pd\n",
        "opt_path = \"/content/cdvae/HYDRA_JOBS/singlerun/\"+temp_dir[0]+\"/supercon_test02/eval_opt.pt\"\n",
        "gen_path = \"/content/cdvae/HYDRA_JOBS/singlerun/\"+temp_dir[0]+\"/supercon_test02/eval_gen.pt\"\n",
        "recon_path = \"/content/cdvae/HYDRA_JOBS/singlerun/\"+temp_dir[0]+\"/supercon_test02/eval_recon.pt\"\n",
        "csv_path = \"/content/cdvae/data/supercon/test.csv\"\n",
        "df = pd.read_csv(csv_path)\n",
        "x = torch.load(recon_path)\n",
        "y = torch.load(gen_path)\n",
        "z = torch.load(opt_path)\n",
        "print(len(df),x[\"num_atoms\"].shape,y[\"num_atoms\"].shape,z[\"num_atoms\"].shape)"
      ]
    },
    {
      "cell_type": "code",
      "execution_count": null,
      "id": "ea792654",
      "metadata": {
        "id": "ea792654"
      },
      "outputs": [],
      "source": [
        "num_atoms = x[\"num_atoms\"]\n",
        "atom_types = x[\"atom_types\"]\n",
        "frac_coords = x[\"frac_coords\"]\n",
        "lengths = x[\"lengths\"]\n",
        "angles = x[\"angles\"]\n",
        "index_list = torch.cumsum(num_atoms[0], dim=0).numpy().tolist()\n",
        "indice_tuples = []\n",
        "for i, ii in enumerate(index_list):\n",
        "    if i == 0:\n",
        "        tup = [0, index_list[i] - 1]\n",
        "    else:\n",
        "        tup = [index_list[i - 1] - 1, index_list[i] - 1]\n",
        "    indice_tuples.append(tup)"
      ]
    },
    {
      "cell_type": "code",
      "execution_count": null,
      "id": "dd90abbb",
      "metadata": {
        "id": "dd90abbb"
      },
      "outputs": [],
      "source": [
        "recon_structures = []"
      ]
    },
    {
      "cell_type": "code",
      "execution_count": null,
      "id": "0e572507",
      "metadata": {
        "id": "0e572507"
      },
      "outputs": [],
      "source": [
        "for id_needed in range(num_atoms.shape[1]):\n",
        "    id_fracs = frac_coords[0].numpy()[\n",
        "        indice_tuples[id_needed][0] : indice_tuples[id_needed][1]\n",
        "    ]\n",
        "    id_atom_types = atom_types[0].numpy()[\n",
        "        indice_tuples[id_needed][0] : indice_tuples[id_needed][1]\n",
        "    ]\n",
        "    id_lengths = lengths[0].numpy()[id_needed]\n",
        "    id_angles = angles[0].numpy()[id_needed]\n",
        "    lat = Lattice.from_parameters(\n",
        "        id_lengths[0],\n",
        "        id_lengths[1],\n",
        "        id_lengths[2],\n",
        "        id_angles[0],\n",
        "        id_angles[1],\n",
        "        id_angles[2],\n",
        "    ).matrix\n",
        "    atoms = Atoms(\n",
        "        lattice_mat=lat,\n",
        "        elements=atomic_numbers_to_symbols(id_atom_types),\n",
        "        coords=id_fracs,\n",
        "        cartesian=False,\n",
        "    )\n",
        "    # spg_numb = Spacegroup3D(atoms).space_group_number\n",
        "    # spg_numbs.append(spg_numb)\n",
        "\n",
        "    # print()\n",
        "    # print()\n",
        "    # print()\n",
        "    # print(\"jarvis\\n\", atoms)\n",
        "    # struct = Structure(\n",
        "    #    lattice=Lat.from_parameters(\n",
        "    #        id_lengths[0],\n",
        "    #        id_lengths[1],\n",
        "    #        id_lengths[2],\n",
        "    #        id_angles[0],\n",
        "    #        id_angles[1],\n",
        "    #        id_angles[2],\n",
        "    #    ),\n",
        "    #    species=id_atom_types,\n",
        "    #    coords=id_fracs,\n",
        "    #    coords_are_cartesian=False,\n",
        "    # )\n",
        "    # atoms = pmg_to_atoms(struct)\n",
        "    # print(\"pmg\\n\", atoms)\n",
        "    # print()\n",
        "    # print()\n",
        "    # print()\n",
        "\n",
        "    # gen_structures.append(atoms.to_dict())\n",
        "    recon_structures.append(atoms)"
      ]
    },
    {
      "cell_type": "code",
      "execution_count": null,
      "id": "d9ef3b19",
      "metadata": {
        "id": "d9ef3b19"
      },
      "outputs": [],
      "source": [
        "test_structures=[]\n",
        "jids = []\n",
        "for i,ii in df.iterrows():\n",
        "  atoms=pmg_to_atoms(Structure.from_str(ii['cif'],fmt='cif'))\n",
        "  test_structures.append(atoms)#.to_dict())\n",
        "  jids.append(ii['material_id'])"
      ]
    },
    {
      "cell_type": "code",
      "execution_count": null,
      "id": "b35377dc",
      "metadata": {
        "id": "b35377dc"
      },
      "outputs": [],
      "source": [
        "df"
      ]
    },
    {
      "cell_type": "code",
      "execution_count": null,
      "id": "d79c43d2",
      "metadata": {
        "id": "d79c43d2"
      },
      "outputs": [],
      "source": [
        "\"\"\"Uploading to JARVIS-Leaderboard.\"\"\""
      ]
    },
    {
      "cell_type": "code",
      "execution_count": null,
      "id": "5514542f",
      "metadata": {
        "id": "5514542f"
      },
      "outputs": [],
      "source": [
        "from jarvis.io.vasp.inputs import Poscar\n",
        "import json\n",
        "f=open('AI-AtomGen-Tc_supercon-dft_3d-test-rmse.csv','w')\n",
        "line='id,target,prediction\\n'\n",
        "f.write(line)\n",
        "for i,j,k in zip(test_structures,recon_structures,jids):\n",
        "  print(k,i.composition.reduced_formula,j.composition.reduced_formula)\n",
        "  line = k+\",\"+Poscar(i).to_string().replace('\\n','\\\\n')+\",\"+Poscar(j).to_string().replace('\\n','\\\\n')+\"\\n\"\n",
        "  #line = k+\",\"+json.dumps(i.to_dict())+\",\"+json.dumps(j.to_dict())+\"\\n\"\n",
        "  f.write(line)\n",
        "f.close()\n",
        "#zip file before uploading to JARVIS-Leadrboard"
      ]
    },
    {
      "cell_type": "code",
      "execution_count": null,
      "id": "2f2e5088",
      "metadata": {
        "id": "2f2e5088"
      },
      "outputs": [],
      "source": [
        "dfx = pd.read_csv('AI-AtomGen-Tc_supercon-dft_3d-test-rmse.csv')"
      ]
    },
    {
      "cell_type": "code",
      "execution_count": null,
      "id": "ec82bea9",
      "metadata": {
        "id": "ec82bea9"
      },
      "outputs": [],
      "source": [
        "import pandas as pd\n",
        "info = {}\n",
        "test_path = pd.read_csv(\"/content/cdvae/data/supercon/test.csv\")\n",
        "val_path = pd.read_csv(\"/content/cdvae/data/supercon/val.csv\")\n",
        "train_path = pd.read_csv(\"/content/cdvae/data/supercon/train.csv\")\n",
        "test={}\n",
        "val={}\n",
        "train={}"
      ]
    },
    {
      "cell_type": "code",
      "execution_count": null,
      "id": "dc1f1277",
      "metadata": {
        "id": "dc1f1277"
      },
      "outputs": [],
      "source": [
        "for i,ii in train_path.iterrows():\n",
        "  atoms=pmg_to_atoms(Structure.from_str(ii['cif'],fmt='cif'))\n",
        "  pos = Poscar(atoms).to_string().replace('\\n','\\\\n')\n",
        "  jid=ii['material_id']\n",
        "  train[jid]=pos"
      ]
    },
    {
      "cell_type": "code",
      "execution_count": null,
      "id": "b0958dd1",
      "metadata": {
        "id": "b0958dd1"
      },
      "outputs": [],
      "source": [
        "for i,ii in val_path.iterrows():\n",
        "  atoms=pmg_to_atoms(Structure.from_str(ii['cif'],fmt='cif'))\n",
        "  pos = Poscar(atoms).to_string().replace('\\n','\\\\n')\n",
        "  jid=ii['material_id']\n",
        "  val[jid]=pos"
      ]
    },
    {
      "cell_type": "code",
      "execution_count": null,
      "id": "0797f96d",
      "metadata": {
        "id": "0797f96d"
      },
      "outputs": [],
      "source": [
        "for i,ii in test_path.iterrows():\n",
        "  atoms=pmg_to_atoms(Structure.from_str(ii['cif'],fmt='cif'))\n",
        "  pos = Poscar(atoms).to_string().replace('\\n','\\\\n')\n",
        "  jid=ii['material_id']\n",
        "  test[jid]=pos\n",
        "info['train']=train\n",
        "info['val']=val\n",
        "info['test']=test"
      ]
    },
    {
      "cell_type": "code",
      "execution_count": null,
      "id": "0d9554ae",
      "metadata": {
        "id": "0d9554ae"
      },
      "outputs": [],
      "source": [
        "from jarvis.db.jsonutils import dumpjson\n",
        "dumpjson(data=info,filename='dft_3d_Tc_supercon.json')"
      ]
    },
    {
      "cell_type": "code",
      "execution_count": null,
      "id": "e8e1c9ca",
      "metadata": {
        "id": "e8e1c9ca"
      },
      "outputs": [],
      "source": [
        "test_path"
      ]
    },
    {
      "cell_type": "code",
      "execution_count": null,
      "id": "d1a0aa29",
      "metadata": {
        "id": "d1a0aa29"
      },
      "outputs": [],
      "source": [
        "!cp scripts/compute_metrics.py scripts/eval_utils.py ."
      ]
    },
    {
      "cell_type": "code",
      "execution_count": null,
      "id": "73e0ca5f",
      "metadata": {
        "id": "73e0ca5f"
      },
      "outputs": [],
      "source": [
        "!ls"
      ]
    },
    {
      "cell_type": "code",
      "execution_count": null,
      "id": "80edbbba",
      "metadata": {
        "id": "80edbbba"
      },
      "outputs": [],
      "source": [
        "import numpy as np\n",
        "from pymatgen.analysis.structure_matcher import StructureMatcher\n",
        "import pandas as pd\n",
        "from jarvis.io.vasp.inputs import Poscar\n",
        "from tqdm import tqdm\n",
        "df=pd.read_csv('AI-AtomGen-Tc_supercon-dft_3d-test-rmse.csv')"
      ]
    },
    {
      "cell_type": "code",
      "execution_count": null,
      "id": "f52f9e79",
      "metadata": {
        "id": "f52f9e79"
      },
      "outputs": [],
      "source": [
        "matcher = StructureMatcher(stol=0.5, angle_tol=10, ltol=0.3)\n",
        "rms = []\n",
        "for m, mm in tqdm(df.iterrows()):\n",
        "    try:\n",
        "        atoms_target = (\n",
        "            Poscar.from_string(\n",
        "                (mm[\"target\"].replace(\"\\\\n\", \"\\n\"))\n",
        "            ).atoms\n",
        "        ).pymatgen_converter()\n",
        "        atoms_pred = (\n",
        "            Poscar.from_string(\n",
        "                (mm[\"prediction\"].replace(\"\\\\n\", \"\\n\"))\n",
        "            ).atoms\n",
        "        ).pymatgen_converter()\n",
        "        # rms_dist = matcher.get_rms_dist(atoms_pred,atoms_target)\n",
        "        rms_dist = matcher.get_rms_anonymous(atoms_pred, atoms_target)\n",
        "        if rms_dist[0] is not None:\n",
        "            rms.append(rms_dist[0])\n",
        "    except Exception as exp:\n",
        "        print(\"exp\", exp)\n",
        "        pass\n",
        "rms = round(np.array(rms).mean(), 4)\n",
        "print('rms', rms)"
      ]
    },
    {
      "cell_type": "code",
      "execution_count": null,
      "id": "2ff9328b",
      "metadata": {
        "id": "2ff9328b"
      },
      "outputs": [],
      "source": [
        "!conda env export"
      ]
    },
    {
      "cell_type": "code",
      "execution_count": null,
      "id": "aead867b",
      "metadata": {
        "id": "aead867b"
      },
      "outputs": [],
      "source": [
        "!pip install matminer==0.9.0"
      ]
    },
    {
      "cell_type": "code",
      "execution_count": null,
      "id": "6166cd56",
      "metadata": {
        "id": "6166cd56"
      },
      "outputs": [],
      "source": [
        "!rm -rf /usr/local/lib/python3.10/dist-packages/pandas*\n",
        "!pip uninstall pandas -y\n",
        "!pip install pandas==1.5.3"
      ]
    },
    {
      "cell_type": "code",
      "execution_count": null,
      "id": "dfefd405",
      "metadata": {
        "id": "dfefd405"
      },
      "outputs": [],
      "source": []
    },
    {
      "cell_type": "code",
      "execution_count": null,
      "id": "c1657e19",
      "metadata": {
        "lines_to_next_cell": 2,
        "id": "c1657e19"
      },
      "outputs": [],
      "source": [
        "from p_tqdm import p_map\n",
        "from compute_metrics import GenEval,get_crystal_array_list,Crystal, RecEval\n",
        "crys_array_list, true_crystal_array_list = get_crystal_array_list(recon_path)\n",
        "pred_crys = p_map(lambda x: Crystal(x), crys_array_list)\n",
        "gt_crys = p_map(lambda x: Crystal(x), true_crystal_array_list)\n",
        "rec_evaluator = RecEval(pred_crys, gt_crys)\n",
        "recon_metrics = rec_evaluator.get_metrics()"
      ]
    },
    {
      "cell_type": "code",
      "execution_count": null,
      "id": "e599e3ff",
      "metadata": {
        "id": "e599e3ff"
      },
      "outputs": [],
      "source": [
        "crys_array_list, _ = get_crystal_array_list(gen_path)\n",
        "gen_crys = p_map(lambda x: Crystal(x), crys_array_list)\n",
        "gen_evaluator = GenEval(gen_crys, gt_crys, eval_model_name='carbon')\n",
        "gen_metrics = gen_evaluator.get_metrics()\n",
        "print(recon_metrics)"
      ]
    },
    {
      "cell_type": "code",
      "execution_count": null,
      "id": "d5f96eac",
      "metadata": {
        "id": "d5f96eac"
      },
      "outputs": [],
      "source": [
        "print(recon_metrics)"
      ]
    },
    {
      "cell_type": "code",
      "execution_count": null,
      "id": "385d6e74",
      "metadata": {
        "id": "385d6e74"
      },
      "outputs": [],
      "source": [
        "print(gen_metrics)"
      ]
    },
    {
      "cell_type": "code",
      "execution_count": null,
      "id": "dc8f83a5",
      "metadata": {
        "id": "dc8f83a5"
      },
      "outputs": [],
      "source": [
        "pip install alignn"
      ]
    },
    {
      "cell_type": "code",
      "execution_count": null,
      "id": "751ce2fd",
      "metadata": {
        "id": "751ce2fd"
      },
      "outputs": [],
      "source": [
        "from alignn.pretrained import get_multiple_predictions"
      ]
    },
    {
      "cell_type": "code",
      "execution_count": null,
      "id": "682a8924",
      "metadata": {
        "id": "682a8924"
      },
      "outputs": [],
      "source": [
        "atoms"
      ]
    },
    {
      "cell_type": "code",
      "execution_count": null,
      "id": "26a3bdc8",
      "metadata": {
        "id": "26a3bdc8"
      },
      "outputs": [],
      "source": [
        "atoms.write_poscar('POSCAR')"
      ]
    },
    {
      "cell_type": "code",
      "execution_count": null,
      "id": "847fb25f",
      "metadata": {
        "id": "847fb25f"
      },
      "outputs": [],
      "source": [
        "\"\"\"Quickly predict Tc and other properties\"\"\""
      ]
    },
    {
      "cell_type": "code",
      "execution_count": null,
      "id": "294219aa",
      "metadata": {
        "id": "294219aa"
      },
      "outputs": [],
      "source": [
        "!pretrained.py --model_name jv_supercon_tc_alignn --file_format poscar --file_path POSCAR"
      ]
    },
    {
      "cell_type": "code",
      "execution_count": null,
      "id": "f1861dbb",
      "metadata": {
        "id": "f1861dbb"
      },
      "outputs": [],
      "source": [
        "!pretrained.py --model_name jv_supercon_debye_alignn --file_format poscar --file_path POSCAR"
      ]
    },
    {
      "cell_type": "code",
      "execution_count": null,
      "id": "4f972894",
      "metadata": {
        "id": "4f972894"
      },
      "outputs": [],
      "source": [
        "!pretrained.py --model_name jv_supercon_edos_alignn --file_format poscar --file_path POSCAR"
      ]
    },
    {
      "cell_type": "code",
      "execution_count": null,
      "id": "58964b0f",
      "metadata": {
        "id": "58964b0f"
      },
      "outputs": [],
      "source": [
        "!pretrained.py --model_name jv_supercon_a2F_alignn --file_format poscar --file_path POSCAR"
      ]
    },
    {
      "cell_type": "code",
      "execution_count": null,
      "id": "5c49ad9c",
      "metadata": {
        "id": "5c49ad9c"
      },
      "outputs": [],
      "source": [
        "!pretrained.py --model_name jv_formation_energy_peratom_alignn --file_format poscar --file_path POSCAR"
      ]
    },
    {
      "cell_type": "code",
      "execution_count": null,
      "id": "ce83b360",
      "metadata": {
        "id": "ce83b360"
      },
      "outputs": [],
      "source": [
        "!pip freeze"
      ]
    },
    {
      "cell_type": "code",
      "execution_count": null,
      "id": "757808f7",
      "metadata": {
        "id": "757808f7"
      },
      "outputs": [],
      "source": []
    },
    {
      "cell_type": "code",
      "execution_count": null,
      "id": "87149d92",
      "metadata": {
        "id": "87149d92"
      },
      "outputs": [],
      "source": []
    },
    {
      "cell_type": "code",
      "execution_count": null,
      "id": "2dde8099",
      "metadata": {
        "id": "2dde8099"
      },
      "outputs": [],
      "source": []
    },
    {
      "cell_type": "code",
      "execution_count": null,
      "id": "1d34e09b",
      "metadata": {
        "lines_to_next_cell": 2,
        "id": "1d34e09b"
      },
      "outputs": [],
      "source": []
    }
  ],
  "metadata": {
    "jupytext": {
      "cell_metadata_filter": "-all",
      "encoding": "# -*- coding: utf-8 -*-",
      "main_language": "python",
      "notebook_metadata_filter": "-all"
    },
    "colab": {
      "provenance": [],
      "include_colab_link": true
    },
    "language_info": {
      "name": "python"
    },
    "kernelspec": {
      "name": "python3",
      "display_name": "Python 3"
    }
  },
  "nbformat": 4,
  "nbformat_minor": 5
}