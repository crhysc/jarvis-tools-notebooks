{
  "cells": [
    {
      "cell_type": "markdown",
      "metadata": {
        "id": "view-in-github",
        "colab_type": "text"
      },
      "source": [
        "<a href=\"https://colab.research.google.com/github/crhysc/jarvis-tools-notebooks/blob/master/cdvae_example.ipynb\" target=\"_parent\"><img src=\"https://colab.research.google.com/assets/colab-badge.svg\" alt=\"Open In Colab\"/></a>"
      ]
    },
    {
      "cell_type": "markdown",
      "source": [
        "# Inverse Design of Next-Generation Superconductors Using Data-Driven Deep Generative Models\n",
        "\n",
        "# Tutorial: CDVAE, Crystal Diffusion Variational AutoEncoder\n",
        "\n",
        "\n",
        "\n",
        "[Reference DOI](https://pubs.acs.org/doi/10.1021/acs.jpclett.3c01260)\n",
        "\n",
        "Authors: Charles \"Rhys\" Campbell (crc00042@mix.wvu.edu), Kamal Choudhary (kamal.choudhary@nist.gov),"
      ],
      "metadata": {
        "id": "MUMuDXuhXvRE"
      },
      "id": "MUMuDXuhXvRE"
    },
    {
      "cell_type": "markdown",
      "source": [
        "# (1) INTRODUCTION AND MOTIVATION\n"
      ],
      "metadata": {
        "id": "GHy9RobiX6HO"
      },
      "id": "GHy9RobiX6HO"
    },
    {
      "cell_type": "markdown",
      "source": [
        "# (2) INSTALLATION, CONFIGURATION, AND DEPENDENCIES\n"
      ],
      "metadata": {
        "id": "RxCe6MOhX8wW"
      },
      "id": "RxCe6MOhX8wW"
    },
    {
      "cell_type": "markdown",
      "source": [
        "# Install Conda"
      ],
      "metadata": {
        "id": "ZFu1FE4zxU_G"
      },
      "id": "ZFu1FE4zxU_G"
    },
    {
      "cell_type": "code",
      "execution_count": null,
      "id": "d40fa633",
      "metadata": {
        "id": "d40fa633"
      },
      "outputs": [],
      "source": [
        "!pip install -q condacolab\n",
        "import condacolab, os, sys\n",
        "condacolab.install()\n",
        "print(\"Done\")"
      ]
    },
    {
      "cell_type": "markdown",
      "source": [
        "# Install CDVAE"
      ],
      "metadata": {
        "id": "RxnmdEiyX-3s"
      },
      "id": "RxnmdEiyX-3s"
    },
    {
      "cell_type": "code",
      "execution_count": null,
      "id": "87930ce0",
      "metadata": {
        "id": "87930ce0",
        "collapsed": true
      },
      "outputs": [],
      "source": [
        "import os\n",
        "%cd /content\n",
        "if not os.path.exists('cdvae'):\n",
        "  !git clone https://github.com/txie-93/cdvae.git\n",
        "print(\"Done\")"
      ]
    },
    {
      "cell_type": "markdown",
      "source": [
        "# Switch Colab Runtime to GPU\n",
        "At the top menu by the Colab logo, select **Runtime** -> **Change runtime type** -> **Any GPU**    \n",
        "\n",
        "If this works, create GPU-based conda environment.  \n",
        "\n",
        "If this fails due to usage limits, make the CPU-based conda environment.  \n",
        "\n"
      ],
      "metadata": {
        "id": "RKNI_pfiYKez"
      },
      "id": "RKNI_pfiYKez"
    },
    {
      "cell_type": "markdown",
      "source": [
        "# Create **GPU**-based conda environment for CDVAE\n",
        "\n",
        "#### Creating the **GPU** legacy env takes 7 minutes\n"
      ],
      "metadata": {
        "id": "I5U2uH3HYGYA"
      },
      "id": "I5U2uH3HYGYA"
    },
    {
      "cell_type": "code",
      "execution_count": null,
      "id": "4309419c",
      "metadata": {
        "id": "4309419c"
      },
      "outputs": [],
      "source": [
        "%%time\n",
        "%cd /content/cdvae\n",
        "!mamba env create -p /usr/local/envs/cdvae_legacy -f env.yml\n",
        "!conda run -p /usr/local/envs/cdvae_legacy --live-stream\\\n",
        "    mamba install -c conda-forge \"torchmetrics<0.8\" --yes\n",
        "!conda run -p /usr/local/envs/cdvae_legacy --live-stream\\\n",
        "    mamba install mkl=2024.0 --yes\n",
        "!conda run -p /usr/local/envs/cdvae_legacy --live-stream\\\n",
        "    pip install \"monty==2022.9.9\"\n",
        "!conda run -p /usr/local/envs/cdvae_legacy --live-stream\\\n",
        "    mamba install -c conda-forge \"pymatgen>=2022.0.8,<2023\" --yes\n",
        "!conda run 3\n",
        "1-p /usr/local/envs/cdvae_legacy --live-stream\\\n",
        "    pip install -e .\n",
        "print(\"Done\")"
      ]
    },
    {
      "cell_type": "code",
      "execution_count": null,
      "id": "89b6b2d5",
      "metadata": {
        "id": "89b6b2d5"
      },
      "outputs": [],
      "source": [
        "!conda run -p /usr/local/envs/cdvae_legacy python -c \"import sys; print(sys.version)\"\n",
        "# proves that conda is running python 3.8.*"
      ]
    },
    {
      "cell_type": "markdown",
      "source": [
        "# Create **CPU**-based conda environment for CDVAE\n",
        "\n",
        "#### Creating the **CPU** legacy env takes 10 minutes\n"
      ],
      "metadata": {
        "id": "fvXUH6LBbrO-"
      },
      "id": "fvXUH6LBbrO-"
    },
    {
      "cell_type": "code",
      "source": [
        "%%time\n",
        "%cd /content/cdvae\n",
        "!mamba env create -p /usr/local/envs/cdvae_legacy -f env.cpu.yml\n",
        "!conda run -p /usr/local/envs/cdvae_legacy --live-stream\\\n",
        "    mamba install -c conda-forge \"torchmetrics<0.8\" --yes\n",
        "!conda run -p /usr/local/envs/cdvae_legacy --live-stream\\\n",
        "    mamba install mkl=2024.0 --yes\n",
        "!conda run -p /usr/local/envs/cdvae_legacy --live-stream\\\n",
        "    pip install \"monty==2022.9.9\"\n",
        "!conda run -p /usr/local/envs/cdvae_legacy --live-stream\\\n",
        "    mamba install -c conda-forge \"pymatgen>=2022.0.8,<2023\" --yes\n",
        "!conda run -p /usr/local/envs/cdvae_legacy --live-stream\\\n",
        "    pip install -e .\n",
        "print(\"Done\")"
      ],
      "metadata": {
        "id": "EhndWC7Qd8Yo",
        "collapsed": true
      },
      "id": "EhndWC7Qd8Yo",
      "execution_count": null,
      "outputs": []
    },
    {
      "cell_type": "markdown",
      "source": [
        "# Install Dataset ETL dependencies\n"
      ],
      "metadata": {
        "id": "-S-tghd_r5at"
      },
      "id": "-S-tghd_r5at"
    },
    {
      "cell_type": "markdown",
      "source": [],
      "metadata": {
        "id": "EHjMaXujxor2"
      },
      "id": "EHjMaXujxor2"
    },
    {
      "cell_type": "code",
      "source": [
        "!conda run -p /usr/local/envs/cdvae_legacy \\\n",
        "    pip install pandas jarvis-tools"
      ],
      "metadata": {
        "collapsed": true,
        "id": "57uFtXBbs8-l"
      },
      "id": "57uFtXBbs8-l",
      "execution_count": null,
      "outputs": []
    },
    {
      "cell_type": "markdown",
      "source": [
        "# (3) DATASET ETL (Extract-Transform-Load)\n"
      ],
      "metadata": {
        "id": "U0r5S-jNYNje"
      },
      "id": "U0r5S-jNYNje"
    },
    {
      "cell_type": "markdown",
      "source": [
        "# Download data pre-processor"
      ],
      "metadata": {
        "id": "w0bEujxyydMx"
      },
      "id": "w0bEujxyydMx"
    },
    {
      "cell_type": "markdown",
      "source": [
        "Data was generated using this [script](https://github.com/JARVIS-Materials-Design/cdvae/blob/main/scripts/generate_data_cdvae.py). It lives in the JARVIS Materials design repository, and it compiles a set of around 1000 structures and their superconducting critical temperatures into the format required for CDVAE training."
      ],
      "metadata": {
        "id": "yA221iCNZyh-"
      },
      "id": "yA221iCNZyh-"
    },
    {
      "cell_type": "code",
      "execution_count": null,
      "id": "a01b9fa5",
      "metadata": {
        "id": "a01b9fa5"
      },
      "outputs": [],
      "source": [
        "%cd /content/cdvae/scripts\n",
        "!wget https://raw.githubusercontent.com/JARVIS-Materials-Design/cdvae/refs/heads/main/scripts/generate_data_cdvae.py"
      ]
    },
    {
      "cell_type": "markdown",
      "source": [
        "# Run data pre-processor"
      ],
      "metadata": {
        "id": "0QyFCXnQyh1u"
      },
      "id": "0QyFCXnQyh1u"
    },
    {
      "cell_type": "code",
      "source": [
        "!conda run -p /usr/local/envs/cdvae_legacy --live-stream \\\n",
        "    python generate_data_cdvae.py\n",
        "print(\"Done\")"
      ],
      "metadata": {
        "id": "10tlt-F9hOkC"
      },
      "id": "10tlt-F9hOkC",
      "execution_count": null,
      "outputs": []
    },
    {
      "cell_type": "markdown",
      "source": [
        "# Move train/test/val data to the correct spot"
      ],
      "metadata": {
        "id": "c-lJ4YZRylJW"
      },
      "id": "c-lJ4YZRylJW"
    },
    {
      "cell_type": "code",
      "source": [
        "%cd /content\n",
        "%mkdir /content/cdvae/data/supercon\n",
        "%mv /content/cdvae/scripts/train.csv /content/cdvae/data/supercon/\n",
        "%mv /content/cdvae/scripts/val.csv /content/cdvae/data/supercon/\n",
        "%mv /content/cdvae/scripts/test.csv /content/cdvae/data/supercon/\n",
        "print(\"Done\")"
      ],
      "metadata": {
        "id": "EDghvbM-oSi6"
      },
      "id": "EDghvbM-oSi6",
      "execution_count": null,
      "outputs": []
    },
    {
      "cell_type": "markdown",
      "source": [
        "# Pull the supercon Hydra config YAML from JARVIS"
      ],
      "metadata": {
        "id": "gXIfC4ZZIN5y"
      },
      "id": "gXIfC4ZZIN5y"
    },
    {
      "cell_type": "code",
      "source": [
        "%cd /content/cdvae/conf/data/\n",
        "!wget https://raw.githubusercontent.com/JARVIS-Materials-Design/cdvae/refs/heads/main/conf/data/supercon.yaml"
      ],
      "metadata": {
        "id": "tnBU6MCdIT9e"
      },
      "id": "tnBU6MCdIT9e",
      "execution_count": null,
      "outputs": []
    },
    {
      "cell_type": "code",
      "source": [
        "%cd /content/cdvae/\n",
        "%rm -rf hydra_outputs/"
      ],
      "metadata": {
        "id": "AHudSu7FNcxA"
      },
      "id": "AHudSu7FNcxA",
      "execution_count": null,
      "outputs": []
    },
    {
      "cell_type": "markdown",
      "source": [
        "# (4) TRAIN WITHOUT PROPERTY PREDICTOR"
      ],
      "metadata": {
        "id": "G7RtzMrfZ16h"
      },
      "id": "G7RtzMrfZ16h"
    },
    {
      "cell_type": "markdown",
      "source": [
        "# If using **GPU**"
      ],
      "metadata": {
        "id": "d2TZYO2mWsG0"
      },
      "id": "d2TZYO2mWsG0"
    },
    {
      "cell_type": "code",
      "execution_count": null,
      "id": "a53248c0",
      "metadata": {
        "id": "a53248c0",
        "collapsed": true
      },
      "outputs": [],
      "source": [
        "!PROJECT_ROOT=/content/cdvae \\\n",
        " HYDRA_JOBS=/content/cdvae/hydra_outputs \\\n",
        " HYDRA_FULL_ERROR=1 \\\n",
        " WABDB_DIR=/content/cdvae/wandb_outputs \\\n",
        " WANDB_ANONYMOUS=allow \\\n",
        " conda run -p /usr/local/envs/cdvae_legacy --live-stream \\\n",
        "    python -u -m cdvae.run data=supercon expname=supercon"
      ]
    },
    {
      "cell_type": "markdown",
      "source": [
        "# If using **CPU**"
      ],
      "metadata": {
        "id": "kTiAeHCNWySO"
      },
      "id": "kTiAeHCNWySO"
    },
    {
      "cell_type": "code",
      "source": [
        "!PROJECT_ROOT=/content/cdvae \\\n",
        " HYDRA_JOBS=/content/cdvae/hydra_outputs \\\n",
        " HYDRA_FULL_ERROR=1 \\\n",
        " WABDB_DIR=/content/cdvae/wandb_outputs \\\n",
        " WANDB_ANONYMOUS=allow \\\n",
        " conda run -p /usr/local/envs/cdvae_legacy --live-stream \\\n",
        "    python -u -m cdvae.run data=supercon expname=supercon \\\n",
        "    model.max_noise_level=2 \\\n",
        "    data.train_max_epochs=2 \\\n",
        "    train.pl_trainer.gpus=0"
      ],
      "metadata": {
        "collapsed": true,
        "id": "HzvxQufsW02F"
      },
      "id": "HzvxQufsW02F",
      "execution_count": null,
      "outputs": []
    },
    {
      "cell_type": "markdown",
      "source": [
        "# (5) TRAIN WITH PROPERTY PREDICTOR"
      ],
      "metadata": {
        "id": "BdD4OYhiZ6RR"
      },
      "id": "BdD4OYhiZ6RR"
    },
    {
      "cell_type": "markdown",
      "source": [
        "# If using **GPU**"
      ],
      "metadata": {
        "id": "ATDbkZDNYaNV"
      },
      "id": "ATDbkZDNYaNV"
    },
    {
      "cell_type": "code",
      "execution_count": null,
      "id": "1b4bd253",
      "metadata": {
        "id": "1b4bd253",
        "collapsed": true
      },
      "outputs": [],
      "source": [
        "!PROJECT_ROOT=/content/cdvae \\\n",
        " HYDRA_JOBS=/content/cdvae/hydra_outputs \\\n",
        " HYDRA_FULL_ERROR=1 \\\n",
        " WABDB_DIR=/content/cdvae/wandb_outputs \\\n",
        " WANDB_ANONYMOUS=allow \\\n",
        " conda run -p /usr/local/envs/cdvae_legacy --live-stream \\\n",
        "    python -u -m cdvae.run data=supercon expname=supercon\n",
        "    model.max_noise_level=2 \\\n",
        "    data.train_max_epochs=2 \\\n",
        "    model.predict_property=True \\\n",
        "    train.pl_trainer.gpus=0"
      ]
    },
    {
      "cell_type": "markdown",
      "source": [
        "# If using **CPU**"
      ],
      "metadata": {
        "id": "Cjt9VBcKYsW5"
      },
      "id": "Cjt9VBcKYsW5"
    },
    {
      "cell_type": "code",
      "source": [
        "!PROJECT_ROOT=/content/cdvae \\\n",
        " HYDRA_JOBS=/content/cdvae/hydra_outputs \\\n",
        " HYDRA_FULL_ERROR=1 \\\n",
        " WABDB_DIR=/content/cdvae/wandb_outputs \\\n",
        " WANDB_ANONYMOUS=allow \\\n",
        " conda run -p /usr/local/envs/cdvae_legacy --live-stream \\\n",
        "    python -u -m cdvae.run data=supercon expname=supercon \\\n",
        "    model.predict_property=True \\\n",
        "    data.train_max_epochs=2 \\\n",
        "    model.max_noise_level=2 \\\n",
        "    train.pl_trainer.gpus=0"
      ],
      "metadata": {
        "id": "G99tTkqOY7fc"
      },
      "id": "G99tTkqOY7fc",
      "execution_count": null,
      "outputs": []
    },
    {
      "cell_type": "markdown",
      "source": [
        "# (6) INFERENCE"
      ],
      "metadata": {
        "id": "82OOqQ49aAgQ"
      },
      "id": "82OOqQ49aAgQ"
    },
    {
      "cell_type": "markdown",
      "source": [
        "# Reconstruction"
      ],
      "metadata": {
        "id": "p-e0LL9bJH80"
      },
      "id": "p-e0LL9bJH80"
    },
    {
      "cell_type": "code",
      "source": [
        "!PROJECT_ROOT=/content/cdvae \\\n",
        " HYDRA_JOBS=/content/cdvae/hydra_outputs \\\n",
        " WABDB_DIR=/content/cdvae/wandb_outputs \\\n",
        " conda run -p /usr/local/envs/cdvae_legacy --live-stream \\\n",
        "    python scripts/evaluate.py \\\n",
        "    --model_path /content/cdvae/hydra_outputs/singlerun/2025-05-27/supercon \\\n",
        "    --tasks recon"
      ],
      "metadata": {
        "id": "36yfncwoIjTG"
      },
      "id": "36yfncwoIjTG",
      "execution_count": null,
      "outputs": []
    },
    {
      "cell_type": "markdown",
      "source": [
        "# Generation"
      ],
      "metadata": {
        "id": "PhoRljBrJJ7i"
      },
      "id": "PhoRljBrJJ7i"
    },
    {
      "cell_type": "code",
      "source": [
        "!PROJECT_ROOT=/content/cdvae \\\n",
        " HYDRA_JOBS=/content/cdvae/hydra_outputs \\\n",
        " WABDB_DIR=/content/cdvae/wandb_outputs \\\n",
        " conda run -p /usr/local/envs/cdvae_legacy --live-stream \\\n",
        "    python scripts/evaluate.py --model_path MODEL_PATH --tasks gen"
      ],
      "metadata": {
        "id": "gE6Bco3GIkij"
      },
      "id": "gE6Bco3GIkij",
      "execution_count": null,
      "outputs": []
    },
    {
      "cell_type": "markdown",
      "source": [
        "# Optimization"
      ],
      "metadata": {
        "id": "ThQg4vGDJMrL"
      },
      "id": "ThQg4vGDJMrL"
    },
    {
      "cell_type": "code",
      "source": [
        "!PROJECT_ROOT=/content/cdvae \\\n",
        " HYDRA_JOBS=/content/cdvae/hydra_outputs \\\n",
        " WABDB_DIR=/content/cdvae/wandb_outputs \\\n",
        " conda run -p /usr/local/envs/cdvae_legacy --live-stream \\\n",
        "    python scripts/evaluate.py --model_path MODEL_PATH --tasks opt"
      ],
      "metadata": {
        "id": "Bx_nI234iDkG"
      },
      "id": "Bx_nI234iDkG",
      "execution_count": null,
      "outputs": []
    },
    {
      "cell_type": "markdown",
      "source": [
        "# (7) NEXT STEPS & REFERENCES"
      ],
      "metadata": {
        "id": "yYLQD0k7aC2K"
      },
      "id": "yYLQD0k7aC2K"
    }
  ],
  "metadata": {
    "jupytext": {
      "cell_metadata_filter": "-all",
      "encoding": "# -*- coding: utf-8 -*-",
      "main_language": "python",
      "notebook_metadata_filter": "-all"
    },
    "colab": {
      "provenance": [],
      "include_colab_link": true
    },
    "language_info": {
      "name": "python"
    },
    "kernelspec": {
      "name": "python3",
      "display_name": "Python 3"
    }
  },
  "nbformat": 4,
  "nbformat_minor": 5
}